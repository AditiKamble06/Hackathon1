{
  "nbformat": 4,
  "nbformat_minor": 0,
  "metadata": {
    "colab": {
      "provenance": [],
      "gpuType": "T4",
      "authorship_tag": "ABX9TyPXStEiVWEaTPDSkAlUUD6m",
      "include_colab_link": true
    },
    "kernelspec": {
      "name": "python3",
      "display_name": "Python 3"
    },
    "language_info": {
      "name": "python"
    },
    "accelerator": "GPU"
  },
  "cells": [
    {
      "cell_type": "markdown",
      "metadata": {
        "id": "view-in-github",
        "colab_type": "text"
      },
      "source": [
        "<a href=\"https://colab.research.google.com/github/AditiKamble06/Hackathon1/blob/main/Hackathon2.ipynb\" target=\"_parent\"><img src=\"https://colab.research.google.com/assets/colab-badge.svg\" alt=\"Open In Colab\"/></a>"
      ]
    },
    {
      "cell_type": "code",
      "execution_count": 1,
      "metadata": {
        "colab": {
          "base_uri": "https://localhost:8080/"
        },
        "id": "wsxC5zym06PX",
        "outputId": "dd40e2ac-7dd5-46de-89d9-8d0a3f63087c"
      },
      "outputs": [
        {
          "output_type": "stream",
          "name": "stdout",
          "text": [
            "Collecting pydantic==1.10.2\n",
            "  Downloading pydantic-1.10.2-cp310-cp310-manylinux_2_17_x86_64.manylinux2014_x86_64.whl (12.8 MB)\n",
            "\u001b[2K     \u001b[90m━━━━━━━━━━━━━━━━━━━━━━━━━━━━━━━━━━━━━━━━\u001b[0m \u001b[32m12.8/12.8 MB\u001b[0m \u001b[31m34.9 MB/s\u001b[0m eta \u001b[36m0:00:00\u001b[0m\n",
            "\u001b[?25hCollecting pandas-profiling\n",
            "  Downloading pandas_profiling-3.6.6-py2.py3-none-any.whl (324 kB)\n",
            "\u001b[2K     \u001b[90m━━━━━━━━━━━━━━━━━━━━━━━━━━━━━━━━━━━━━━━━\u001b[0m \u001b[32m324.4/324.4 kB\u001b[0m \u001b[31m16.6 MB/s\u001b[0m eta \u001b[36m0:00:00\u001b[0m\n",
            "\u001b[?25hRequirement already satisfied: typing-extensions>=4.1.0 in /usr/local/lib/python3.10/dist-packages (from pydantic==1.10.2) (4.12.2)\n",
            "Collecting ydata-profiling (from pandas-profiling)\n",
            "  Downloading ydata_profiling-4.8.3-py2.py3-none-any.whl (359 kB)\n",
            "\u001b[2K     \u001b[90m━━━━━━━━━━━━━━━━━━━━━━━━━━━━━━━━━━━━━━━━\u001b[0m \u001b[32m359.5/359.5 kB\u001b[0m \u001b[31m26.1 MB/s\u001b[0m eta \u001b[36m0:00:00\u001b[0m\n",
            "\u001b[?25hRequirement already satisfied: scipy<1.14,>=1.4.1 in /usr/local/lib/python3.10/dist-packages (from ydata-profiling->pandas-profiling) (1.11.4)\n",
            "Requirement already satisfied: pandas!=1.4.0,<3,>1.1 in /usr/local/lib/python3.10/dist-packages (from ydata-profiling->pandas-profiling) (2.0.3)\n",
            "Requirement already satisfied: matplotlib<3.9,>=3.2 in /usr/local/lib/python3.10/dist-packages (from ydata-profiling->pandas-profiling) (3.7.1)\n",
            "INFO: pip is looking at multiple versions of ydata-profiling to determine which version is compatible with other requirements. This could take a while.\n",
            "  Downloading ydata_profiling-4.7.0-py2.py3-none-any.whl (357 kB)\n",
            "\u001b[2K     \u001b[90m━━━━━━━━━━━━━━━━━━━━━━━━━━━━━━━━━━━━━━━━\u001b[0m \u001b[32m357.9/357.9 kB\u001b[0m \u001b[31m22.8 MB/s\u001b[0m eta \u001b[36m0:00:00\u001b[0m\n",
            "\u001b[?25h  Downloading ydata_profiling-4.6.5-py2.py3-none-any.whl (357 kB)\n",
            "\u001b[2K     \u001b[90m━━━━━━━━━━━━━━━━━━━━━━━━━━━━━━━━━━━━━━━━\u001b[0m \u001b[32m357.9/357.9 kB\u001b[0m \u001b[31m13.0 MB/s\u001b[0m eta \u001b[36m0:00:00\u001b[0m\n",
            "\u001b[?25h  Downloading ydata_profiling-4.6.4-py2.py3-none-any.whl (357 kB)\n",
            "\u001b[2K     \u001b[90m━━━━━━━━━━━━━━━━━━━━━━━━━━━━━━━━━━━━━━━━\u001b[0m \u001b[32m357.8/357.8 kB\u001b[0m \u001b[31m10.7 MB/s\u001b[0m eta \u001b[36m0:00:00\u001b[0m\n",
            "\u001b[?25h  Downloading ydata_profiling-4.6.3-py2.py3-none-any.whl (357 kB)\n",
            "\u001b[2K     \u001b[90m━━━━━━━━━━━━━━━━━━━━━━━━━━━━━━━━━━━━━━━━\u001b[0m \u001b[32m357.6/357.6 kB\u001b[0m \u001b[31m16.7 MB/s\u001b[0m eta \u001b[36m0:00:00\u001b[0m\n",
            "\u001b[?25h  Downloading ydata_profiling-4.6.2-py2.py3-none-any.whl (357 kB)\n",
            "\u001b[2K     \u001b[90m━━━━━━━━━━━━━━━━━━━━━━━━━━━━━━━━━━━━━━━━\u001b[0m \u001b[32m357.5/357.5 kB\u001b[0m \u001b[31m9.3 MB/s\u001b[0m eta \u001b[36m0:00:00\u001b[0m\n",
            "\u001b[?25h  Downloading ydata_profiling-4.6.1-py2.py3-none-any.whl (357 kB)\n",
            "\u001b[2K     \u001b[90m━━━━━━━━━━━━━━━━━━━━━━━━━━━━━━━━━━━━━━━━\u001b[0m \u001b[32m357.5/357.5 kB\u001b[0m \u001b[31m17.8 MB/s\u001b[0m eta \u001b[36m0:00:00\u001b[0m\n",
            "\u001b[?25h  Downloading ydata_profiling-4.6.0-py2.py3-none-any.whl (357 kB)\n",
            "\u001b[2K     \u001b[90m━━━━━━━━━━━━━━━━━━━━━━━━━━━━━━━━━━━━━━━━\u001b[0m \u001b[32m357.5/357.5 kB\u001b[0m \u001b[31m11.5 MB/s\u001b[0m eta \u001b[36m0:00:00\u001b[0m\n",
            "\u001b[?25hRequirement already satisfied: PyYAML<6.1,>=5.0.0 in /usr/local/lib/python3.10/dist-packages (from ydata-profiling->pandas-profiling) (6.0.1)\n",
            "Requirement already satisfied: jinja2<3.2,>=2.11.1 in /usr/local/lib/python3.10/dist-packages (from ydata-profiling->pandas-profiling) (3.1.4)\n",
            "Collecting visions[type_image_path]==0.7.5 (from ydata-profiling->pandas-profiling)\n",
            "  Downloading visions-0.7.5-py3-none-any.whl (102 kB)\n",
            "\u001b[2K     \u001b[90m━━━━━━━━━━━━━━━━━━━━━━━━━━━━━━━━━━━━━━━━\u001b[0m \u001b[32m102.7/102.7 kB\u001b[0m \u001b[31m5.3 MB/s\u001b[0m eta \u001b[36m0:00:00\u001b[0m\n",
            "\u001b[?25hRequirement already satisfied: numpy<1.26,>=1.16.0 in /usr/local/lib/python3.10/dist-packages (from ydata-profiling->pandas-profiling) (1.25.2)\n",
            "Collecting htmlmin==0.1.12 (from ydata-profiling->pandas-profiling)\n",
            "  Downloading htmlmin-0.1.12.tar.gz (19 kB)\n",
            "  Preparing metadata (setup.py) ... \u001b[?25l\u001b[?25hdone\n",
            "Collecting phik<0.13,>=0.11.1 (from ydata-profiling->pandas-profiling)\n",
            "  Downloading phik-0.12.4-cp310-cp310-manylinux_2_17_x86_64.manylinux2014_x86_64.whl (686 kB)\n",
            "\u001b[2K     \u001b[90m━━━━━━━━━━━━━━━━━━━━━━━━━━━━━━━━━━━━━━━━\u001b[0m \u001b[32m686.1/686.1 kB\u001b[0m \u001b[31m45.9 MB/s\u001b[0m eta \u001b[36m0:00:00\u001b[0m\n",
            "\u001b[?25hRequirement already satisfied: requests<3,>=2.24.0 in /usr/local/lib/python3.10/dist-packages (from ydata-profiling->pandas-profiling) (2.31.0)\n",
            "Requirement already satisfied: tqdm<5,>=4.48.2 in /usr/local/lib/python3.10/dist-packages (from ydata-profiling->pandas-profiling) (4.66.4)\n",
            "Collecting seaborn<0.13,>=0.10.1 (from ydata-profiling->pandas-profiling)\n",
            "  Downloading seaborn-0.12.2-py3-none-any.whl (293 kB)\n",
            "\u001b[2K     \u001b[90m━━━━━━━━━━━━━━━━━━━━━━━━━━━━━━━━━━━━━━━━\u001b[0m \u001b[32m293.3/293.3 kB\u001b[0m \u001b[31m27.2 MB/s\u001b[0m eta \u001b[36m0:00:00\u001b[0m\n",
            "\u001b[?25hCollecting multimethod<2,>=1.4 (from ydata-profiling->pandas-profiling)\n",
            "  Downloading multimethod-1.11.2-py3-none-any.whl (10 kB)\n",
            "Requirement already satisfied: statsmodels<1,>=0.13.2 in /usr/local/lib/python3.10/dist-packages (from ydata-profiling->pandas-profiling) (0.14.2)\n",
            "Collecting typeguard<5,>=4.1.2 (from ydata-profiling->pandas-profiling)\n",
            "  Downloading typeguard-4.3.0-py3-none-any.whl (35 kB)\n",
            "Collecting imagehash==4.3.1 (from ydata-profiling->pandas-profiling)\n",
            "  Downloading ImageHash-4.3.1-py2.py3-none-any.whl (296 kB)\n",
            "\u001b[2K     \u001b[90m━━━━━━━━━━━━━━━━━━━━━━━━━━━━━━━━━━━━━━━━\u001b[0m \u001b[32m296.5/296.5 kB\u001b[0m \u001b[31m31.4 MB/s\u001b[0m eta \u001b[36m0:00:00\u001b[0m\n",
            "\u001b[?25hRequirement already satisfied: wordcloud>=1.9.1 in /usr/local/lib/python3.10/dist-packages (from ydata-profiling->pandas-profiling) (1.9.3)\n",
            "Collecting dacite>=1.8 (from ydata-profiling->pandas-profiling)\n",
            "  Downloading dacite-1.8.1-py3-none-any.whl (14 kB)\n",
            "Requirement already satisfied: numba<0.59.0,>=0.56.0 in /usr/local/lib/python3.10/dist-packages (from ydata-profiling->pandas-profiling) (0.58.1)\n",
            "Requirement already satisfied: PyWavelets in /usr/local/lib/python3.10/dist-packages (from imagehash==4.3.1->ydata-profiling->pandas-profiling) (1.6.0)\n",
            "Requirement already satisfied: pillow in /usr/local/lib/python3.10/dist-packages (from imagehash==4.3.1->ydata-profiling->pandas-profiling) (9.4.0)\n",
            "Requirement already satisfied: attrs>=19.3.0 in /usr/local/lib/python3.10/dist-packages (from visions[type_image_path]==0.7.5->ydata-profiling->pandas-profiling) (23.2.0)\n",
            "Requirement already satisfied: networkx>=2.4 in /usr/local/lib/python3.10/dist-packages (from visions[type_image_path]==0.7.5->ydata-profiling->pandas-profiling) (3.3)\n",
            "Collecting tangled-up-in-unicode>=0.0.4 (from visions[type_image_path]==0.7.5->ydata-profiling->pandas-profiling)\n",
            "  Downloading tangled_up_in_unicode-0.2.0-py3-none-any.whl (4.7 MB)\n",
            "\u001b[2K     \u001b[90m━━━━━━━━━━━━━━━━━━━━━━━━━━━━━━━━━━━━━━━━\u001b[0m \u001b[32m4.7/4.7 MB\u001b[0m \u001b[31m79.7 MB/s\u001b[0m eta \u001b[36m0:00:00\u001b[0m\n",
            "\u001b[?25hRequirement already satisfied: MarkupSafe>=2.0 in /usr/local/lib/python3.10/dist-packages (from jinja2<3.2,>=2.11.1->ydata-profiling->pandas-profiling) (2.1.5)\n",
            "Requirement already satisfied: contourpy>=1.0.1 in /usr/local/lib/python3.10/dist-packages (from matplotlib<3.9,>=3.2->ydata-profiling->pandas-profiling) (1.2.1)\n",
            "Requirement already satisfied: cycler>=0.10 in /usr/local/lib/python3.10/dist-packages (from matplotlib<3.9,>=3.2->ydata-profiling->pandas-profiling) (0.12.1)\n",
            "Requirement already satisfied: fonttools>=4.22.0 in /usr/local/lib/python3.10/dist-packages (from matplotlib<3.9,>=3.2->ydata-profiling->pandas-profiling) (4.53.0)\n",
            "Requirement already satisfied: kiwisolver>=1.0.1 in /usr/local/lib/python3.10/dist-packages (from matplotlib<3.9,>=3.2->ydata-profiling->pandas-profiling) (1.4.5)\n",
            "Requirement already satisfied: packaging>=20.0 in /usr/local/lib/python3.10/dist-packages (from matplotlib<3.9,>=3.2->ydata-profiling->pandas-profiling) (24.1)\n",
            "Requirement already satisfied: pyparsing>=2.3.1 in /usr/local/lib/python3.10/dist-packages (from matplotlib<3.9,>=3.2->ydata-profiling->pandas-profiling) (3.1.2)\n",
            "Requirement already satisfied: python-dateutil>=2.7 in /usr/local/lib/python3.10/dist-packages (from matplotlib<3.9,>=3.2->ydata-profiling->pandas-profiling) (2.8.2)\n",
            "Requirement already satisfied: llvmlite<0.42,>=0.41.0dev0 in /usr/local/lib/python3.10/dist-packages (from numba<0.59.0,>=0.56.0->ydata-profiling->pandas-profiling) (0.41.1)\n",
            "Requirement already satisfied: pytz>=2020.1 in /usr/local/lib/python3.10/dist-packages (from pandas!=1.4.0,<3,>1.1->ydata-profiling->pandas-profiling) (2023.4)\n",
            "Requirement already satisfied: tzdata>=2022.1 in /usr/local/lib/python3.10/dist-packages (from pandas!=1.4.0,<3,>1.1->ydata-profiling->pandas-profiling) (2024.1)\n",
            "Requirement already satisfied: joblib>=0.14.1 in /usr/local/lib/python3.10/dist-packages (from phik<0.13,>=0.11.1->ydata-profiling->pandas-profiling) (1.4.2)\n",
            "Requirement already satisfied: charset-normalizer<4,>=2 in /usr/local/lib/python3.10/dist-packages (from requests<3,>=2.24.0->ydata-profiling->pandas-profiling) (3.3.2)\n",
            "Requirement already satisfied: idna<4,>=2.5 in /usr/local/lib/python3.10/dist-packages (from requests<3,>=2.24.0->ydata-profiling->pandas-profiling) (3.7)\n",
            "Requirement already satisfied: urllib3<3,>=1.21.1 in /usr/local/lib/python3.10/dist-packages (from requests<3,>=2.24.0->ydata-profiling->pandas-profiling) (2.0.7)\n",
            "Requirement already satisfied: certifi>=2017.4.17 in /usr/local/lib/python3.10/dist-packages (from requests<3,>=2.24.0->ydata-profiling->pandas-profiling) (2024.6.2)\n",
            "Requirement already satisfied: patsy>=0.5.6 in /usr/local/lib/python3.10/dist-packages (from statsmodels<1,>=0.13.2->ydata-profiling->pandas-profiling) (0.5.6)\n",
            "Requirement already satisfied: six in /usr/local/lib/python3.10/dist-packages (from patsy>=0.5.6->statsmodels<1,>=0.13.2->ydata-profiling->pandas-profiling) (1.16.0)\n",
            "Building wheels for collected packages: htmlmin\n",
            "  Building wheel for htmlmin (setup.py) ... \u001b[?25l\u001b[?25hdone\n",
            "  Created wheel for htmlmin: filename=htmlmin-0.1.12-py3-none-any.whl size=27080 sha256=4001e04ff62cd7031af3fff27534d0ff4a37461a6ace8de3757c8c85280577f2\n",
            "  Stored in directory: /root/.cache/pip/wheels/dd/91/29/a79cecb328d01739e64017b6fb9a1ab9d8cb1853098ec5966d\n",
            "Successfully built htmlmin\n",
            "Installing collected packages: htmlmin, typeguard, tangled-up-in-unicode, pydantic, multimethod, dacite, imagehash, visions, seaborn, phik, ydata-profiling, pandas-profiling\n",
            "  Attempting uninstall: pydantic\n",
            "    Found existing installation: pydantic 2.7.3\n",
            "    Uninstalling pydantic-2.7.3:\n",
            "      Successfully uninstalled pydantic-2.7.3\n",
            "  Attempting uninstall: seaborn\n",
            "    Found existing installation: seaborn 0.13.1\n",
            "    Uninstalling seaborn-0.13.1:\n",
            "      Successfully uninstalled seaborn-0.13.1\n",
            "Successfully installed dacite-1.8.1 htmlmin-0.1.12 imagehash-4.3.1 multimethod-1.11.2 pandas-profiling-3.6.6 phik-0.12.4 pydantic-1.10.2 seaborn-0.12.2 tangled-up-in-unicode-0.2.0 typeguard-4.3.0 visions-0.7.5 ydata-profiling-4.6.0\n"
          ]
        },
        {
          "output_type": "stream",
          "name": "stderr",
          "text": [
            "/usr/local/lib/python3.10/dist-packages/numba/core/decorators.py:262: NumbaDeprecationWarning: numba.generated_jit is deprecated. Please see the documentation at: https://numba.readthedocs.io/en/stable/reference/deprecation.html#deprecation-of-generated-jit for more information and advice on a suitable replacement.\n",
            "  warnings.warn(msg, NumbaDeprecationWarning)\n",
            "/usr/local/lib/python3.10/dist-packages/visions/backends/shared/nan_handling.py:51: NumbaDeprecationWarning: The 'nopython' keyword argument was not supplied to the 'numba.jit' decorator. The implicit default value for this argument is currently False, but it will be changed to True in Numba 0.59.0. See https://numba.readthedocs.io/en/stable/reference/deprecation.html#deprecation-of-object-mode-fall-back-behaviour-when-using-jit for details.\n",
            "  def hasna(x: np.ndarray) -> bool:\n",
            "<ipython-input-1-02681026af30>:6: DeprecationWarning: `import pandas_profiling` is going to be deprecated by April 1st. Please use `import ydata_profiling` instead.\n",
            "  import pandas_profiling as pf\n"
          ]
        }
      ],
      "source": [
        "!pip install pydantic==1.10.2 pandas-profiling\n",
        "import pandas as pd\n",
        "import numpy as np\n",
        "import matplotlib.pyplot as plt\n",
        "import seaborn as sns\n",
        "import pandas_profiling as pf\n",
        "%matplotlib inline"
      ]
    },
    {
      "cell_type": "code",
      "source": [
        "train = pd.read_csv('./training_set_features.csv', index_col='respondent_id')\n",
        "test = pd.read_csv('./test_set_features.csv', index_col='respondent_id')\n",
        "labels = pd.read_csv('./training_set_labels.csv', index_col='respondent_id')"
      ],
      "metadata": {
        "id": "mw5QREpO2PI_"
      },
      "execution_count": 2,
      "outputs": []
    },
    {
      "cell_type": "code",
      "source": [
        "num_cols = train.select_dtypes('number').columns\n",
        "cat_cols = ['race', 'sex',\n",
        "       'marital_status', 'rent_or_own',  'hhs_geo_region',\n",
        "       'census_msa', 'employment_industry', 'employment_occupation']\n",
        "ord_cols = ['age_group', 'education',  'income_poverty',\n",
        "        'employment_status']\n",
        "assert len(num_cols)+len(cat_cols)+len(ord_cols) == train.shape[1]"
      ],
      "metadata": {
        "id": "9nHkK-l52yMy"
      },
      "execution_count": 3,
      "outputs": []
    },
    {
      "cell_type": "code",
      "source": [
        "from sklearn.pipeline import Pipeline\n",
        "from sklearn.preprocessing import MinMaxScaler, StandardScaler, OneHotEncoder\n",
        "from sklearn.impute import SimpleImputer\n",
        "from sklearn.compose import ColumnTransformer\n",
        "!pip install category_encoders catboost\n",
        "from category_encoders import OrdinalEncoder as oe\n",
        "from catboost import CatBoostClassifier\n",
        "from catboost import Pool, cv\n",
        "from sklearn.metrics import roc_curve, roc_auc_score\n",
        "!pip install optuna\n",
        "import optuna"
      ],
      "metadata": {
        "colab": {
          "base_uri": "https://localhost:8080/"
        },
        "id": "4wRA1Ks826YY",
        "outputId": "8c902556-ee85-472f-d5ae-40ecd8b7638c"
      },
      "execution_count": 6,
      "outputs": [
        {
          "output_type": "stream",
          "name": "stdout",
          "text": [
            "Requirement already satisfied: category_encoders in /usr/local/lib/python3.10/dist-packages (2.6.3)\n",
            "Requirement already satisfied: catboost in /usr/local/lib/python3.10/dist-packages (1.2.5)\n",
            "Requirement already satisfied: numpy>=1.14.0 in /usr/local/lib/python3.10/dist-packages (from category_encoders) (1.25.2)\n",
            "Requirement already satisfied: scikit-learn>=0.20.0 in /usr/local/lib/python3.10/dist-packages (from category_encoders) (1.2.2)\n",
            "Requirement already satisfied: scipy>=1.0.0 in /usr/local/lib/python3.10/dist-packages (from category_encoders) (1.11.4)\n",
            "Requirement already satisfied: statsmodels>=0.9.0 in /usr/local/lib/python3.10/dist-packages (from category_encoders) (0.14.2)\n",
            "Requirement already satisfied: pandas>=1.0.5 in /usr/local/lib/python3.10/dist-packages (from category_encoders) (2.0.3)\n",
            "Requirement already satisfied: patsy>=0.5.1 in /usr/local/lib/python3.10/dist-packages (from category_encoders) (0.5.6)\n",
            "Requirement already satisfied: graphviz in /usr/local/lib/python3.10/dist-packages (from catboost) (0.20.3)\n",
            "Requirement already satisfied: matplotlib in /usr/local/lib/python3.10/dist-packages (from catboost) (3.7.1)\n",
            "Requirement already satisfied: plotly in /usr/local/lib/python3.10/dist-packages (from catboost) (5.15.0)\n",
            "Requirement already satisfied: six in /usr/local/lib/python3.10/dist-packages (from catboost) (1.16.0)\n",
            "Requirement already satisfied: python-dateutil>=2.8.2 in /usr/local/lib/python3.10/dist-packages (from pandas>=1.0.5->category_encoders) (2.8.2)\n",
            "Requirement already satisfied: pytz>=2020.1 in /usr/local/lib/python3.10/dist-packages (from pandas>=1.0.5->category_encoders) (2023.4)\n",
            "Requirement already satisfied: tzdata>=2022.1 in /usr/local/lib/python3.10/dist-packages (from pandas>=1.0.5->category_encoders) (2024.1)\n",
            "Requirement already satisfied: joblib>=1.1.1 in /usr/local/lib/python3.10/dist-packages (from scikit-learn>=0.20.0->category_encoders) (1.4.2)\n",
            "Requirement already satisfied: threadpoolctl>=2.0.0 in /usr/local/lib/python3.10/dist-packages (from scikit-learn>=0.20.0->category_encoders) (3.5.0)\n",
            "Requirement already satisfied: packaging>=21.3 in /usr/local/lib/python3.10/dist-packages (from statsmodels>=0.9.0->category_encoders) (24.1)\n",
            "Requirement already satisfied: contourpy>=1.0.1 in /usr/local/lib/python3.10/dist-packages (from matplotlib->catboost) (1.2.1)\n",
            "Requirement already satisfied: cycler>=0.10 in /usr/local/lib/python3.10/dist-packages (from matplotlib->catboost) (0.12.1)\n",
            "Requirement already satisfied: fonttools>=4.22.0 in /usr/local/lib/python3.10/dist-packages (from matplotlib->catboost) (4.53.0)\n",
            "Requirement already satisfied: kiwisolver>=1.0.1 in /usr/local/lib/python3.10/dist-packages (from matplotlib->catboost) (1.4.5)\n",
            "Requirement already satisfied: pillow>=6.2.0 in /usr/local/lib/python3.10/dist-packages (from matplotlib->catboost) (9.4.0)\n",
            "Requirement already satisfied: pyparsing>=2.3.1 in /usr/local/lib/python3.10/dist-packages (from matplotlib->catboost) (3.1.2)\n",
            "Requirement already satisfied: tenacity>=6.2.0 in /usr/local/lib/python3.10/dist-packages (from plotly->catboost) (8.3.0)\n",
            "Collecting optuna\n",
            "  Downloading optuna-3.6.1-py3-none-any.whl (380 kB)\n",
            "\u001b[2K     \u001b[90m━━━━━━━━━━━━━━━━━━━━━━━━━━━━━━━━━━━━━━━━\u001b[0m \u001b[32m380.1/380.1 kB\u001b[0m \u001b[31m9.4 MB/s\u001b[0m eta \u001b[36m0:00:00\u001b[0m\n",
            "\u001b[?25hCollecting alembic>=1.5.0 (from optuna)\n",
            "  Downloading alembic-1.13.1-py3-none-any.whl (233 kB)\n",
            "\u001b[2K     \u001b[90m━━━━━━━━━━━━━━━━━━━━━━━━━━━━━━━━━━━━━━━━\u001b[0m \u001b[32m233.4/233.4 kB\u001b[0m \u001b[31m22.1 MB/s\u001b[0m eta \u001b[36m0:00:00\u001b[0m\n",
            "\u001b[?25hCollecting colorlog (from optuna)\n",
            "  Downloading colorlog-6.8.2-py3-none-any.whl (11 kB)\n",
            "Requirement already satisfied: numpy in /usr/local/lib/python3.10/dist-packages (from optuna) (1.25.2)\n",
            "Requirement already satisfied: packaging>=20.0 in /usr/local/lib/python3.10/dist-packages (from optuna) (24.1)\n",
            "Requirement already satisfied: sqlalchemy>=1.3.0 in /usr/local/lib/python3.10/dist-packages (from optuna) (2.0.30)\n",
            "Requirement already satisfied: tqdm in /usr/local/lib/python3.10/dist-packages (from optuna) (4.66.4)\n",
            "Requirement already satisfied: PyYAML in /usr/local/lib/python3.10/dist-packages (from optuna) (6.0.1)\n",
            "Collecting Mako (from alembic>=1.5.0->optuna)\n",
            "  Downloading Mako-1.3.5-py3-none-any.whl (78 kB)\n",
            "\u001b[2K     \u001b[90m━━━━━━━━━━━━━━━━━━━━━━━━━━━━━━━━━━━━━━━━\u001b[0m \u001b[32m78.6/78.6 kB\u001b[0m \u001b[31m10.5 MB/s\u001b[0m eta \u001b[36m0:00:00\u001b[0m\n",
            "\u001b[?25hRequirement already satisfied: typing-extensions>=4 in /usr/local/lib/python3.10/dist-packages (from alembic>=1.5.0->optuna) (4.12.2)\n",
            "Requirement already satisfied: greenlet!=0.4.17 in /usr/local/lib/python3.10/dist-packages (from sqlalchemy>=1.3.0->optuna) (3.0.3)\n",
            "Requirement already satisfied: MarkupSafe>=0.9.2 in /usr/local/lib/python3.10/dist-packages (from Mako->alembic>=1.5.0->optuna) (2.1.5)\n",
            "Installing collected packages: Mako, colorlog, alembic, optuna\n",
            "Successfully installed Mako-1.3.5 alembic-1.13.1 colorlog-6.8.2 optuna-3.6.1\n"
          ]
        }
      ]
    },
    {
      "cell_type": "code",
      "source": [
        "for col in (cat_cols+ord_cols):\n",
        "    train[col] = train[col].fillna(value='None')"
      ],
      "metadata": {
        "id": "xiX6Y5f_299R"
      },
      "execution_count": 7,
      "outputs": []
    },
    {
      "cell_type": "code",
      "source": [
        "for col in num_cols:\n",
        "    train[col] = train[col].fillna(value=-1)"
      ],
      "metadata": {
        "id": "6GvLTC5K3kwM"
      },
      "execution_count": 8,
      "outputs": []
    },
    {
      "cell_type": "code",
      "source": [
        "for col in (cat_cols+ord_cols):\n",
        "    test[col] = test[col].fillna(value='None')"
      ],
      "metadata": {
        "id": "B3cljQvZ3oJi"
      },
      "execution_count": 9,
      "outputs": []
    },
    {
      "cell_type": "code",
      "source": [
        "for col in num_cols:\n",
        "    test[col] = test[col].fillna(value=-1)"
      ],
      "metadata": {
        "id": "TtPaZHOf3sjx"
      },
      "execution_count": 10,
      "outputs": []
    },
    {
      "cell_type": "code",
      "source": [
        "\n",
        "from sklearn.model_selection import train_test_split\n",
        "X_train, X_test, y_train, y_test = train_test_split( train, labels, test_size=0.3, random_state=68)"
      ],
      "metadata": {
        "id": "aFjJSW2z3wFS"
      },
      "execution_count": 11,
      "outputs": []
    },
    {
      "cell_type": "code",
      "source": [
        "categorical_features_indices = np.where(X_train.dtypes != float)[0]"
      ],
      "metadata": {
        "id": "SI59EgyC30Qv"
      },
      "execution_count": 13,
      "outputs": []
    },
    {
      "cell_type": "code",
      "source": [
        "train_dataset = Pool(data=X_train,\n",
        "                     label=y_train.xyz_vaccine,\n",
        "                     cat_features = categorical_features_indices)"
      ],
      "metadata": {
        "id": "hXdOp2iC34vi"
      },
      "execution_count": 15,
      "outputs": []
    },
    {
      "cell_type": "code",
      "source": [
        "def objective(trial):\n",
        "    param = {\n",
        "        'iterations':trial.suggest_categorical('iterations', [100,200,300,500,1000,1200,1500]),\n",
        "        'learning_rate':trial.suggest_float(\"learning_rate\", 0.001, 0.3),\n",
        "        'random_strength':trial.suggest_int(\"random_strength\", 1,10),\n",
        "        'bagging_temperature':trial.suggest_int(\"bagging_temperature\", 0,10),\n",
        "        'max_bin':trial.suggest_categorical('max_bin', [4,5,6,8,10,20,30]),\n",
        "        'grow_policy':trial.suggest_categorical('grow_policy', ['SymmetricTree', 'Depthwise', 'Lossguide']),\n",
        "        'min_data_in_leaf':trial.suggest_int(\"min_data_in_leaf\", 1,10),\n",
        "        'od_type' : \"Iter\",\n",
        "        'od_wait' : 100,\n",
        "        \"depth\": trial.suggest_int(\"max_depth\", 2,10),\n",
        "        \"l2_leaf_reg\": trial.suggest_loguniform(\"l2_leaf_reg\", 1e-8, 100),\n",
        "         'one_hot_max_size':trial.suggest_categorical('one_hot_max_size', [5,10,12,100,500,1024]),\n",
        "        'custom_metric' : ['AUC'],\n",
        "        \"loss_function\": \"Logloss\",\n",
        "        'auto_class_weights':trial.suggest_categorical('auto_class_weights', ['Balanced', 'SqrtBalanced']),\n",
        "        }\n",
        "\n",
        "    scores = cv(train_dataset,\n",
        "            param,\n",
        "            fold_count=5,\n",
        "            early_stopping_rounds=10,\n",
        "            plot=False, verbose=False)\n",
        "\n",
        "    return scores['test-AUC-mean'].max()"
      ],
      "metadata": {
        "id": "KeOoY6cY4CFV"
      },
      "execution_count": 16,
      "outputs": []
    },
    {
      "cell_type": "code",
      "source": [
        "sampler = optuna.samplers.TPESampler(seed=68)  # Make the sampler behave in a deterministic way.\n",
        "study = optuna.create_study(direction=\"maximize\", sampler=sampler)\n",
        "study.optimize(objective, n_trials=100)"
      ],
      "metadata": {
        "colab": {
          "base_uri": "https://localhost:8080/"
        },
        "id": "k78WhBTR4P4H",
        "outputId": "a762afcd-5a4c-4054-a637-4842f6bcc7cb"
      },
      "execution_count": 17,
      "outputs": [
        {
          "output_type": "stream",
          "name": "stderr",
          "text": [
            "[I 2024-06-17 11:07:33,327] A new study created in memory with name: no-name-bb7af965-e92c-4e32-aa17-3391ea1262ae\n",
            "<ipython-input-16-85eac53102f7>:13: FutureWarning: suggest_loguniform has been deprecated in v3.0.0. This feature will be removed in v6.0.0. See https://github.com/optuna/optuna/releases/tag/v3.0.0. Use suggest_float(..., log=True) instead.\n",
            "  \"l2_leaf_reg\": trial.suggest_loguniform(\"l2_leaf_reg\", 1e-8, 100),\n"
          ]
        },
        {
          "output_type": "stream",
          "name": "stdout",
          "text": [
            "Training on fold [0/5]\n",
            "\n",
            "bestTest = 0.426979142\n",
            "bestIteration = 516\n",
            "\n",
            "Training on fold [1/5]\n",
            "\n",
            "bestTest = 0.4202580663\n",
            "bestIteration = 604\n",
            "\n",
            "Training on fold [2/5]\n",
            "\n",
            "bestTest = 0.4318418235\n",
            "bestIteration = 579\n",
            "\n",
            "Training on fold [3/5]\n",
            "\n",
            "bestTest = 0.4282363143\n",
            "bestIteration = 486\n",
            "\n",
            "Training on fold [4/5]\n"
          ]
        },
        {
          "output_type": "stream",
          "name": "stderr",
          "text": [
            "[I 2024-06-17 11:07:48,836] Trial 0 finished with value: 0.8639853018790097 and parameters: {'iterations': 1500, 'learning_rate': 0.029356482739949695, 'random_strength': 8, 'bagging_temperature': 10, 'max_bin': 6, 'grow_policy': 'SymmetricTree', 'min_data_in_leaf': 1, 'max_depth': 4, 'l2_leaf_reg': 0.001991194871120998, 'one_hot_max_size': 100, 'auto_class_weights': 'SqrtBalanced'}. Best is trial 0 with value: 0.8639853018790097.\n"
          ]
        },
        {
          "output_type": "stream",
          "name": "stdout",
          "text": [
            "\n",
            "bestTest = 0.433461424\n",
            "bestIteration = 441\n",
            "\n",
            "Training on fold [0/5]\n",
            "\n",
            "bestTest = 0.4269683106\n",
            "bestIteration = 129\n",
            "\n",
            "Training on fold [1/5]\n",
            "\n",
            "bestTest = 0.419469944\n",
            "bestIteration = 192\n",
            "\n",
            "Training on fold [2/5]\n",
            "\n",
            "bestTest = 0.4291868644\n",
            "bestIteration = 153\n",
            "\n",
            "Training on fold [3/5]\n",
            "\n",
            "bestTest = 0.4268945898\n",
            "bestIteration = 125\n",
            "\n",
            "Training on fold [4/5]\n"
          ]
        },
        {
          "output_type": "stream",
          "name": "stderr",
          "text": [
            "[I 2024-06-17 11:07:53,916] Trial 1 finished with value: 0.8634485451090079 and parameters: {'iterations': 200, 'learning_rate': 0.1464067066361795, 'random_strength': 10, 'bagging_temperature': 3, 'max_bin': 10, 'grow_policy': 'Depthwise', 'min_data_in_leaf': 1, 'max_depth': 3, 'l2_leaf_reg': 0.028402775147703313, 'one_hot_max_size': 500, 'auto_class_weights': 'SqrtBalanced'}. Best is trial 0 with value: 0.8639853018790097.\n"
          ]
        },
        {
          "output_type": "stream",
          "name": "stdout",
          "text": [
            "\n",
            "bestTest = 0.4316683101\n",
            "bestIteration = 116\n",
            "\n",
            "Training on fold [0/5]\n",
            "\n",
            "bestTest = 0.4317784377\n",
            "bestIteration = 59\n",
            "\n",
            "Training on fold [1/5]\n",
            "\n",
            "bestTest = 0.4277696752\n",
            "bestIteration = 53\n",
            "\n",
            "Training on fold [2/5]\n",
            "\n",
            "bestTest = 0.4381016884\n",
            "bestIteration = 55\n",
            "\n",
            "Training on fold [3/5]\n",
            "\n",
            "bestTest = 0.429156628\n",
            "bestIteration = 45\n",
            "\n",
            "Training on fold [4/5]\n"
          ]
        },
        {
          "output_type": "stream",
          "name": "stderr",
          "text": [
            "[I 2024-06-17 11:08:01,851] Trial 2 finished with value: 0.8587802511846505 and parameters: {'iterations': 200, 'learning_rate': 0.27287829596201946, 'random_strength': 8, 'bagging_temperature': 8, 'max_bin': 10, 'grow_policy': 'SymmetricTree', 'min_data_in_leaf': 1, 'max_depth': 5, 'l2_leaf_reg': 0.027330135035255495, 'one_hot_max_size': 10, 'auto_class_weights': 'SqrtBalanced'}. Best is trial 0 with value: 0.8639853018790097.\n"
          ]
        },
        {
          "output_type": "stream",
          "name": "stdout",
          "text": [
            "\n",
            "bestTest = 0.4371631566\n",
            "bestIteration = 36\n",
            "\n",
            "Training on fold [0/5]\n",
            "\n",
            "bestTest = 0.42775248\n",
            "bestIteration = 508\n",
            "\n",
            "Training on fold [1/5]\n",
            "\n",
            "bestTest = 0.4220194733\n",
            "bestIteration = 520\n",
            "\n",
            "Training on fold [2/5]\n",
            "\n",
            "bestTest = 0.4301315758\n",
            "bestIteration = 583\n",
            "\n",
            "Training on fold [3/5]\n",
            "\n",
            "bestTest = 0.4276900124\n",
            "bestIteration = 453\n",
            "\n",
            "Training on fold [4/5]\n"
          ]
        },
        {
          "output_type": "stream",
          "name": "stderr",
          "text": [
            "[I 2024-06-17 11:08:36,768] Trial 3 finished with value: 0.8637170542070158 and parameters: {'iterations': 1200, 'learning_rate': 0.0603209284932487, 'random_strength': 3, 'bagging_temperature': 7, 'max_bin': 4, 'grow_policy': 'SymmetricTree', 'min_data_in_leaf': 2, 'max_depth': 2, 'l2_leaf_reg': 1.300471404766049e-07, 'one_hot_max_size': 10, 'auto_class_weights': 'SqrtBalanced'}. Best is trial 0 with value: 0.8639853018790097.\n"
          ]
        },
        {
          "output_type": "stream",
          "name": "stdout",
          "text": [
            "\n",
            "bestTest = 0.4329737808\n",
            "bestIteration = 410\n",
            "\n",
            "Training on fold [0/5]\n",
            "\n",
            "bestTest = 0.4348989187\n",
            "bestIteration = 73\n",
            "\n",
            "Training on fold [1/5]\n",
            "\n",
            "bestTest = 0.4242069741\n",
            "bestIteration = 72\n",
            "\n",
            "Training on fold [2/5]\n",
            "\n",
            "bestTest = 0.4390889248\n",
            "bestIteration = 62\n",
            "\n",
            "Training on fold [3/5]\n",
            "\n",
            "bestTest = 0.4353451465\n",
            "bestIteration = 61\n",
            "\n",
            "Training on fold [4/5]\n"
          ]
        },
        {
          "output_type": "stream",
          "name": "stderr",
          "text": [
            "[I 2024-06-17 11:08:41,347] Trial 4 finished with value: 0.8585707597133918 and parameters: {'iterations': 300, 'learning_rate': 0.22423670437233847, 'random_strength': 6, 'bagging_temperature': 2, 'max_bin': 30, 'grow_policy': 'SymmetricTree', 'min_data_in_leaf': 4, 'max_depth': 4, 'l2_leaf_reg': 0.00010293033487726667, 'one_hot_max_size': 500, 'auto_class_weights': 'SqrtBalanced'}. Best is trial 0 with value: 0.8639853018790097.\n"
          ]
        },
        {
          "output_type": "stream",
          "name": "stdout",
          "text": [
            "\n",
            "bestTest = 0.4353386179\n",
            "bestIteration = 85\n",
            "\n",
            "Training on fold [0/5]\n",
            "\n",
            "bestTest = 0.4864381663\n",
            "bestIteration = 99\n",
            "\n",
            "Training on fold [1/5]\n",
            "\n",
            "bestTest = 0.4848345544\n",
            "bestIteration = 99\n",
            "\n",
            "Training on fold [2/5]\n",
            "\n",
            "bestTest = 0.4918852624\n",
            "bestIteration = 99\n",
            "\n",
            "Training on fold [3/5]\n",
            "\n",
            "bestTest = 0.4857292621\n",
            "bestIteration = 99\n",
            "\n",
            "Training on fold [4/5]\n"
          ]
        },
        {
          "output_type": "stream",
          "name": "stderr",
          "text": [
            "[I 2024-06-17 11:08:44,957] Trial 5 finished with value: 0.8516669599668087 and parameters: {'iterations': 100, 'learning_rate': 0.06628011038512191, 'random_strength': 4, 'bagging_temperature': 4, 'max_bin': 20, 'grow_policy': 'Lossguide', 'min_data_in_leaf': 3, 'max_depth': 2, 'l2_leaf_reg': 13.751833235431702, 'one_hot_max_size': 100, 'auto_class_weights': 'Balanced'}. Best is trial 0 with value: 0.8639853018790097.\n"
          ]
        },
        {
          "output_type": "stream",
          "name": "stdout",
          "text": [
            "\n",
            "bestTest = 0.4919259887\n",
            "bestIteration = 99\n",
            "\n",
            "Training on fold [0/5]\n",
            "\n",
            "bestTest = 0.4307915324\n",
            "bestIteration = 98\n",
            "\n",
            "Training on fold [1/5]\n",
            "\n",
            "bestTest = 0.4226802156\n",
            "bestIteration = 70\n",
            "\n",
            "Training on fold [2/5]\n",
            "\n",
            "bestTest = 0.4334947317\n",
            "bestIteration = 124\n",
            "\n",
            "Training on fold [3/5]\n",
            "\n",
            "bestTest = 0.436377036\n",
            "bestIteration = 80\n",
            "\n",
            "Training on fold [4/5]\n"
          ]
        },
        {
          "output_type": "stream",
          "name": "stderr",
          "text": [
            "[I 2024-06-17 11:09:18,481] Trial 6 finished with value: 0.8616877078561375 and parameters: {'iterations': 1200, 'learning_rate': 0.09658215406978513, 'random_strength': 8, 'bagging_temperature': 2, 'max_bin': 30, 'grow_policy': 'Depthwise', 'min_data_in_leaf': 6, 'max_depth': 10, 'l2_leaf_reg': 2.6558249848041764, 'one_hot_max_size': 5, 'auto_class_weights': 'SqrtBalanced'}. Best is trial 0 with value: 0.8639853018790097.\n"
          ]
        },
        {
          "output_type": "stream",
          "name": "stdout",
          "text": [
            "\n",
            "bestTest = 0.4293134391\n",
            "bestIteration = 100\n",
            "\n",
            "Training on fold [0/5]\n",
            "\n",
            "bestTest = 0.4628058006\n",
            "bestIteration = 114\n",
            "\n",
            "Training on fold [1/5]\n",
            "\n",
            "bestTest = 0.4546820079\n",
            "bestIteration = 91\n",
            "\n",
            "Training on fold [2/5]\n",
            "\n",
            "bestTest = 0.4642139758\n",
            "bestIteration = 90\n",
            "\n",
            "Training on fold [3/5]\n",
            "\n",
            "bestTest = 0.4627206828\n",
            "bestIteration = 108\n",
            "\n",
            "Training on fold [4/5]\n"
          ]
        },
        {
          "output_type": "stream",
          "name": "stderr",
          "text": [
            "[I 2024-06-17 11:09:21,838] Trial 7 finished with value: 0.8627165403544652 and parameters: {'iterations': 500, 'learning_rate': 0.2714096381817127, 'random_strength': 4, 'bagging_temperature': 6, 'max_bin': 8, 'grow_policy': 'Depthwise', 'min_data_in_leaf': 1, 'max_depth': 2, 'l2_leaf_reg': 4.9369231964322795, 'one_hot_max_size': 1024, 'auto_class_weights': 'Balanced'}. Best is trial 0 with value: 0.8639853018790097.\n"
          ]
        },
        {
          "output_type": "stream",
          "name": "stdout",
          "text": [
            "\n",
            "bestTest = 0.4649959281\n",
            "bestIteration = 107\n",
            "\n",
            "Training on fold [0/5]\n",
            "\n",
            "bestTest = 0.4284500585\n",
            "bestIteration = 82\n",
            "\n",
            "Training on fold [1/5]\n",
            "\n",
            "bestTest = 0.4210011606\n",
            "bestIteration = 116\n",
            "\n",
            "Training on fold [2/5]\n",
            "\n",
            "bestTest = 0.4323507379\n",
            "bestIteration = 129\n",
            "\n",
            "Training on fold [3/5]\n",
            "\n",
            "bestTest = 0.4281232857\n",
            "bestIteration = 75\n",
            "\n",
            "Training on fold [4/5]\n"
          ]
        },
        {
          "output_type": "stream",
          "name": "stderr",
          "text": [
            "[I 2024-06-17 11:09:25,822] Trial 8 finished with value: 0.8625807103079209 and parameters: {'iterations': 1500, 'learning_rate': 0.2053434310118264, 'random_strength': 8, 'bagging_temperature': 0, 'max_bin': 20, 'grow_policy': 'Depthwise', 'min_data_in_leaf': 10, 'max_depth': 3, 'l2_leaf_reg': 9.501510078266123e-06, 'one_hot_max_size': 500, 'auto_class_weights': 'SqrtBalanced'}. Best is trial 0 with value: 0.8639853018790097.\n"
          ]
        },
        {
          "output_type": "stream",
          "name": "stdout",
          "text": [
            "\n",
            "bestTest = 0.4320438131\n",
            "bestIteration = 95\n",
            "\n",
            "Training on fold [0/5]\n",
            "\n",
            "bestTest = 0.433843025\n",
            "bestIteration = 43\n",
            "\n",
            "Training on fold [1/5]\n",
            "\n",
            "bestTest = 0.441881146\n",
            "bestIteration = 26\n",
            "\n",
            "Training on fold [2/5]\n",
            "\n",
            "bestTest = 0.4485761573\n",
            "bestIteration = 33\n",
            "\n",
            "Training on fold [3/5]\n",
            "\n",
            "bestTest = 0.4471908719\n",
            "bestIteration = 36\n",
            "\n",
            "Training on fold [4/5]\n"
          ]
        },
        {
          "output_type": "stream",
          "name": "stderr",
          "text": [
            "[I 2024-06-17 11:09:36,931] Trial 9 finished with value: 0.8529892215730064 and parameters: {'iterations': 100, 'learning_rate': 0.25900665720714294, 'random_strength': 3, 'bagging_temperature': 0, 'max_bin': 6, 'grow_policy': 'Lossguide', 'min_data_in_leaf': 8, 'max_depth': 7, 'l2_leaf_reg': 1.1694576328936887e-07, 'one_hot_max_size': 12, 'auto_class_weights': 'SqrtBalanced'}. Best is trial 0 with value: 0.8639853018790097.\n"
          ]
        },
        {
          "output_type": "stream",
          "name": "stdout",
          "text": [
            "\n",
            "bestTest = 0.4440165195\n",
            "bestIteration = 26\n",
            "\n",
            "Training on fold [0/5]\n",
            "\n",
            "bestTest = 0.4819553673\n",
            "bestIteration = 815\n",
            "\n",
            "Training on fold [1/5]\n",
            "\n",
            "bestTest = 0.4688637361\n",
            "bestIteration = 1042\n",
            "\n",
            "Training on fold [2/5]\n",
            "\n",
            "bestTest = 0.4800854506\n",
            "bestIteration = 1078\n",
            "\n",
            "Training on fold [3/5]\n",
            "\n",
            "bestTest = 0.4747438813\n",
            "bestIteration = 1026\n",
            "\n",
            "Training on fold [4/5]\n"
          ]
        },
        {
          "output_type": "stream",
          "name": "stderr",
          "text": [
            "[I 2024-06-17 11:10:22,250] Trial 10 finished with value: 0.8569875080963157 and parameters: {'iterations': 1500, 'learning_rate': 0.006050647464439535, 'random_strength': 10, 'bagging_temperature': 10, 'max_bin': 6, 'grow_policy': 'SymmetricTree', 'min_data_in_leaf': 6, 'max_depth': 7, 'l2_leaf_reg': 0.007150186521078322, 'one_hot_max_size': 100, 'auto_class_weights': 'Balanced'}. Best is trial 0 with value: 0.8639853018790097.\n"
          ]
        },
        {
          "output_type": "stream",
          "name": "stdout",
          "text": [
            "\n",
            "bestTest = 0.4765475736\n",
            "bestIteration = 1202\n",
            "\n",
            "Training on fold [0/5]\n",
            "\n",
            "bestTest = 0.432711909\n",
            "bestIteration = 999\n",
            "\n",
            "Training on fold [1/5]\n",
            "\n",
            "bestTest = 0.4300468672\n",
            "bestIteration = 999\n",
            "\n",
            "Training on fold [2/5]\n",
            "\n",
            "bestTest = 0.439344334\n",
            "bestIteration = 999\n",
            "\n",
            "Training on fold [3/5]\n",
            "\n",
            "bestTest = 0.4321047068\n",
            "bestIteration = 999\n",
            "\n",
            "Training on fold [4/5]\n"
          ]
        },
        {
          "output_type": "stream",
          "name": "stderr",
          "text": [
            "[I 2024-06-17 11:12:20,457] Trial 11 finished with value: 0.8611204466068939 and parameters: {'iterations': 1000, 'learning_rate': 0.006258402413494596, 'random_strength': 2, 'bagging_temperature': 9, 'max_bin': 4, 'grow_policy': 'SymmetricTree', 'min_data_in_leaf': 3, 'max_depth': 5, 'l2_leaf_reg': 3.7395625169299806e-08, 'one_hot_max_size': 10, 'auto_class_weights': 'SqrtBalanced'}. Best is trial 0 with value: 0.8639853018790097.\n"
          ]
        },
        {
          "output_type": "stream",
          "name": "stdout",
          "text": [
            "\n",
            "bestTest = 0.4367930914\n",
            "bestIteration = 999\n",
            "\n",
            "Training on fold [0/5]\n",
            "\n",
            "bestTest = 0.4326194631\n",
            "bestIteration = 174\n",
            "\n",
            "Training on fold [1/5]\n",
            "\n",
            "bestTest = 0.4245043924\n",
            "bestIteration = 291\n",
            "\n",
            "Training on fold [2/5]\n",
            "\n",
            "bestTest = 0.4350353228\n",
            "bestIteration = 227\n",
            "\n",
            "Training on fold [3/5]\n",
            "\n",
            "bestTest = 0.4305405473\n",
            "bestIteration = 183\n",
            "\n",
            "Training on fold [4/5]\n"
          ]
        },
        {
          "output_type": "stream",
          "name": "stderr",
          "text": [
            "[I 2024-06-17 11:12:27,910] Trial 12 finished with value: 0.861295775425228 and parameters: {'iterations': 1200, 'learning_rate': 0.06725819830482033, 'random_strength': 6, 'bagging_temperature': 7, 'max_bin': 4, 'grow_policy': 'SymmetricTree', 'min_data_in_leaf': 3, 'max_depth': 4, 'l2_leaf_reg': 2.484887686602948e-06, 'one_hot_max_size': 100, 'auto_class_weights': 'SqrtBalanced'}. Best is trial 0 with value: 0.8639853018790097.\n"
          ]
        },
        {
          "output_type": "stream",
          "name": "stdout",
          "text": [
            "\n",
            "bestTest = 0.4315634071\n",
            "bestIteration = 215\n",
            "\n",
            "Training on fold [0/5]\n",
            "\n",
            "bestTest = 0.4269752155\n",
            "bestIteration = 229\n",
            "\n",
            "Training on fold [1/5]\n",
            "\n",
            "bestTest = 0.4199364901\n",
            "bestIteration = 360\n",
            "\n",
            "Training on fold [2/5]\n",
            "\n",
            "bestTest = 0.4302774594\n",
            "bestIteration = 254\n",
            "\n",
            "Training on fold [3/5]\n",
            "\n",
            "bestTest = 0.4252914531\n",
            "bestIteration = 259\n",
            "\n",
            "Training on fold [4/5]\n"
          ]
        },
        {
          "output_type": "stream",
          "name": "stderr",
          "text": [
            "[I 2024-06-17 11:12:44,234] Trial 13 finished with value: 0.8645721157519723 and parameters: {'iterations': 1200, 'learning_rate': 0.11844354640975294, 'random_strength': 1, 'bagging_temperature': 10, 'max_bin': 5, 'grow_policy': 'SymmetricTree', 'min_data_in_leaf': 4, 'max_depth': 2, 'l2_leaf_reg': 0.0005293545363842097, 'one_hot_max_size': 10, 'auto_class_weights': 'SqrtBalanced'}. Best is trial 13 with value: 0.8645721157519723.\n"
          ]
        },
        {
          "output_type": "stream",
          "name": "stdout",
          "text": [
            "\n",
            "bestTest = 0.4313216624\n",
            "bestIteration = 215\n",
            "\n",
            "Training on fold [0/5]\n",
            "\n",
            "bestTest = 0.4318682923\n",
            "bestIteration = 44\n",
            "\n",
            "Training on fold [1/5]\n",
            "\n",
            "bestTest = 0.4268716122\n",
            "bestIteration = 54\n",
            "\n",
            "Training on fold [2/5]\n",
            "\n",
            "bestTest = 0.4389489325\n",
            "bestIteration = 73\n",
            "\n",
            "Training on fold [3/5]\n",
            "\n",
            "bestTest = 0.4342025492\n",
            "bestIteration = 54\n",
            "\n",
            "Training on fold [4/5]\n"
          ]
        },
        {
          "output_type": "stream",
          "name": "stderr",
          "text": [
            "[I 2024-06-17 11:12:54,705] Trial 14 finished with value: 0.8592337847557016 and parameters: {'iterations': 1500, 'learning_rate': 0.13150291582573478, 'random_strength': 1, 'bagging_temperature': 10, 'max_bin': 5, 'grow_policy': 'SymmetricTree', 'min_data_in_leaf': 5, 'max_depth': 6, 'l2_leaf_reg': 0.0004751545993241495, 'one_hot_max_size': 5, 'auto_class_weights': 'SqrtBalanced'}. Best is trial 13 with value: 0.8645721157519723.\n"
          ]
        },
        {
          "output_type": "stream",
          "name": "stdout",
          "text": [
            "\n",
            "bestTest = 0.4372130674\n",
            "bestIteration = 60\n",
            "\n",
            "Training on fold [0/5]\n",
            "\n",
            "bestTest = 0.4670124723\n",
            "bestIteration = 73\n",
            "\n",
            "Training on fold [1/5]\n",
            "\n",
            "bestTest = 0.4607693835\n",
            "bestIteration = 70\n",
            "\n",
            "Training on fold [2/5]\n",
            "\n",
            "bestTest = 0.4685749432\n",
            "bestIteration = 66\n",
            "\n",
            "Training on fold [3/5]\n",
            "\n",
            "bestTest = 0.4685308362\n",
            "bestIteration = 69\n",
            "\n",
            "Training on fold [4/5]\n"
          ]
        },
        {
          "output_type": "stream",
          "name": "stderr",
          "text": [
            "[I 2024-06-17 11:13:09,217] Trial 15 finished with value: 0.8593235261864474 and parameters: {'iterations': 1000, 'learning_rate': 0.18379968329218066, 'random_strength': 7, 'bagging_temperature': 9, 'max_bin': 5, 'grow_policy': 'Lossguide', 'min_data_in_leaf': 8, 'max_depth': 10, 'l2_leaf_reg': 0.2794285934522289, 'one_hot_max_size': 12, 'auto_class_weights': 'Balanced'}. Best is trial 13 with value: 0.8645721157519723.\n"
          ]
        },
        {
          "output_type": "stream",
          "name": "stdout",
          "text": [
            "\n",
            "bestTest = 0.4684014216\n",
            "bestIteration = 71\n",
            "\n",
            "Training on fold [0/5]\n",
            "\n",
            "bestTest = 0.4279894877\n",
            "bestIteration = 136\n",
            "\n",
            "Training on fold [1/5]\n",
            "\n",
            "bestTest = 0.4251162105\n",
            "bestIteration = 102\n",
            "\n",
            "Training on fold [2/5]\n",
            "\n",
            "bestTest = 0.4348660759\n",
            "bestIteration = 91\n",
            "\n",
            "Training on fold [3/5]\n",
            "\n",
            "bestTest = 0.4281975284\n",
            "bestIteration = 90\n",
            "\n",
            "Training on fold [4/5]\n"
          ]
        },
        {
          "output_type": "stream",
          "name": "stderr",
          "text": [
            "[I 2024-06-17 11:13:12,247] Trial 16 finished with value: 0.8616372134351991 and parameters: {'iterations': 500, 'learning_rate': 0.10406308911058082, 'random_strength': 1, 'bagging_temperature': 5, 'max_bin': 5, 'grow_policy': 'SymmetricTree', 'min_data_in_leaf': 5, 'max_depth': 4, 'l2_leaf_reg': 6.80996375335814e-05, 'one_hot_max_size': 1024, 'auto_class_weights': 'SqrtBalanced'}. Best is trial 13 with value: 0.8645721157519723.\n"
          ]
        },
        {
          "output_type": "stream",
          "name": "stdout",
          "text": [
            "\n",
            "bestTest = 0.4359476043\n",
            "bestIteration = 86\n",
            "\n",
            "Training on fold [0/5]\n",
            "\n",
            "bestTest = 0.437179863\n",
            "bestIteration = 297\n",
            "\n",
            "Training on fold [1/5]\n",
            "\n",
            "bestTest = 0.4340263636\n",
            "bestIteration = 299\n",
            "\n",
            "Training on fold [2/5]\n",
            "\n",
            "bestTest = 0.4424426352\n",
            "bestIteration = 299\n",
            "\n",
            "Training on fold [3/5]\n",
            "\n",
            "bestTest = 0.434417072\n",
            "bestIteration = 299\n",
            "\n",
            "Training on fold [4/5]\n"
          ]
        },
        {
          "output_type": "stream",
          "name": "stderr",
          "text": [
            "[I 2024-06-17 11:13:36,291] Trial 17 finished with value: 0.8592179620697367 and parameters: {'iterations': 300, 'learning_rate': 0.035256540040725835, 'random_strength': 5, 'bagging_temperature': 8, 'max_bin': 6, 'grow_policy': 'SymmetricTree', 'min_data_in_leaf': 7, 'max_depth': 3, 'l2_leaf_reg': 0.0030542199837083703, 'one_hot_max_size': 10, 'auto_class_weights': 'SqrtBalanced'}. Best is trial 13 with value: 0.8645721157519723.\n"
          ]
        },
        {
          "output_type": "stream",
          "name": "stdout",
          "text": [
            "\n",
            "bestTest = 0.4421929818\n",
            "bestIteration = 297\n",
            "\n",
            "Training on fold [0/5]\n",
            "\n",
            "bestTest = 0.4722047264\n",
            "bestIteration = 100\n",
            "\n",
            "Training on fold [1/5]\n",
            "\n",
            "bestTest = 0.465302506\n",
            "bestIteration = 91\n",
            "\n",
            "Training on fold [2/5]\n",
            "\n",
            "bestTest = 0.4744953637\n",
            "bestIteration = 100\n",
            "\n",
            "Training on fold [3/5]\n",
            "\n",
            "bestTest = 0.4757180457\n",
            "bestIteration = 65\n",
            "\n",
            "Training on fold [4/5]\n"
          ]
        },
        {
          "output_type": "stream",
          "name": "stderr",
          "text": [
            "[I 2024-06-17 11:13:41,507] Trial 18 finished with value: 0.8568085308432254 and parameters: {'iterations': 1500, 'learning_rate': 0.10754230079730588, 'random_strength': 9, 'bagging_temperature': 10, 'max_bin': 8, 'grow_policy': 'SymmetricTree', 'min_data_in_leaf': 4, 'max_depth': 8, 'l2_leaf_reg': 0.27380132206726326, 'one_hot_max_size': 100, 'auto_class_weights': 'Balanced'}. Best is trial 13 with value: 0.8645721157519723.\n"
          ]
        },
        {
          "output_type": "stream",
          "name": "stdout",
          "text": [
            "\n",
            "bestTest = 0.4766777062\n",
            "bestIteration = 83\n",
            "\n",
            "Training on fold [0/5]\n",
            "\n",
            "bestTest = 0.4251741375\n",
            "bestIteration = 467\n",
            "\n",
            "Training on fold [1/5]\n",
            "\n",
            "bestTest = 0.4160313198\n",
            "bestIteration = 500\n",
            "\n",
            "Training on fold [2/5]\n",
            "\n",
            "bestTest = 0.4248866882\n",
            "bestIteration = 636\n",
            "\n",
            "Training on fold [3/5]\n",
            "\n",
            "bestTest = 0.4231781997\n",
            "bestIteration = 455\n",
            "\n",
            "Training on fold [4/5]\n"
          ]
        },
        {
          "output_type": "stream",
          "name": "stderr",
          "text": [
            "[I 2024-06-17 11:15:08,768] Trial 19 finished with value: 0.8670259061253984 and parameters: {'iterations': 1200, 'learning_rate': 0.03457949514742683, 'random_strength': 7, 'bagging_temperature': 8, 'max_bin': 5, 'grow_policy': 'Lossguide', 'min_data_in_leaf': 2, 'max_depth': 5, 'l2_leaf_reg': 99.11695455168572, 'one_hot_max_size': 10, 'auto_class_weights': 'SqrtBalanced'}. Best is trial 19 with value: 0.8670259061253984.\n"
          ]
        },
        {
          "output_type": "stream",
          "name": "stdout",
          "text": [
            "\n",
            "bestTest = 0.4268745408\n",
            "bestIteration = 441\n",
            "\n",
            "Training on fold [0/5]\n",
            "\n",
            "bestTest = 0.4226404564\n",
            "bestIteration = 94\n",
            "\n",
            "Training on fold [1/5]\n",
            "\n",
            "bestTest = 0.4169211354\n",
            "bestIteration = 111\n",
            "\n",
            "Training on fold [2/5]\n",
            "\n",
            "bestTest = 0.4243037673\n",
            "bestIteration = 102\n",
            "\n",
            "Training on fold [3/5]\n",
            "\n",
            "bestTest = 0.4271240697\n",
            "bestIteration = 82\n",
            "\n",
            "Training on fold [4/5]\n"
          ]
        },
        {
          "output_type": "stream",
          "name": "stderr",
          "text": [
            "[I 2024-06-17 11:15:33,254] Trial 20 finished with value: 0.8661016909019124 and parameters: {'iterations': 1200, 'learning_rate': 0.17019901906103235, 'random_strength': 5, 'bagging_temperature': 8, 'max_bin': 5, 'grow_policy': 'Lossguide', 'min_data_in_leaf': 4, 'max_depth': 9, 'l2_leaf_reg': 82.78307909643196, 'one_hot_max_size': 10, 'auto_class_weights': 'SqrtBalanced'}. Best is trial 19 with value: 0.8670259061253984.\n"
          ]
        },
        {
          "output_type": "stream",
          "name": "stdout",
          "text": [
            "\n",
            "bestTest = 0.4291289285\n",
            "bestIteration = 102\n",
            "\n",
            "Training on fold [0/5]\n",
            "\n",
            "bestTest = 0.4268869192\n",
            "bestIteration = 80\n",
            "\n",
            "Training on fold [1/5]\n",
            "\n",
            "bestTest = 0.4182661618\n",
            "bestIteration = 104\n",
            "\n",
            "Training on fold [2/5]\n",
            "\n",
            "bestTest = 0.4267312228\n",
            "bestIteration = 94\n",
            "\n",
            "Training on fold [3/5]\n",
            "\n",
            "bestTest = 0.4266925699\n",
            "bestIteration = 72\n",
            "\n",
            "Training on fold [4/5]\n"
          ]
        },
        {
          "output_type": "stream",
          "name": "stderr",
          "text": [
            "[I 2024-06-17 11:15:50,709] Trial 21 finished with value: 0.8648597586863316 and parameters: {'iterations': 1200, 'learning_rate': 0.1813402925138622, 'random_strength': 5, 'bagging_temperature': 8, 'max_bin': 5, 'grow_policy': 'Lossguide', 'min_data_in_leaf': 4, 'max_depth': 9, 'l2_leaf_reg': 97.05967522169827, 'one_hot_max_size': 10, 'auto_class_weights': 'SqrtBalanced'}. Best is trial 19 with value: 0.8670259061253984.\n"
          ]
        },
        {
          "output_type": "stream",
          "name": "stdout",
          "text": [
            "\n",
            "bestTest = 0.4289310872\n",
            "bestIteration = 94\n",
            "\n",
            "Training on fold [0/5]\n",
            "\n",
            "bestTest = 0.4251795894\n",
            "bestIteration = 93\n",
            "\n",
            "Training on fold [1/5]\n",
            "\n",
            "bestTest = 0.4179933386\n",
            "bestIteration = 90\n",
            "\n",
            "Training on fold [2/5]\n",
            "\n",
            "bestTest = 0.428032481\n",
            "bestIteration = 94\n",
            "\n",
            "Training on fold [3/5]\n",
            "\n",
            "bestTest = 0.4221597745\n",
            "bestIteration = 75\n",
            "\n",
            "Training on fold [4/5]\n"
          ]
        },
        {
          "output_type": "stream",
          "name": "stderr",
          "text": [
            "[I 2024-06-17 11:16:11,407] Trial 22 finished with value: 0.8661818875226575 and parameters: {'iterations': 1200, 'learning_rate': 0.17742863503226816, 'random_strength': 5, 'bagging_temperature': 6, 'max_bin': 5, 'grow_policy': 'Lossguide', 'min_data_in_leaf': 2, 'max_depth': 9, 'l2_leaf_reg': 91.69888044927987, 'one_hot_max_size': 10, 'auto_class_weights': 'SqrtBalanced'}. Best is trial 19 with value: 0.8670259061253984.\n"
          ]
        },
        {
          "output_type": "stream",
          "name": "stdout",
          "text": [
            "\n",
            "bestTest = 0.4261635669\n",
            "bestIteration = 94\n",
            "\n",
            "Training on fold [0/5]\n",
            "\n",
            "bestTest = 0.4257741932\n",
            "bestIteration = 108\n",
            "\n",
            "Training on fold [1/5]\n",
            "\n",
            "bestTest = 0.4179048646\n",
            "bestIteration = 127\n",
            "\n",
            "Training on fold [2/5]\n",
            "\n",
            "bestTest = 0.4220293694\n",
            "bestIteration = 144\n",
            "\n",
            "Training on fold [3/5]\n",
            "\n",
            "bestTest = 0.4238460839\n",
            "bestIteration = 89\n",
            "\n",
            "Training on fold [4/5]\n"
          ]
        },
        {
          "output_type": "stream",
          "name": "stderr",
          "text": [
            "[I 2024-06-17 11:16:38,313] Trial 23 finished with value: 0.8663092950446792 and parameters: {'iterations': 1200, 'learning_rate': 0.16853766962373737, 'random_strength': 7, 'bagging_temperature': 6, 'max_bin': 5, 'grow_policy': 'Lossguide', 'min_data_in_leaf': 2, 'max_depth': 9, 'l2_leaf_reg': 89.94436397893038, 'one_hot_max_size': 10, 'auto_class_weights': 'SqrtBalanced'}. Best is trial 19 with value: 0.8670259061253984.\n"
          ]
        },
        {
          "output_type": "stream",
          "name": "stdout",
          "text": [
            "\n",
            "bestTest = 0.426360908\n",
            "bestIteration = 128\n",
            "\n",
            "Training on fold [0/5]\n",
            "\n",
            "bestTest = 0.4297560878\n",
            "bestIteration = 56\n",
            "\n",
            "Training on fold [1/5]\n",
            "\n",
            "bestTest = 0.4234566732\n",
            "bestIteration = 69\n",
            "\n",
            "Training on fold [2/5]\n",
            "\n",
            "bestTest = 0.4303449646\n",
            "bestIteration = 72\n",
            "\n",
            "Training on fold [3/5]\n",
            "\n",
            "bestTest = 0.432341963\n",
            "bestIteration = 56\n",
            "\n",
            "Training on fold [4/5]\n"
          ]
        },
        {
          "output_type": "stream",
          "name": "stderr",
          "text": [
            "[I 2024-06-17 11:16:50,818] Trial 24 finished with value: 0.8621559413384906 and parameters: {'iterations': 1200, 'learning_rate': 0.22901862705036102, 'random_strength': 7, 'bagging_temperature': 6, 'max_bin': 5, 'grow_policy': 'Lossguide', 'min_data_in_leaf': 2, 'max_depth': 8, 'l2_leaf_reg': 0.8819361741496402, 'one_hot_max_size': 10, 'auto_class_weights': 'SqrtBalanced'}. Best is trial 19 with value: 0.8670259061253984.\n"
          ]
        },
        {
          "output_type": "stream",
          "name": "stdout",
          "text": [
            "\n",
            "bestTest = 0.4305911397\n",
            "bestIteration = 55\n",
            "\n",
            "Training on fold [0/5]\n",
            "\n",
            "bestTest = 0.4245140363\n",
            "bestIteration = 92\n",
            "\n",
            "Training on fold [1/5]\n",
            "\n",
            "bestTest = 0.4203832495\n",
            "bestIteration = 93\n",
            "\n",
            "Training on fold [2/5]\n",
            "\n",
            "bestTest = 0.4270338456\n",
            "bestIteration = 94\n",
            "\n",
            "Training on fold [3/5]\n",
            "\n",
            "bestTest = 0.4280417525\n",
            "bestIteration = 88\n",
            "\n",
            "Training on fold [4/5]\n"
          ]
        },
        {
          "output_type": "stream",
          "name": "stderr",
          "text": [
            "[I 2024-06-17 11:17:08,593] Trial 25 finished with value: 0.864807106351132 and parameters: {'iterations': 1200, 'learning_rate': 0.1679348262267533, 'random_strength': 7, 'bagging_temperature': 5, 'max_bin': 5, 'grow_policy': 'Lossguide', 'min_data_in_leaf': 2, 'max_depth': 9, 'l2_leaf_reg': 17.221340282901554, 'one_hot_max_size': 10, 'auto_class_weights': 'SqrtBalanced'}. Best is trial 19 with value: 0.8670259061253984.\n"
          ]
        },
        {
          "output_type": "stream",
          "name": "stdout",
          "text": [
            "\n",
            "bestTest = 0.4262343013\n",
            "bestIteration = 95\n",
            "\n",
            "Training on fold [0/5]\n",
            "\n",
            "bestTest = 0.425672306\n",
            "bestIteration = 73\n",
            "\n",
            "Training on fold [1/5]\n",
            "\n",
            "bestTest = 0.4214922292\n",
            "bestIteration = 89\n",
            "\n",
            "Training on fold [2/5]\n",
            "\n",
            "bestTest = 0.4256511798\n",
            "bestIteration = 82\n",
            "\n",
            "Training on fold [3/5]\n",
            "\n",
            "bestTest = 0.4289957257\n",
            "bestIteration = 62\n",
            "\n",
            "Training on fold [4/5]\n"
          ]
        },
        {
          "output_type": "stream",
          "name": "stderr",
          "text": [
            "[I 2024-06-17 11:17:23,523] Trial 26 finished with value: 0.8645217196615558 and parameters: {'iterations': 1200, 'learning_rate': 0.1995311665881793, 'random_strength': 6, 'bagging_temperature': 6, 'max_bin': 5, 'grow_policy': 'Lossguide', 'min_data_in_leaf': 2, 'max_depth': 7, 'l2_leaf_reg': 17.843392697641264, 'one_hot_max_size': 10, 'auto_class_weights': 'SqrtBalanced'}. Best is trial 19 with value: 0.8670259061253984.\n"
          ]
        },
        {
          "output_type": "stream",
          "name": "stdout",
          "text": [
            "\n",
            "bestTest = 0.4274847293\n",
            "bestIteration = 72\n",
            "\n",
            "Training on fold [0/5]\n",
            "\n",
            "bestTest = 0.4608481406\n",
            "bestIteration = 100\n",
            "\n",
            "Training on fold [1/5]\n",
            "\n",
            "bestTest = 0.4540013376\n",
            "bestIteration = 99\n",
            "\n",
            "Training on fold [2/5]\n",
            "\n",
            "bestTest = 0.4619772197\n",
            "bestIteration = 101\n",
            "\n",
            "Training on fold [3/5]\n",
            "\n",
            "bestTest = 0.4637453634\n",
            "bestIteration = 97\n",
            "\n",
            "Training on fold [4/5]\n"
          ]
        },
        {
          "output_type": "stream",
          "name": "stderr",
          "text": [
            "[I 2024-06-17 11:17:43,190] Trial 27 finished with value: 0.8631447596968049 and parameters: {'iterations': 1200, 'learning_rate': 0.1407938710864717, 'random_strength': 9, 'bagging_temperature': 4, 'max_bin': 5, 'grow_policy': 'Lossguide', 'min_data_in_leaf': 3, 'max_depth': 6, 'l2_leaf_reg': 0.8368908731025517, 'one_hot_max_size': 10, 'auto_class_weights': 'Balanced'}. Best is trial 19 with value: 0.8670259061253984.\n"
          ]
        },
        {
          "output_type": "stream",
          "name": "stdout",
          "text": [
            "\n",
            "bestTest = 0.4642721641\n",
            "bestIteration = 95\n",
            "\n",
            "Training on fold [0/5]\n",
            "\n",
            "bestTest = 0.4296142173\n",
            "bestIteration = 49\n",
            "\n",
            "Training on fold [1/5]\n",
            "\n",
            "bestTest = 0.4181045164\n",
            "bestIteration = 65\n",
            "\n",
            "Training on fold [2/5]\n",
            "\n",
            "bestTest = 0.4264944711\n",
            "bestIteration = 53\n",
            "\n",
            "Training on fold [3/5]\n",
            "\n",
            "bestTest = 0.4288274342\n",
            "bestIteration = 45\n",
            "\n",
            "Training on fold [4/5]\n"
          ]
        },
        {
          "output_type": "stream",
          "name": "stderr",
          "text": [
            "[I 2024-06-17 11:17:54,481] Trial 28 finished with value: 0.8642258312443643 and parameters: {'iterations': 1200, 'learning_rate': 0.29978865396215293, 'random_strength': 4, 'bagging_temperature': 7, 'max_bin': 5, 'grow_policy': 'Lossguide', 'min_data_in_leaf': 2, 'max_depth': 8, 'l2_leaf_reg': 67.71278102376614, 'one_hot_max_size': 5, 'auto_class_weights': 'SqrtBalanced'}. Best is trial 19 with value: 0.8670259061253984.\n"
          ]
        },
        {
          "output_type": "stream",
          "name": "stdout",
          "text": [
            "\n",
            "bestTest = 0.4281808033\n",
            "bestIteration = 44\n",
            "\n",
            "Training on fold [0/5]\n",
            "\n",
            "bestTest = 0.426442267\n",
            "bestIteration = 162\n",
            "\n",
            "Training on fold [1/5]\n",
            "\n",
            "bestTest = 0.4170120587\n",
            "bestIteration = 171\n",
            "\n",
            "Training on fold [2/5]\n",
            "\n",
            "bestTest = 0.429044176\n",
            "bestIteration = 180\n",
            "\n",
            "Training on fold [3/5]\n",
            "\n",
            "bestTest = 0.4261306918\n",
            "bestIteration = 150\n",
            "\n",
            "Training on fold [4/5]\n"
          ]
        },
        {
          "output_type": "stream",
          "name": "stderr",
          "text": [
            "[I 2024-06-17 11:18:23,239] Trial 29 finished with value: 0.8646031408271778 and parameters: {'iterations': 1000, 'learning_rate': 0.08777588409760562, 'random_strength': 7, 'bagging_temperature': 4, 'max_bin': 20, 'grow_policy': 'Lossguide', 'min_data_in_leaf': 1, 'max_depth': 10, 'l2_leaf_reg': 0.06851010003292098, 'one_hot_max_size': 12, 'auto_class_weights': 'SqrtBalanced'}. Best is trial 19 with value: 0.8670259061253984.\n"
          ]
        },
        {
          "output_type": "stream",
          "name": "stdout",
          "text": [
            "\n",
            "bestTest = 0.4290129097\n",
            "bestIteration = 152\n",
            "\n",
            "Training on fold [0/5]\n",
            "\n",
            "bestTest = 0.4305312958\n",
            "bestIteration = 88\n",
            "\n",
            "Training on fold [1/5]\n",
            "\n",
            "bestTest = 0.4213376699\n",
            "bestIteration = 98\n",
            "\n",
            "Training on fold [2/5]\n",
            "\n",
            "bestTest = 0.4291961828\n",
            "bestIteration = 87\n",
            "\n",
            "Training on fold [3/5]\n",
            "\n",
            "bestTest = 0.4270698653\n",
            "bestIteration = 85\n",
            "\n",
            "Training on fold [4/5]\n"
          ]
        },
        {
          "output_type": "stream",
          "name": "stderr",
          "text": [
            "[I 2024-06-17 11:18:30,771] Trial 30 finished with value: 0.864193347927994 and parameters: {'iterations': 100, 'learning_rate': 0.15829306972224438, 'random_strength': 9, 'bagging_temperature': 6, 'max_bin': 30, 'grow_policy': 'Lossguide', 'min_data_in_leaf': 3, 'max_depth': 5, 'l2_leaf_reg': 4.571972387109759, 'one_hot_max_size': 1024, 'auto_class_weights': 'SqrtBalanced'}. Best is trial 19 with value: 0.8670259061253984.\n"
          ]
        },
        {
          "output_type": "stream",
          "name": "stdout",
          "text": [
            "\n",
            "bestTest = 0.4264629137\n",
            "bestIteration = 98\n",
            "\n",
            "Training on fold [0/5]\n",
            "\n",
            "bestTest = 0.4230128588\n",
            "bestIteration = 95\n",
            "\n",
            "Training on fold [1/5]\n",
            "\n",
            "bestTest = 0.4202414396\n",
            "bestIteration = 102\n",
            "\n",
            "Training on fold [2/5]\n",
            "\n",
            "bestTest = 0.4256026647\n",
            "bestIteration = 119\n",
            "\n",
            "Training on fold [3/5]\n",
            "\n",
            "bestTest = 0.4233691241\n",
            "bestIteration = 78\n",
            "\n",
            "Training on fold [4/5]\n"
          ]
        },
        {
          "output_type": "stream",
          "name": "stderr",
          "text": [
            "[I 2024-06-17 11:18:50,431] Trial 31 finished with value: 0.8655267130546399 and parameters: {'iterations': 1200, 'learning_rate': 0.17277640282526008, 'random_strength': 5, 'bagging_temperature': 9, 'max_bin': 5, 'grow_policy': 'Lossguide', 'min_data_in_leaf': 2, 'max_depth': 9, 'l2_leaf_reg': 91.3733152519072, 'one_hot_max_size': 10, 'auto_class_weights': 'SqrtBalanced'}. Best is trial 19 with value: 0.8670259061253984.\n"
          ]
        },
        {
          "output_type": "stream",
          "name": "stdout",
          "text": [
            "\n",
            "bestTest = 0.4293021186\n",
            "bestIteration = 82\n",
            "\n",
            "Training on fold [0/5]\n",
            "\n",
            "bestTest = 0.4307681798\n",
            "bestIteration = 68\n",
            "\n",
            "Training on fold [1/5]\n",
            "\n",
            "bestTest = 0.4228741358\n",
            "bestIteration = 76\n",
            "\n",
            "Training on fold [2/5]\n",
            "\n",
            "bestTest = 0.4256016286\n",
            "bestIteration = 98\n",
            "\n",
            "Training on fold [3/5]\n",
            "\n",
            "bestTest = 0.4308980148\n",
            "bestIteration = 58\n",
            "\n",
            "Training on fold [4/5]\n"
          ]
        },
        {
          "output_type": "stream",
          "name": "stderr",
          "text": [
            "[I 2024-06-17 11:19:05,411] Trial 32 finished with value: 0.8625459812051508 and parameters: {'iterations': 200, 'learning_rate': 0.20991565095138193, 'random_strength': 6, 'bagging_temperature': 7, 'max_bin': 10, 'grow_policy': 'Lossguide', 'min_data_in_leaf': 1, 'max_depth': 9, 'l2_leaf_reg': 31.192221085557463, 'one_hot_max_size': 10, 'auto_class_weights': 'SqrtBalanced'}. Best is trial 19 with value: 0.8670259061253984.\n"
          ]
        },
        {
          "output_type": "stream",
          "name": "stdout",
          "text": [
            "\n",
            "bestTest = 0.4305199038\n",
            "bestIteration = 75\n",
            "\n",
            "Training on fold [0/5]\n",
            "\n",
            "bestTest = 0.4282743611\n",
            "bestIteration = 90\n",
            "\n",
            "Training on fold [1/5]\n",
            "\n",
            "bestTest = 0.4196289928\n",
            "bestIteration = 101\n",
            "\n",
            "Training on fold [2/5]\n",
            "\n",
            "bestTest = 0.4240114816\n",
            "bestIteration = 102\n",
            "\n",
            "Training on fold [3/5]\n",
            "\n",
            "bestTest = 0.4271863552\n",
            "bestIteration = 89\n",
            "\n",
            "Training on fold [4/5]\n"
          ]
        },
        {
          "output_type": "stream",
          "name": "stderr",
          "text": [
            "[I 2024-06-17 11:19:22,718] Trial 33 finished with value: 0.8640427787424875 and parameters: {'iterations': 1200, 'learning_rate': 0.15174253841678015, 'random_strength': 5, 'bagging_temperature': 8, 'max_bin': 5, 'grow_policy': 'Lossguide', 'min_data_in_leaf': 5, 'max_depth': 8, 'l2_leaf_reg': 6.534604850795848, 'one_hot_max_size': 10, 'auto_class_weights': 'SqrtBalanced'}. Best is trial 19 with value: 0.8670259061253984.\n"
          ]
        },
        {
          "output_type": "stream",
          "name": "stdout",
          "text": [
            "\n",
            "bestTest = 0.4313482997\n",
            "bestIteration = 84\n",
            "\n",
            "Training on fold [0/5]\n",
            "\n",
            "bestTest = 0.4253944643\n",
            "bestIteration = 114\n",
            "\n",
            "Training on fold [1/5]\n",
            "\n",
            "bestTest = 0.4193297006\n",
            "bestIteration = 112\n",
            "\n",
            "Training on fold [2/5]\n",
            "\n",
            "bestTest = 0.4277521433\n",
            "bestIteration = 133\n",
            "\n",
            "Training on fold [3/5]\n",
            "\n",
            "bestTest = 0.4263312476\n",
            "bestIteration = 113\n",
            "\n",
            "Training on fold [4/5]\n"
          ]
        },
        {
          "output_type": "stream",
          "name": "stderr",
          "text": [
            "[I 2024-06-17 11:19:44,408] Trial 34 finished with value: 0.865100784775388 and parameters: {'iterations': 1200, 'learning_rate': 0.1314735517013542, 'random_strength': 7, 'bagging_temperature': 7, 'max_bin': 5, 'grow_policy': 'Lossguide', 'min_data_in_leaf': 1, 'max_depth': 9, 'l2_leaf_reg': 1.1859538078798002, 'one_hot_max_size': 10, 'auto_class_weights': 'SqrtBalanced'}. Best is trial 19 with value: 0.8670259061253984.\n"
          ]
        },
        {
          "output_type": "stream",
          "name": "stdout",
          "text": [
            "\n",
            "bestTest = 0.4265195051\n",
            "bestIteration = 100\n",
            "\n",
            "Training on fold [0/5]\n",
            "\n",
            "bestTest = 0.4255862223\n",
            "bestIteration = 56\n",
            "\n",
            "Training on fold [1/5]\n",
            "\n",
            "bestTest = 0.4195640334\n",
            "bestIteration = 62\n",
            "\n",
            "Training on fold [2/5]\n",
            "\n",
            "bestTest = 0.4288368638\n",
            "bestIteration = 60\n",
            "\n",
            "Training on fold [3/5]\n",
            "\n",
            "bestTest = 0.4269039031\n",
            "bestIteration = 51\n",
            "\n",
            "Training on fold [4/5]\n"
          ]
        },
        {
          "output_type": "stream",
          "name": "stderr",
          "text": [
            "[I 2024-06-17 11:19:50,831] Trial 35 finished with value: 0.8641587097708332 and parameters: {'iterations': 200, 'learning_rate': 0.2407263029150465, 'random_strength': 3, 'bagging_temperature': 8, 'max_bin': 10, 'grow_policy': 'Lossguide', 'min_data_in_leaf': 3, 'max_depth': 10, 'l2_leaf_reg': 34.21447073116419, 'one_hot_max_size': 500, 'auto_class_weights': 'SqrtBalanced'}. Best is trial 19 with value: 0.8670259061253984.\n"
          ]
        },
        {
          "output_type": "stream",
          "name": "stdout",
          "text": [
            "\n",
            "bestTest = 0.4332244551\n",
            "bestIteration = 63\n",
            "\n",
            "Training on fold [0/5]\n",
            "\n",
            "bestTest = 0.4358261718\n",
            "bestIteration = 48\n",
            "\n",
            "Training on fold [1/5]\n",
            "\n",
            "bestTest = 0.4259303648\n",
            "bestIteration = 70\n",
            "\n",
            "Training on fold [2/5]\n",
            "\n",
            "bestTest = 0.4342277843\n",
            "bestIteration = 74\n",
            "\n",
            "Training on fold [3/5]\n",
            "\n",
            "bestTest = 0.4317845109\n",
            "bestIteration = 59\n",
            "\n",
            "Training on fold [4/5]\n"
          ]
        },
        {
          "output_type": "stream",
          "name": "stderr",
          "text": [
            "[I 2024-06-17 11:20:03,927] Trial 36 finished with value: 0.8599979536576032 and parameters: {'iterations': 300, 'learning_rate': 0.1905370552621146, 'random_strength': 6, 'bagging_temperature': 5, 'max_bin': 8, 'grow_policy': 'Lossguide', 'min_data_in_leaf': 4, 'max_depth': 7, 'l2_leaf_reg': 0.09186147296372965, 'one_hot_max_size': 10, 'auto_class_weights': 'SqrtBalanced'}. Best is trial 19 with value: 0.8670259061253984.\n"
          ]
        },
        {
          "output_type": "stream",
          "name": "stdout",
          "text": [
            "\n",
            "bestTest = 0.4288395667\n",
            "bestIteration = 76\n",
            "\n",
            "Training on fold [0/5]\n",
            "\n",
            "bestTest = 0.4291967531\n",
            "bestIteration = 88\n",
            "\n",
            "Training on fold [1/5]\n",
            "\n",
            "bestTest = 0.4200759537\n",
            "bestIteration = 109\n",
            "\n",
            "Training on fold [2/5]\n",
            "\n",
            "bestTest = 0.4273117366\n",
            "bestIteration = 102\n",
            "\n",
            "Training on fold [3/5]\n",
            "\n",
            "bestTest = 0.4251845369\n",
            "bestIteration = 81\n",
            "\n",
            "Training on fold [4/5]\n"
          ]
        },
        {
          "output_type": "stream",
          "name": "stderr",
          "text": [
            "[I 2024-06-17 11:20:19,805] Trial 37 finished with value: 0.8639929798497172 and parameters: {'iterations': 1200, 'learning_rate': 0.15968265933531317, 'random_strength': 8, 'bagging_temperature': 9, 'max_bin': 5, 'grow_policy': 'Depthwise', 'min_data_in_leaf': 2, 'max_depth': 6, 'l2_leaf_reg': 11.03017327545837, 'one_hot_max_size': 10, 'auto_class_weights': 'SqrtBalanced'}. Best is trial 19 with value: 0.8670259061253984.\n"
          ]
        },
        {
          "output_type": "stream",
          "name": "stdout",
          "text": [
            "\n",
            "bestTest = 0.4307275944\n",
            "bestIteration = 91\n",
            "\n",
            "Training on fold [0/5]\n",
            "\n",
            "bestTest = 0.4687562918\n",
            "bestIteration = 53\n",
            "\n",
            "Training on fold [1/5]\n",
            "\n",
            "bestTest = 0.4554586315\n",
            "bestIteration = 72\n",
            "\n",
            "Training on fold [2/5]\n",
            "\n",
            "bestTest = 0.464940872\n",
            "bestIteration = 69\n",
            "\n",
            "Training on fold [3/5]\n",
            "\n",
            "bestTest = 0.465813368\n",
            "bestIteration = 57\n",
            "\n",
            "Training on fold [4/5]\n"
          ]
        },
        {
          "output_type": "stream",
          "name": "stderr",
          "text": [
            "[I 2024-06-17 11:20:32,129] Trial 38 finished with value: 0.861081089588023 and parameters: {'iterations': 500, 'learning_rate': 0.21735556830725986, 'random_strength': 4, 'bagging_temperature': 3, 'max_bin': 30, 'grow_policy': 'Lossguide', 'min_data_in_leaf': 1, 'max_depth': 8, 'l2_leaf_reg': 1.7677610251642484, 'one_hot_max_size': 10, 'auto_class_weights': 'Balanced'}. Best is trial 19 with value: 0.8670259061253984.\n"
          ]
        },
        {
          "output_type": "stream",
          "name": "stdout",
          "text": [
            "\n",
            "bestTest = 0.466819201\n",
            "bestIteration = 62\n",
            "\n",
            "Training on fold [0/5]\n",
            "\n",
            "bestTest = 0.4233987525\n",
            "bestIteration = 380\n",
            "\n",
            "Training on fold [1/5]\n",
            "\n",
            "bestTest = 0.4154409491\n",
            "bestIteration = 437\n",
            "\n",
            "Training on fold [2/5]\n",
            "\n",
            "bestTest = 0.4238350029\n",
            "bestIteration = 503\n",
            "\n",
            "Training on fold [3/5]\n",
            "\n",
            "bestTest = 0.4225174827\n",
            "bestIteration = 366\n",
            "\n",
            "Training on fold [4/5]\n"
          ]
        },
        {
          "output_type": "stream",
          "name": "stderr",
          "text": [
            "[I 2024-06-17 11:21:34,805] Trial 39 finished with value: 0.8678186641159854 and parameters: {'iterations': 1200, 'learning_rate': 0.03770370395239825, 'random_strength': 5, 'bagging_temperature': 6, 'max_bin': 5, 'grow_policy': 'Depthwise', 'min_data_in_leaf': 4, 'max_depth': 10, 'l2_leaf_reg': 91.0938458202751, 'one_hot_max_size': 500, 'auto_class_weights': 'SqrtBalanced'}. Best is trial 39 with value: 0.8678186641159854.\n"
          ]
        },
        {
          "output_type": "stream",
          "name": "stdout",
          "text": [
            "\n",
            "bestTest = 0.425238092\n",
            "bestIteration = 393\n",
            "\n",
            "Training on fold [0/5]\n",
            "\n",
            "bestTest = 0.4288727905\n",
            "bestIteration = 200\n",
            "\n",
            "Training on fold [1/5]\n",
            "\n",
            "bestTest = 0.4220140502\n",
            "bestIteration = 187\n",
            "\n",
            "Training on fold [2/5]\n",
            "\n",
            "bestTest = 0.4281538321\n",
            "bestIteration = 274\n",
            "\n",
            "Training on fold [3/5]\n",
            "\n",
            "bestTest = 0.4303218382\n",
            "bestIteration = 176\n",
            "\n",
            "Training on fold [4/5]\n"
          ]
        },
        {
          "output_type": "stream",
          "name": "stderr",
          "text": [
            "[I 2024-06-17 11:22:13,850] Trial 40 finished with value: 0.864403907955228 and parameters: {'iterations': 1200, 'learning_rate': 0.042768588560844555, 'random_strength': 6, 'bagging_temperature': 6, 'max_bin': 20, 'grow_policy': 'Depthwise', 'min_data_in_leaf': 2, 'max_depth': 10, 'l2_leaf_reg': 6.754377350101621, 'one_hot_max_size': 500, 'auto_class_weights': 'SqrtBalanced'}. Best is trial 39 with value: 0.8678186641159854.\n"
          ]
        },
        {
          "output_type": "stream",
          "name": "stdout",
          "text": [
            "\n",
            "bestTest = 0.4295220686\n",
            "bestIteration = 198\n",
            "\n",
            "Training on fold [0/5]\n",
            "\n",
            "bestTest = 0.4282460554\n",
            "bestIteration = 158\n",
            "\n",
            "Training on fold [1/5]\n",
            "\n",
            "bestTest = 0.4204709818\n",
            "bestIteration = 201\n",
            "\n",
            "Training on fold [2/5]\n",
            "\n",
            "bestTest = 0.4223965693\n",
            "bestIteration = 208\n",
            "\n",
            "Training on fold [3/5]\n",
            "\n",
            "bestTest = 0.4256073718\n",
            "bestIteration = 170\n",
            "\n",
            "Training on fold [4/5]\n"
          ]
        },
        {
          "output_type": "stream",
          "name": "stderr",
          "text": [
            "[I 2024-06-17 11:22:37,997] Trial 41 finished with value: 0.86567505472109 and parameters: {'iterations': 1200, 'learning_rate': 0.07483482443629422, 'random_strength': 5, 'bagging_temperature': 7, 'max_bin': 5, 'grow_policy': 'Depthwise', 'min_data_in_leaf': 3, 'max_depth': 9, 'l2_leaf_reg': 36.015703046619066, 'one_hot_max_size': 500, 'auto_class_weights': 'SqrtBalanced'}. Best is trial 39 with value: 0.8678186641159854.\n"
          ]
        },
        {
          "output_type": "stream",
          "name": "stdout",
          "text": [
            "\n",
            "bestTest = 0.4263211906\n",
            "bestIteration = 148\n",
            "\n",
            "Training on fold [0/5]\n",
            "\n",
            "bestTest = 0.4250506249\n",
            "bestIteration = 237\n",
            "\n",
            "Training on fold [1/5]\n",
            "\n",
            "bestTest = 0.4173087486\n",
            "bestIteration = 287\n",
            "\n",
            "Training on fold [2/5]\n",
            "\n",
            "bestTest = 0.4224456882\n",
            "bestIteration = 419\n",
            "\n",
            "Training on fold [3/5]\n",
            "\n",
            "bestTest = 0.4256981904\n",
            "bestIteration = 251\n",
            "\n",
            "Training on fold [4/5]\n"
          ]
        },
        {
          "output_type": "stream",
          "name": "stderr",
          "text": [
            "[I 2024-06-17 11:23:24,870] Trial 42 finished with value: 0.8671057943803875 and parameters: {'iterations': 1200, 'learning_rate': 0.0472851180445361, 'random_strength': 4, 'bagging_temperature': 6, 'max_bin': 5, 'grow_policy': 'Depthwise', 'min_data_in_leaf': 4, 'max_depth': 10, 'l2_leaf_reg': 96.2991470278795, 'one_hot_max_size': 500, 'auto_class_weights': 'SqrtBalanced'}. Best is trial 39 with value: 0.8678186641159854.\n"
          ]
        },
        {
          "output_type": "stream",
          "name": "stdout",
          "text": [
            "\n",
            "bestTest = 0.4256055776\n",
            "bestIteration = 278\n",
            "\n",
            "Training on fold [0/5]\n",
            "\n",
            "bestTest = 0.4263874717\n",
            "bestIteration = 180\n",
            "\n",
            "Training on fold [1/5]\n",
            "\n",
            "bestTest = 0.4180116572\n",
            "bestIteration = 218\n",
            "\n",
            "Training on fold [2/5]\n",
            "\n",
            "bestTest = 0.4250200619\n",
            "bestIteration = 258\n",
            "\n",
            "Training on fold [3/5]\n",
            "\n",
            "bestTest = 0.4247133164\n",
            "bestIteration = 166\n",
            "\n",
            "Training on fold [4/5]\n"
          ]
        },
        {
          "output_type": "stream",
          "name": "stderr",
          "text": [
            "[I 2024-06-17 11:23:57,335] Trial 43 finished with value: 0.8663605841963472 and parameters: {'iterations': 1200, 'learning_rate': 0.048478087748405285, 'random_strength': 3, 'bagging_temperature': 4, 'max_bin': 5, 'grow_policy': 'Depthwise', 'min_data_in_leaf': 6, 'max_depth': 10, 'l2_leaf_reg': 16.39883871243771, 'one_hot_max_size': 500, 'auto_class_weights': 'SqrtBalanced'}. Best is trial 39 with value: 0.8678186641159854.\n"
          ]
        },
        {
          "output_type": "stream",
          "name": "stdout",
          "text": [
            "\n",
            "bestTest = 0.4281115717\n",
            "bestIteration = 174\n",
            "\n",
            "Training on fold [0/5]\n",
            "\n",
            "bestTest = 0.4306501643\n",
            "bestIteration = 98\n",
            "\n",
            "Training on fold [1/5]\n",
            "\n",
            "bestTest = 0.4262031127\n",
            "bestIteration = 99\n",
            "\n",
            "Training on fold [2/5]\n",
            "\n",
            "bestTest = 0.4351244483\n",
            "bestIteration = 99\n",
            "\n",
            "Training on fold [3/5]\n",
            "\n",
            "bestTest = 0.4280121037\n",
            "bestIteration = 98\n",
            "\n",
            "Training on fold [4/5]\n"
          ]
        },
        {
          "output_type": "stream",
          "name": "stderr",
          "text": [
            "[I 2024-06-17 11:24:15,166] Trial 44 finished with value: 0.8637985849953456 and parameters: {'iterations': 100, 'learning_rate': 0.051395948838544925, 'random_strength': 3, 'bagging_temperature': 4, 'max_bin': 4, 'grow_policy': 'Depthwise', 'min_data_in_leaf': 6, 'max_depth': 10, 'l2_leaf_reg': 14.467897844750219, 'one_hot_max_size': 500, 'auto_class_weights': 'SqrtBalanced'}. Best is trial 39 with value: 0.8678186641159854.\n"
          ]
        },
        {
          "output_type": "stream",
          "name": "stdout",
          "text": [
            "\n",
            "bestTest = 0.4319668087\n",
            "bestIteration = 99\n",
            "\n",
            "Training on fold [0/5]\n",
            "\n",
            "bestTest = 0.4304739919\n",
            "bestIteration = 199\n",
            "\n",
            "Training on fold [1/5]\n",
            "\n",
            "bestTest = 0.4236714929\n",
            "bestIteration = 198\n",
            "\n",
            "Training on fold [2/5]\n",
            "\n",
            "bestTest = 0.4359294122\n",
            "bestIteration = 199\n",
            "\n",
            "Training on fold [3/5]\n",
            "\n",
            "bestTest = 0.4326403632\n",
            "bestIteration = 197\n",
            "\n",
            "Training on fold [4/5]\n"
          ]
        },
        {
          "output_type": "stream",
          "name": "stderr",
          "text": [
            "[I 2024-06-17 11:24:47,299] Trial 45 finished with value: 0.863255989810925 and parameters: {'iterations': 200, 'learning_rate': 0.02050541642064001, 'random_strength': 2, 'bagging_temperature': 2, 'max_bin': 10, 'grow_policy': 'Depthwise', 'min_data_in_leaf': 7, 'max_depth': 10, 'l2_leaf_reg': 2.326296578756952, 'one_hot_max_size': 500, 'auto_class_weights': 'SqrtBalanced'}. Best is trial 39 with value: 0.8678186641159854.\n"
          ]
        },
        {
          "output_type": "stream",
          "name": "stdout",
          "text": [
            "\n",
            "bestTest = 0.4352579199\n",
            "bestIteration = 184\n",
            "\n",
            "Training on fold [0/5]\n",
            "\n",
            "bestTest = 0.4281348238\n",
            "bestIteration = 235\n",
            "\n",
            "Training on fold [1/5]\n",
            "\n",
            "bestTest = 0.4197132791\n",
            "bestIteration = 289\n",
            "\n",
            "Training on fold [2/5]\n",
            "\n",
            "bestTest = 0.4212269006\n",
            "bestIteration = 479\n",
            "\n",
            "Training on fold [3/5]\n",
            "\n",
            "bestTest = 0.4252857734\n",
            "bestIteration = 293\n",
            "\n",
            "Training on fold [4/5]\n"
          ]
        },
        {
          "output_type": "stream",
          "name": "stderr",
          "text": [
            "[I 2024-06-17 11:25:36,889] Trial 46 finished with value: 0.8668791837175551 and parameters: {'iterations': 1200, 'learning_rate': 0.02959762583843344, 'random_strength': 4, 'bagging_temperature': 3, 'max_bin': 6, 'grow_policy': 'Depthwise', 'min_data_in_leaf': 7, 'max_depth': 10, 'l2_leaf_reg': 29.18835928673731, 'one_hot_max_size': 500, 'auto_class_weights': 'SqrtBalanced'}. Best is trial 39 with value: 0.8678186641159854.\n"
          ]
        },
        {
          "output_type": "stream",
          "name": "stdout",
          "text": [
            "\n",
            "bestTest = 0.4280215252\n",
            "bestIteration = 259\n",
            "\n",
            "Training on fold [0/5]\n",
            "\n",
            "bestTest = 0.4718868082\n",
            "bestIteration = 229\n",
            "\n",
            "Training on fold [1/5]\n",
            "\n",
            "bestTest = 0.4656054982\n",
            "bestIteration = 229\n",
            "\n",
            "Training on fold [2/5]\n",
            "\n",
            "bestTest = 0.4740819172\n",
            "bestIteration = 269\n",
            "\n",
            "Training on fold [3/5]\n",
            "\n",
            "bestTest = 0.4709411843\n",
            "bestIteration = 224\n",
            "\n",
            "Training on fold [4/5]\n"
          ]
        },
        {
          "output_type": "stream",
          "name": "stderr",
          "text": [
            "[I 2024-06-17 11:26:17,054] Trial 47 finished with value: 0.8600217285604501 and parameters: {'iterations': 300, 'learning_rate': 0.019442436517662483, 'random_strength': 4, 'bagging_temperature': 3, 'max_bin': 6, 'grow_policy': 'Depthwise', 'min_data_in_leaf': 7, 'max_depth': 10, 'l2_leaf_reg': 0.21852708764884612, 'one_hot_max_size': 500, 'auto_class_weights': 'Balanced'}. Best is trial 39 with value: 0.8678186641159854.\n"
          ]
        },
        {
          "output_type": "stream",
          "name": "stdout",
          "text": [
            "\n",
            "bestTest = 0.4742424715\n",
            "bestIteration = 274\n",
            "\n",
            "Training on fold [0/5]\n",
            "\n",
            "bestTest = 0.4255829927\n",
            "bestIteration = 216\n",
            "\n",
            "Training on fold [1/5]\n",
            "\n",
            "bestTest = 0.4256909288\n",
            "bestIteration = 153\n",
            "\n",
            "Training on fold [2/5]\n",
            "\n",
            "bestTest = 0.4284742226\n",
            "bestIteration = 227\n",
            "\n",
            "Training on fold [3/5]\n",
            "\n",
            "bestTest = 0.4284286098\n",
            "bestIteration = 161\n",
            "\n",
            "Training on fold [4/5]\n"
          ]
        },
        {
          "output_type": "stream",
          "name": "stderr",
          "text": [
            "[I 2024-06-17 11:26:28,126] Trial 48 finished with value: 0.8640504130265336 and parameters: {'iterations': 500, 'learning_rate': 0.05432057018289284, 'random_strength': 2, 'bagging_temperature': 4, 'max_bin': 6, 'grow_policy': 'Depthwise', 'min_data_in_leaf': 8, 'max_depth': 5, 'l2_leaf_reg': 0.01602147641891717, 'one_hot_max_size': 500, 'auto_class_weights': 'SqrtBalanced'}. Best is trial 39 with value: 0.8678186641159854.\n"
          ]
        },
        {
          "output_type": "stream",
          "name": "stdout",
          "text": [
            "\n",
            "bestTest = 0.4289195494\n",
            "bestIteration = 173\n",
            "\n",
            "Training on fold [0/5]\n",
            "\n",
            "bestTest = 0.4321948811\n",
            "bestIteration = 69\n",
            "\n",
            "Training on fold [1/5]\n",
            "\n",
            "bestTest = 0.4227234793\n",
            "bestIteration = 101\n",
            "\n",
            "Training on fold [2/5]\n",
            "\n",
            "bestTest = 0.4340642467\n",
            "bestIteration = 108\n",
            "\n",
            "Training on fold [3/5]\n",
            "\n",
            "bestTest = 0.4314106585\n",
            "bestIteration = 76\n",
            "\n",
            "Training on fold [4/5]\n"
          ]
        },
        {
          "output_type": "stream",
          "name": "stderr",
          "text": [
            "[I 2024-06-17 11:26:43,508] Trial 49 finished with value: 0.8615355713713095 and parameters: {'iterations': 1200, 'learning_rate': 0.07845697932323101, 'random_strength': 3, 'bagging_temperature': 1, 'max_bin': 6, 'grow_policy': 'Depthwise', 'min_data_in_leaf': 6, 'max_depth': 10, 'l2_leaf_reg': 3.0292888596042484, 'one_hot_max_size': 500, 'auto_class_weights': 'SqrtBalanced'}. Best is trial 39 with value: 0.8678186641159854.\n"
          ]
        },
        {
          "output_type": "stream",
          "name": "stdout",
          "text": [
            "\n",
            "bestTest = 0.4333071859\n",
            "bestIteration = 74\n",
            "\n",
            "Training on fold [0/5]\n",
            "\n",
            "bestTest = 0.4261605708\n",
            "bestIteration = 405\n",
            "\n",
            "Training on fold [1/5]\n",
            "\n",
            "bestTest = 0.4156415245\n",
            "bestIteration = 521\n",
            "\n",
            "Training on fold [2/5]\n",
            "\n",
            "bestTest = 0.4228878125\n",
            "bestIteration = 611\n",
            "\n",
            "Training on fold [3/5]\n",
            "\n",
            "bestTest = 0.4253827359\n",
            "bestIteration = 423\n",
            "\n",
            "Training on fold [4/5]\n"
          ]
        },
        {
          "output_type": "stream",
          "name": "stderr",
          "text": [
            "[I 2024-06-17 11:27:56,478] Trial 50 finished with value: 0.8673659686180872 and parameters: {'iterations': 1000, 'learning_rate': 0.022163159204834325, 'random_strength': 4, 'bagging_temperature': 3, 'max_bin': 6, 'grow_policy': 'Depthwise', 'min_data_in_leaf': 10, 'max_depth': 10, 'l2_leaf_reg': 22.872045131991484, 'one_hot_max_size': 500, 'auto_class_weights': 'SqrtBalanced'}. Best is trial 39 with value: 0.8678186641159854.\n"
          ]
        },
        {
          "output_type": "stream",
          "name": "stdout",
          "text": [
            "\n",
            "bestTest = 0.4261035886\n",
            "bestIteration = 449\n",
            "\n",
            "Training on fold [0/5]\n",
            "\n",
            "bestTest = 0.4269724243\n",
            "bestIteration = 394\n",
            "\n",
            "Training on fold [1/5]\n",
            "\n",
            "bestTest = 0.4170969574\n",
            "bestIteration = 495\n",
            "\n",
            "Training on fold [2/5]\n",
            "\n",
            "bestTest = 0.4220647414\n",
            "bestIteration = 519\n",
            "\n",
            "Training on fold [3/5]\n",
            "\n",
            "bestTest = 0.4243224465\n",
            "bestIteration = 484\n",
            "\n",
            "Training on fold [4/5]\n"
          ]
        },
        {
          "output_type": "stream",
          "name": "stderr",
          "text": [
            "[I 2024-06-17 11:29:02,956] Trial 51 finished with value: 0.8669706551670977 and parameters: {'iterations': 1000, 'learning_rate': 0.02438173417376375, 'random_strength': 4, 'bagging_temperature': 3, 'max_bin': 6, 'grow_policy': 'Depthwise', 'min_data_in_leaf': 10, 'max_depth': 10, 'l2_leaf_reg': 27.252948890378736, 'one_hot_max_size': 500, 'auto_class_weights': 'SqrtBalanced'}. Best is trial 39 with value: 0.8678186641159854.\n"
          ]
        },
        {
          "output_type": "stream",
          "name": "stdout",
          "text": [
            "\n",
            "bestTest = 0.4270612197\n",
            "bestIteration = 337\n",
            "\n",
            "Training on fold [0/5]\n",
            "\n",
            "bestTest = 0.4252572718\n",
            "bestIteration = 382\n",
            "\n",
            "Training on fold [1/5]\n",
            "\n",
            "bestTest = 0.4172419761\n",
            "bestIteration = 432\n",
            "\n",
            "Training on fold [2/5]\n",
            "\n",
            "bestTest = 0.422221738\n",
            "bestIteration = 528\n",
            "\n",
            "Training on fold [3/5]\n",
            "\n",
            "bestTest = 0.4233448212\n",
            "bestIteration = 421\n",
            "\n",
            "Training on fold [4/5]\n"
          ]
        },
        {
          "output_type": "stream",
          "name": "stderr",
          "text": [
            "[I 2024-06-17 11:30:06,513] Trial 52 finished with value: 0.8676091308769305 and parameters: {'iterations': 1000, 'learning_rate': 0.027256636398518046, 'random_strength': 4, 'bagging_temperature': 1, 'max_bin': 6, 'grow_policy': 'Depthwise', 'min_data_in_leaf': 10, 'max_depth': 10, 'l2_leaf_reg': 39.24169499555872, 'one_hot_max_size': 500, 'auto_class_weights': 'SqrtBalanced'}. Best is trial 39 with value: 0.8678186641159854.\n"
          ]
        },
        {
          "output_type": "stream",
          "name": "stdout",
          "text": [
            "\n",
            "bestTest = 0.4259503534\n",
            "bestIteration = 385\n",
            "\n",
            "Training on fold [0/5]\n",
            "\n",
            "bestTest = 0.4289675448\n",
            "bestIteration = 423\n",
            "\n",
            "Training on fold [1/5]\n",
            "\n",
            "bestTest = 0.4206142521\n",
            "bestIteration = 468\n",
            "\n",
            "Training on fold [2/5]\n",
            "\n",
            "bestTest = 0.4266317968\n",
            "bestIteration = 519\n",
            "\n",
            "Training on fold [3/5]\n",
            "\n",
            "bestTest = 0.4258119374\n",
            "bestIteration = 487\n",
            "\n",
            "Training on fold [4/5]\n"
          ]
        },
        {
          "output_type": "stream",
          "name": "stderr",
          "text": [
            "[I 2024-06-17 11:31:16,296] Trial 53 finished with value: 0.8661232131406434 and parameters: {'iterations': 1000, 'learning_rate': 0.015320426471150258, 'random_strength': 4, 'bagging_temperature': 1, 'max_bin': 6, 'grow_policy': 'Depthwise', 'min_data_in_leaf': 10, 'max_depth': 10, 'l2_leaf_reg': 6.3801904130667175, 'one_hot_max_size': 500, 'auto_class_weights': 'SqrtBalanced'}. Best is trial 39 with value: 0.8678186641159854.\n"
          ]
        },
        {
          "output_type": "stream",
          "name": "stdout",
          "text": [
            "\n",
            "bestTest = 0.4312400904\n",
            "bestIteration = 357\n",
            "\n",
            "Training on fold [0/5]\n",
            "\n",
            "bestTest = 0.4468222816\n",
            "bestIteration = 999\n",
            "\n",
            "Training on fold [1/5]\n",
            "\n",
            "bestTest = 0.4459171419\n",
            "bestIteration = 999\n",
            "\n",
            "Training on fold [2/5]\n",
            "\n",
            "bestTest = 0.4548994651\n",
            "bestIteration = 999\n",
            "\n",
            "Training on fold [3/5]\n",
            "\n",
            "bestTest = 0.446872059\n",
            "bestIteration = 999\n",
            "\n",
            "Training on fold [4/5]\n"
          ]
        },
        {
          "output_type": "stream",
          "name": "stderr",
          "text": [
            "[I 2024-06-17 11:32:00,234] Trial 54 finished with value: 0.8568042336642309 and parameters: {'iterations': 1000, 'learning_rate': 0.003956699866870739, 'random_strength': 4, 'bagging_temperature': 1, 'max_bin': 6, 'grow_policy': 'Depthwise', 'min_data_in_leaf': 9, 'max_depth': 4, 'l2_leaf_reg': 1.4121415748017114e-06, 'one_hot_max_size': 500, 'auto_class_weights': 'SqrtBalanced'}. Best is trial 39 with value: 0.8678186641159854.\n"
          ]
        },
        {
          "output_type": "stream",
          "name": "stdout",
          "text": [
            "\n",
            "bestTest = 0.4515408055\n",
            "bestIteration = 999\n",
            "\n",
            "Training on fold [0/5]\n",
            "\n",
            "bestTest = 0.4235460167\n",
            "bestIteration = 310\n",
            "\n",
            "Training on fold [1/5]\n",
            "\n",
            "bestTest = 0.4148918624\n",
            "bestIteration = 306\n",
            "\n",
            "Training on fold [2/5]\n",
            "\n",
            "bestTest = 0.4222763461\n",
            "bestIteration = 332\n",
            "\n",
            "Training on fold [3/5]\n",
            "\n",
            "bestTest = 0.4222978522\n",
            "bestIteration = 294\n",
            "\n",
            "Training on fold [4/5]\n"
          ]
        },
        {
          "output_type": "stream",
          "name": "stderr",
          "text": [
            "[I 2024-06-17 11:32:37,098] Trial 55 finished with value: 0.8679416621268438 and parameters: {'iterations': 1000, 'learning_rate': 0.040854737902055314, 'random_strength': 4, 'bagging_temperature': 2, 'max_bin': 6, 'grow_policy': 'Depthwise', 'min_data_in_leaf': 9, 'max_depth': 9, 'l2_leaf_reg': 37.35976402643917, 'one_hot_max_size': 500, 'auto_class_weights': 'SqrtBalanced'}. Best is trial 55 with value: 0.8679416621268438.\n"
          ]
        },
        {
          "output_type": "stream",
          "name": "stdout",
          "text": [
            "\n",
            "bestTest = 0.4258582822\n",
            "bestIteration = 256\n",
            "\n",
            "Training on fold [0/5]\n",
            "\n",
            "bestTest = 0.4620775527\n",
            "bestIteration = 277\n",
            "\n",
            "Training on fold [1/5]\n",
            "\n",
            "bestTest = 0.4472412866\n",
            "bestIteration = 329\n",
            "\n",
            "Training on fold [2/5]\n",
            "\n",
            "bestTest = 0.4575917757\n",
            "bestIteration = 386\n",
            "\n",
            "Training on fold [3/5]\n",
            "\n",
            "bestTest = 0.461119342\n",
            "bestIteration = 212\n",
            "\n",
            "Training on fold [4/5]\n"
          ]
        },
        {
          "output_type": "stream",
          "name": "stderr",
          "text": [
            "[I 2024-06-17 11:33:13,421] Trial 56 finished with value: 0.8661150106367334 and parameters: {'iterations': 1000, 'learning_rate': 0.03647121500098183, 'random_strength': 3, 'bagging_temperature': 2, 'max_bin': 6, 'grow_policy': 'Depthwise', 'min_data_in_leaf': 9, 'max_depth': 9, 'l2_leaf_reg': 37.887416164943616, 'one_hot_max_size': 500, 'auto_class_weights': 'Balanced'}. Best is trial 55 with value: 0.8679416621268438.\n"
          ]
        },
        {
          "output_type": "stream",
          "name": "stdout",
          "text": [
            "\n",
            "bestTest = 0.4624318411\n",
            "bestIteration = 249\n",
            "\n",
            "Training on fold [0/5]\n",
            "\n",
            "bestTest = 0.4308595139\n",
            "bestIteration = 113\n",
            "\n",
            "Training on fold [1/5]\n",
            "\n",
            "bestTest = 0.4238300281\n",
            "bestIteration = 132\n",
            "\n",
            "Training on fold [2/5]\n",
            "\n",
            "bestTest = 0.4332275945\n",
            "bestIteration = 133\n",
            "\n",
            "Training on fold [3/5]\n",
            "\n",
            "bestTest = 0.4310828507\n",
            "bestIteration = 108\n",
            "\n",
            "Training on fold [4/5]\n"
          ]
        },
        {
          "output_type": "stream",
          "name": "stderr",
          "text": [
            "[I 2024-06-17 11:33:44,130] Trial 57 finished with value: 0.8624523673289595 and parameters: {'iterations': 1000, 'learning_rate': 0.060684772853801736, 'random_strength': 5, 'bagging_temperature': 0, 'max_bin': 6, 'grow_policy': 'Depthwise', 'min_data_in_leaf': 9, 'max_depth': 9, 'l2_leaf_reg': 0.5675862023770508, 'one_hot_max_size': 5, 'auto_class_weights': 'SqrtBalanced'}. Best is trial 55 with value: 0.8679416621268438.\n"
          ]
        },
        {
          "output_type": "stream",
          "name": "stdout",
          "text": [
            "\n",
            "bestTest = 0.4303672916\n",
            "bestIteration = 136\n",
            "\n",
            "Training on fold [0/5]\n",
            "\n",
            "bestTest = 0.4258757162\n",
            "bestIteration = 468\n",
            "\n",
            "Training on fold [1/5]\n",
            "\n",
            "bestTest = 0.4199489798\n",
            "bestIteration = 470\n",
            "\n",
            "Training on fold [2/5]\n",
            "\n",
            "bestTest = 0.4302191359\n",
            "bestIteration = 448\n",
            "\n",
            "Training on fold [3/5]\n",
            "\n",
            "bestTest = 0.4246692672\n",
            "bestIteration = 519\n",
            "\n",
            "Training on fold [4/5]\n"
          ]
        },
        {
          "output_type": "stream",
          "name": "stderr",
          "text": [
            "[I 2024-06-17 11:34:02,084] Trial 58 finished with value: 0.8654208535997686 and parameters: {'iterations': 1000, 'learning_rate': 0.03767493886952188, 'random_strength': 4, 'bagging_temperature': 1, 'max_bin': 8, 'grow_policy': 'Depthwise', 'min_data_in_leaf': 10, 'max_depth': 3, 'l2_leaf_reg': 8.367713941155943, 'one_hot_max_size': 100, 'auto_class_weights': 'SqrtBalanced'}. Best is trial 55 with value: 0.8679416621268438.\n"
          ]
        },
        {
          "output_type": "stream",
          "name": "stdout",
          "text": [
            "\n",
            "bestTest = 0.4278527184\n",
            "bestIteration = 431\n",
            "\n",
            "Training on fold [0/5]\n",
            "\n",
            "bestTest = 0.4619300024\n",
            "bestIteration = 40\n",
            "\n",
            "Training on fold [1/5]\n",
            "\n",
            "bestTest = 0.4489940964\n",
            "bestIteration = 42\n",
            "\n",
            "Training on fold [2/5]\n",
            "\n",
            "bestTest = 0.4626195632\n",
            "bestIteration = 34\n",
            "\n",
            "Training on fold [3/5]\n",
            "\n",
            "bestTest = 0.4611439237\n",
            "bestIteration = 34\n",
            "\n",
            "Training on fold [4/5]\n"
          ]
        },
        {
          "output_type": "stream",
          "name": "stderr",
          "text": [
            "[I 2024-06-17 11:34:10,324] Trial 59 finished with value: 0.839952208550405 and parameters: {'iterations': 1000, 'learning_rate': 0.06839565237256051, 'random_strength': 2, 'bagging_temperature': 0, 'max_bin': 4, 'grow_policy': 'Depthwise', 'min_data_in_leaf': 9, 'max_depth': 10, 'l2_leaf_reg': 0.00012808257955168226, 'one_hot_max_size': 1024, 'auto_class_weights': 'SqrtBalanced'}. Best is trial 55 with value: 0.8679416621268438.\n"
          ]
        },
        {
          "output_type": "stream",
          "name": "stdout",
          "text": [
            "\n",
            "bestTest = 0.4595831304\n",
            "bestIteration = 34\n",
            "\n",
            "Training on fold [0/5]\n",
            "\n",
            "bestTest = 0.4245200796\n",
            "bestIteration = 999\n",
            "\n",
            "Training on fold [1/5]\n",
            "\n",
            "bestTest = 0.4184029078\n",
            "bestIteration = 999\n",
            "\n",
            "Training on fold [2/5]\n",
            "\n",
            "bestTest = 0.4280174949\n",
            "bestIteration = 999\n",
            "\n",
            "Training on fold [3/5]\n",
            "\n",
            "bestTest = 0.4226811083\n",
            "bestIteration = 998\n",
            "\n",
            "Training on fold [4/5]\n"
          ]
        },
        {
          "output_type": "stream",
          "name": "stderr",
          "text": [
            "[I 2024-06-17 11:36:07,798] Trial 60 finished with value: 0.8669075163507225 and parameters: {'iterations': 1000, 'learning_rate': 0.012944363466337719, 'random_strength': 5, 'bagging_temperature': 2, 'max_bin': 6, 'grow_policy': 'Depthwise', 'min_data_in_leaf': 10, 'max_depth': 5, 'l2_leaf_reg': 50.56973588881905, 'one_hot_max_size': 12, 'auto_class_weights': 'SqrtBalanced'}. Best is trial 55 with value: 0.8679416621268438.\n"
          ]
        },
        {
          "output_type": "stream",
          "name": "stdout",
          "text": [
            "\n",
            "bestTest = 0.4265425669\n",
            "bestIteration = 999\n",
            "\n",
            "Training on fold [0/5]\n",
            "\n",
            "bestTest = 0.4271801645\n",
            "bestIteration = 304\n",
            "\n",
            "Training on fold [1/5]\n",
            "\n",
            "bestTest = 0.4179570665\n",
            "bestIteration = 408\n",
            "\n",
            "Training on fold [2/5]\n",
            "\n",
            "bestTest = 0.42807727\n",
            "bestIteration = 301\n",
            "\n",
            "Training on fold [3/5]\n",
            "\n",
            "bestTest = 0.4241629154\n",
            "bestIteration = 317\n",
            "\n",
            "Training on fold [4/5]\n"
          ]
        },
        {
          "output_type": "stream",
          "name": "stderr",
          "text": [
            "[I 2024-06-17 11:36:58,015] Trial 61 finished with value: 0.866018240669046 and parameters: {'iterations': 1000, 'learning_rate': 0.02929128172714991, 'random_strength': 4, 'bagging_temperature': 2, 'max_bin': 6, 'grow_policy': 'Depthwise', 'min_data_in_leaf': 10, 'max_depth': 10, 'l2_leaf_reg': 19.97531742109388, 'one_hot_max_size': 500, 'auto_class_weights': 'SqrtBalanced'}. Best is trial 55 with value: 0.8679416621268438.\n"
          ]
        },
        {
          "output_type": "stream",
          "name": "stdout",
          "text": [
            "\n",
            "bestTest = 0.4283457499\n",
            "bestIteration = 298\n",
            "\n",
            "Training on fold [0/5]\n",
            "\n",
            "bestTest = 0.4276240404\n",
            "bestIteration = 274\n",
            "\n",
            "Training on fold [1/5]\n",
            "\n",
            "bestTest = 0.4189366555\n",
            "bestIteration = 307\n",
            "\n",
            "Training on fold [2/5]\n",
            "\n",
            "bestTest = 0.4243925811\n",
            "bestIteration = 431\n",
            "\n",
            "Training on fold [3/5]\n",
            "\n",
            "bestTest = 0.4282034385\n",
            "bestIteration = 242\n",
            "\n",
            "Training on fold [4/5]\n"
          ]
        },
        {
          "output_type": "stream",
          "name": "stderr",
          "text": [
            "[I 2024-06-17 11:37:45,647] Trial 62 finished with value: 0.8658187268015197 and parameters: {'iterations': 1000, 'learning_rate': 0.02647540623714903, 'random_strength': 4, 'bagging_temperature': 5, 'max_bin': 6, 'grow_policy': 'Depthwise', 'min_data_in_leaf': 9, 'max_depth': 10, 'l2_leaf_reg': 3.753295958806798, 'one_hot_max_size': 500, 'auto_class_weights': 'SqrtBalanced'}. Best is trial 55 with value: 0.8679416621268438.\n"
          ]
        },
        {
          "output_type": "stream",
          "name": "stdout",
          "text": [
            "\n",
            "bestTest = 0.4305916244\n",
            "bestIteration = 252\n",
            "\n",
            "Training on fold [0/5]\n",
            "\n",
            "bestTest = 0.4226918856\n",
            "bestIteration = 284\n",
            "\n",
            "Training on fold [1/5]\n",
            "\n",
            "bestTest = 0.414743021\n",
            "bestIteration = 348\n",
            "\n",
            "Training on fold [2/5]\n",
            "\n",
            "bestTest = 0.4240804967\n",
            "bestIteration = 358\n",
            "\n",
            "Training on fold [3/5]\n",
            "\n",
            "bestTest = 0.4236540868\n",
            "bestIteration = 279\n",
            "\n",
            "Training on fold [4/5]\n"
          ]
        },
        {
          "output_type": "stream",
          "name": "stderr",
          "text": [
            "[I 2024-06-17 11:38:20,296] Trial 63 finished with value: 0.8673249295094863 and parameters: {'iterations': 1000, 'learning_rate': 0.044040469315788484, 'random_strength': 5, 'bagging_temperature': 3, 'max_bin': 6, 'grow_policy': 'Depthwise', 'min_data_in_leaf': 10, 'max_depth': 9, 'l2_leaf_reg': 42.54485265072307, 'one_hot_max_size': 500, 'auto_class_weights': 'SqrtBalanced'}. Best is trial 55 with value: 0.8679416621268438.\n"
          ]
        },
        {
          "output_type": "stream",
          "name": "stdout",
          "text": [
            "\n",
            "bestTest = 0.4301601145\n",
            "bestIteration = 180\n",
            "\n",
            "Training on fold [0/5]\n",
            "\n",
            "bestTest = 0.4227900294\n",
            "bestIteration = 285\n",
            "\n",
            "Training on fold [1/5]\n",
            "\n",
            "bestTest = 0.4195534582\n",
            "bestIteration = 234\n",
            "\n",
            "Training on fold [2/5]\n",
            "\n",
            "bestTest = 0.4225681275\n",
            "bestIteration = 351\n",
            "\n",
            "Training on fold [3/5]\n",
            "\n",
            "bestTest = 0.4236312192\n",
            "bestIteration = 273\n",
            "\n",
            "Training on fold [4/5]\n"
          ]
        },
        {
          "output_type": "stream",
          "name": "stderr",
          "text": [
            "[I 2024-06-17 11:38:54,066] Trial 64 finished with value: 0.8673171221022156 and parameters: {'iterations': 1500, 'learning_rate': 0.04479989125045729, 'random_strength': 5, 'bagging_temperature': 2, 'max_bin': 6, 'grow_policy': 'Depthwise', 'min_data_in_leaf': 10, 'max_depth': 9, 'l2_leaf_reg': 46.57403902361418, 'one_hot_max_size': 500, 'auto_class_weights': 'SqrtBalanced'}. Best is trial 55 with value: 0.8679416621268438.\n"
          ]
        },
        {
          "output_type": "stream",
          "name": "stdout",
          "text": [
            "\n",
            "bestTest = 0.4265074621\n",
            "bestIteration = 287\n",
            "\n",
            "Training on fold [0/5]\n",
            "\n",
            "bestTest = 0.4247952865\n",
            "bestIteration = 268\n",
            "\n",
            "Training on fold [1/5]\n",
            "\n",
            "bestTest = 0.4185811789\n",
            "bestIteration = 269\n",
            "\n",
            "Training on fold [2/5]\n",
            "\n",
            "bestTest = 0.4234556695\n",
            "bestIteration = 293\n",
            "\n",
            "Training on fold [3/5]\n",
            "\n",
            "bestTest = 0.4237049716\n",
            "bestIteration = 207\n",
            "\n",
            "Training on fold [4/5]\n"
          ]
        },
        {
          "output_type": "stream",
          "name": "stderr",
          "text": [
            "[I 2024-06-17 11:39:20,539] Trial 65 finished with value: 0.8669993170308372 and parameters: {'iterations': 1500, 'learning_rate': 0.046018885345066235, 'random_strength': 5, 'bagging_temperature': 2, 'max_bin': 6, 'grow_policy': 'Depthwise', 'min_data_in_leaf': 10, 'max_depth': 8, 'l2_leaf_reg': 10.59750973066155, 'one_hot_max_size': 500, 'auto_class_weights': 'SqrtBalanced'}. Best is trial 55 with value: 0.8679416621268438.\n"
          ]
        },
        {
          "output_type": "stream",
          "name": "stdout",
          "text": [
            "\n",
            "bestTest = 0.4262278278\n",
            "bestIteration = 285\n",
            "\n",
            "Training on fold [0/5]\n",
            "\n",
            "bestTest = 0.4235430247\n",
            "bestIteration = 153\n",
            "\n",
            "Training on fold [1/5]\n",
            "\n",
            "bestTest = 0.4165555252\n",
            "bestIteration = 166\n",
            "\n",
            "Training on fold [2/5]\n",
            "\n",
            "bestTest = 0.4256450716\n",
            "bestIteration = 172\n",
            "\n",
            "Training on fold [3/5]\n",
            "\n",
            "bestTest = 0.426176282\n",
            "bestIteration = 141\n",
            "\n",
            "Training on fold [4/5]\n"
          ]
        },
        {
          "output_type": "stream",
          "name": "stderr",
          "text": [
            "[I 2024-06-17 11:39:40,766] Trial 66 finished with value: 0.8662617302326312 and parameters: {'iterations': 1500, 'learning_rate': 0.08600664857690252, 'random_strength': 6, 'bagging_temperature': 1, 'max_bin': 6, 'grow_policy': 'Depthwise', 'min_data_in_leaf': 9, 'max_depth': 9, 'l2_leaf_reg': 45.143223539312565, 'one_hot_max_size': 500, 'auto_class_weights': 'SqrtBalanced'}. Best is trial 55 with value: 0.8679416621268438.\n"
          ]
        },
        {
          "output_type": "stream",
          "name": "stdout",
          "text": [
            "\n",
            "bestTest = 0.4284882857\n",
            "bestIteration = 140\n",
            "\n",
            "Training on fold [0/5]\n",
            "\n",
            "bestTest = 0.4670738926\n",
            "bestIteration = 118\n",
            "\n",
            "Training on fold [1/5]\n",
            "\n",
            "bestTest = 0.4541577575\n",
            "bestIteration = 144\n",
            "\n",
            "Training on fold [2/5]\n",
            "\n",
            "bestTest = 0.4681083641\n",
            "bestIteration = 127\n",
            "\n",
            "Training on fold [3/5]\n",
            "\n",
            "bestTest = 0.4677806332\n",
            "bestIteration = 115\n",
            "\n",
            "Training on fold [4/5]\n"
          ]
        },
        {
          "output_type": "stream",
          "name": "stderr",
          "text": [
            "[I 2024-06-17 11:39:57,375] Trial 67 finished with value: 0.862133849370532 and parameters: {'iterations': 1500, 'learning_rate': 0.061521075907230334, 'random_strength': 5, 'bagging_temperature': 2, 'max_bin': 6, 'grow_policy': 'Depthwise', 'min_data_in_leaf': 8, 'max_depth': 9, 'l2_leaf_reg': 3.4209043440750295, 'one_hot_max_size': 500, 'auto_class_weights': 'Balanced'}. Best is trial 55 with value: 0.8679416621268438.\n"
          ]
        },
        {
          "output_type": "stream",
          "name": "stdout",
          "text": [
            "\n",
            "bestTest = 0.4679210479\n",
            "bestIteration = 128\n",
            "\n",
            "Training on fold [0/5]\n",
            "\n",
            "bestTest = 0.4262110682\n",
            "bestIteration = 999\n",
            "\n",
            "Training on fold [1/5]\n",
            "\n",
            "bestTest = 0.4203372386\n",
            "bestIteration = 999\n",
            "\n",
            "Training on fold [2/5]\n",
            "\n",
            "bestTest = 0.4305464841\n",
            "bestIteration = 999\n",
            "\n",
            "Training on fold [3/5]\n",
            "\n",
            "bestTest = 0.4257496957\n",
            "bestIteration = 999\n",
            "\n",
            "Training on fold [4/5]\n"
          ]
        },
        {
          "output_type": "stream",
          "name": "stderr",
          "text": [
            "[I 2024-06-17 11:41:33,762] Trial 68 finished with value: 0.8661142512274969 and parameters: {'iterations': 1000, 'learning_rate': 0.00894937185516053, 'random_strength': 5, 'bagging_temperature': 3, 'max_bin': 30, 'grow_policy': 'Depthwise', 'min_data_in_leaf': 10, 'max_depth': 8, 'l2_leaf_reg': 12.053144200878227, 'one_hot_max_size': 500, 'auto_class_weights': 'SqrtBalanced'}. Best is trial 55 with value: 0.8679416621268438.\n"
          ]
        },
        {
          "output_type": "stream",
          "name": "stdout",
          "text": [
            "\n",
            "bestTest = 0.4289818265\n",
            "bestIteration = 915\n",
            "\n",
            "Training on fold [0/5]\n",
            "\n",
            "bestTest = 0.45677655\n",
            "bestIteration = 55\n",
            "\n",
            "Training on fold [1/5]\n",
            "\n",
            "bestTest = 0.4515136917\n",
            "bestIteration = 70\n",
            "\n",
            "Training on fold [2/5]\n",
            "\n",
            "bestTest = 0.4600610991\n",
            "bestIteration = 66\n",
            "\n",
            "Training on fold [3/5]\n",
            "\n",
            "bestTest = 0.4554695115\n",
            "bestIteration = 54\n",
            "\n",
            "Training on fold [4/5]\n"
          ]
        },
        {
          "output_type": "stream",
          "name": "stderr",
          "text": [
            "[I 2024-06-17 11:41:42,119] Trial 69 finished with value: 0.8425967721677212 and parameters: {'iterations': 1500, 'learning_rate': 0.05406830805273883, 'random_strength': 4, 'bagging_temperature': 5, 'max_bin': 20, 'grow_policy': 'Depthwise', 'min_data_in_leaf': 5, 'max_depth': 9, 'l2_leaf_reg': 1.6153613717978845e-08, 'one_hot_max_size': 500, 'auto_class_weights': 'SqrtBalanced'}. Best is trial 55 with value: 0.8679416621268438.\n"
          ]
        },
        {
          "output_type": "stream",
          "name": "stdout",
          "text": [
            "\n",
            "bestTest = 0.4599466033\n",
            "bestIteration = 52\n",
            "\n",
            "Training on fold [0/5]\n",
            "\n",
            "bestTest = 0.4499747542\n",
            "bestIteration = 999\n",
            "\n",
            "Training on fold [1/5]\n",
            "\n",
            "bestTest = 0.4485210091\n",
            "bestIteration = 999\n",
            "\n",
            "Training on fold [2/5]\n",
            "\n",
            "bestTest = 0.4569766007\n",
            "bestIteration = 999\n",
            "\n",
            "Training on fold [3/5]\n",
            "\n",
            "bestTest = 0.4498328641\n",
            "bestIteration = 999\n",
            "\n",
            "Training on fold [4/5]\n"
          ]
        },
        {
          "output_type": "stream",
          "name": "stderr",
          "text": [
            "[I 2024-06-17 11:43:51,052] Trial 70 finished with value: 0.8592027780957071 and parameters: {'iterations': 1000, 'learning_rate': 0.0023300141876089475, 'random_strength': 3, 'bagging_temperature': 3, 'max_bin': 6, 'grow_policy': 'Depthwise', 'min_data_in_leaf': 9, 'max_depth': 9, 'l2_leaf_reg': 58.3206894366463, 'one_hot_max_size': 100, 'auto_class_weights': 'SqrtBalanced'}. Best is trial 55 with value: 0.8679416621268438.\n"
          ]
        },
        {
          "output_type": "stream",
          "name": "stdout",
          "text": [
            "\n",
            "bestTest = 0.4539704698\n",
            "bestIteration = 999\n",
            "\n",
            "Training on fold [0/5]\n",
            "\n",
            "bestTest = 0.446455069\n",
            "bestIteration = 99\n",
            "\n",
            "Training on fold [1/5]\n",
            "\n",
            "bestTest = 0.4443134823\n",
            "bestIteration = 99\n",
            "\n",
            "Training on fold [2/5]\n",
            "\n",
            "bestTest = 0.4516692494\n",
            "bestIteration = 99\n",
            "\n",
            "Training on fold [3/5]\n",
            "\n",
            "bestTest = 0.4438537972\n",
            "bestIteration = 99\n",
            "\n",
            "Training on fold [4/5]\n"
          ]
        },
        {
          "output_type": "stream",
          "name": "stderr",
          "text": [
            "[I 2024-06-17 11:44:00,507] Trial 71 finished with value: 0.8577945121872549 and parameters: {'iterations': 100, 'learning_rate': 0.03730173727889271, 'random_strength': 6, 'bagging_temperature': 1, 'max_bin': 6, 'grow_policy': 'SymmetricTree', 'min_data_in_leaf': 10, 'max_depth': 10, 'l2_leaf_reg': 96.03046003008274, 'one_hot_max_size': 500, 'auto_class_weights': 'SqrtBalanced'}. Best is trial 55 with value: 0.8679416621268438.\n"
          ]
        },
        {
          "output_type": "stream",
          "name": "stdout",
          "text": [
            "\n",
            "bestTest = 0.4479676714\n",
            "bestIteration = 99\n",
            "\n",
            "Training on fold [0/5]\n",
            "\n",
            "bestTest = 0.4218125987\n",
            "bestIteration = 227\n",
            "\n",
            "Training on fold [1/5]\n",
            "\n",
            "bestTest = 0.4173923917\n",
            "bestIteration = 231\n",
            "\n",
            "Training on fold [2/5]\n",
            "\n",
            "bestTest = 0.4265915189\n",
            "bestIteration = 240\n",
            "\n",
            "Training on fold [3/5]\n",
            "\n",
            "bestTest = 0.4237224465\n",
            "bestIteration = 194\n",
            "\n",
            "Training on fold [4/5]\n"
          ]
        },
        {
          "output_type": "stream",
          "name": "stderr",
          "text": [
            "[I 2024-06-17 11:44:29,923] Trial 72 finished with value: 0.8671696382812362 and parameters: {'iterations': 1000, 'learning_rate': 0.07029994777128255, 'random_strength': 5, 'bagging_temperature': 2, 'max_bin': 8, 'grow_policy': 'Depthwise', 'min_data_in_leaf': 10, 'max_depth': 5, 'l2_leaf_reg': 23.759032197127937, 'one_hot_max_size': 5, 'auto_class_weights': 'SqrtBalanced'}. Best is trial 55 with value: 0.8679416621268438.\n"
          ]
        },
        {
          "output_type": "stream",
          "name": "stdout",
          "text": [
            "\n",
            "bestTest = 0.4244446912\n",
            "bestIteration = 298\n",
            "\n",
            "Training on fold [0/5]\n",
            "\n",
            "bestTest = 0.4256346109\n",
            "bestIteration = 191\n",
            "\n",
            "Training on fold [1/5]\n",
            "\n",
            "bestTest = 0.4196826881\n",
            "bestIteration = 191\n",
            "\n",
            "Training on fold [2/5]\n",
            "\n",
            "bestTest = 0.4218606698\n",
            "bestIteration = 240\n",
            "\n",
            "Training on fold [3/5]\n",
            "\n",
            "bestTest = 0.4211786951\n",
            "bestIteration = 176\n",
            "\n",
            "Training on fold [4/5]\n"
          ]
        },
        {
          "output_type": "stream",
          "name": "stderr",
          "text": [
            "[I 2024-06-17 11:45:03,472] Trial 73 finished with value: 0.8674052382019276 and parameters: {'iterations': 1000, 'learning_rate': 0.07433513247393103, 'random_strength': 5, 'bagging_temperature': 2, 'max_bin': 8, 'grow_policy': 'Depthwise', 'min_data_in_leaf': 10, 'max_depth': 7, 'l2_leaf_reg': 26.791456645484864, 'one_hot_max_size': 5, 'auto_class_weights': 'SqrtBalanced'}. Best is trial 55 with value: 0.8679416621268438.\n"
          ]
        },
        {
          "output_type": "stream",
          "name": "stdout",
          "text": [
            "\n",
            "bestTest = 0.4247620538\n",
            "bestIteration = 171\n",
            "\n",
            "Training on fold [0/5]\n",
            "\n",
            "bestTest = 0.4273047032\n",
            "bestIteration = 123\n",
            "\n",
            "Training on fold [1/5]\n",
            "\n",
            "bestTest = 0.4171826046\n",
            "bestIteration = 144\n",
            "\n",
            "Training on fold [2/5]\n",
            "\n",
            "bestTest = 0.4230407865\n",
            "bestIteration = 156\n",
            "\n",
            "Training on fold [3/5]\n",
            "\n",
            "bestTest = 0.4287427755\n",
            "bestIteration = 109\n",
            "\n",
            "Training on fold [4/5]\n"
          ]
        },
        {
          "output_type": "stream",
          "name": "stderr",
          "text": [
            "[I 2024-06-17 11:45:27,303] Trial 74 finished with value: 0.8650985945525207 and parameters: {'iterations': 1000, 'learning_rate': 0.09710958877791188, 'random_strength': 5, 'bagging_temperature': 2, 'max_bin': 8, 'grow_policy': 'Depthwise', 'min_data_in_leaf': 10, 'max_depth': 7, 'l2_leaf_reg': 1.686866933385169, 'one_hot_max_size': 5, 'auto_class_weights': 'SqrtBalanced'}. Best is trial 55 with value: 0.8679416621268438.\n"
          ]
        },
        {
          "output_type": "stream",
          "name": "stdout",
          "text": [
            "\n",
            "bestTest = 0.4258932658\n",
            "bestIteration = 129\n",
            "\n",
            "Training on fold [0/5]\n",
            "\n",
            "bestTest = 0.4254898334\n",
            "bestIteration = 193\n",
            "\n",
            "Training on fold [1/5]\n",
            "\n",
            "bestTest = 0.4183492111\n",
            "bestIteration = 181\n",
            "\n",
            "Training on fold [2/5]\n",
            "\n",
            "bestTest = 0.4254310994\n",
            "bestIteration = 230\n",
            "\n",
            "Training on fold [3/5]\n",
            "\n",
            "bestTest = 0.4259375833\n",
            "bestIteration = 184\n",
            "\n",
            "Training on fold [4/5]\n"
          ]
        },
        {
          "output_type": "stream",
          "name": "stderr",
          "text": [
            "[I 2024-06-17 11:45:55,894] Trial 75 finished with value: 0.865871300600318 and parameters: {'iterations': 1000, 'learning_rate': 0.06866987007908229, 'random_strength': 5, 'bagging_temperature': 1, 'max_bin': 8, 'grow_policy': 'Depthwise', 'min_data_in_leaf': 10, 'max_depth': 6, 'l2_leaf_reg': 0.5413529753111358, 'one_hot_max_size': 5, 'auto_class_weights': 'SqrtBalanced'}. Best is trial 55 with value: 0.8679416621268438.\n"
          ]
        },
        {
          "output_type": "stream",
          "name": "stdout",
          "text": [
            "\n",
            "bestTest = 0.4252339698\n",
            "bestIteration = 189\n",
            "\n",
            "Training on fold [0/5]\n",
            "\n",
            "bestTest = 0.4232726531\n",
            "bestIteration = 119\n",
            "\n",
            "Training on fold [1/5]\n",
            "\n",
            "bestTest = 0.4212820873\n",
            "bestIteration = 105\n",
            "\n",
            "Training on fold [2/5]\n",
            "\n",
            "bestTest = 0.4235077711\n",
            "bestIteration = 119\n",
            "\n",
            "Training on fold [3/5]\n",
            "\n",
            "bestTest = 0.4256569196\n",
            "bestIteration = 119\n",
            "\n",
            "Training on fold [4/5]\n"
          ]
        },
        {
          "output_type": "stream",
          "name": "stderr",
          "text": [
            "[I 2024-06-17 11:46:20,400] Trial 76 finished with value: 0.8659743254656596 and parameters: {'iterations': 1000, 'learning_rate': 0.11293311772795009, 'random_strength': 6, 'bagging_temperature': 2, 'max_bin': 8, 'grow_policy': 'Depthwise', 'min_data_in_leaf': 9, 'max_depth': 8, 'l2_leaf_reg': 19.183871133436927, 'one_hot_max_size': 5, 'auto_class_weights': 'SqrtBalanced'}. Best is trial 55 with value: 0.8679416621268438.\n"
          ]
        },
        {
          "output_type": "stream",
          "name": "stdout",
          "text": [
            "\n",
            "bestTest = 0.4281356283\n",
            "bestIteration = 114\n",
            "\n",
            "Training on fold [0/5]\n",
            "\n",
            "bestTest = 0.4319533602\n",
            "bestIteration = 125\n",
            "\n",
            "Training on fold [1/5]\n",
            "\n",
            "bestTest = 0.4185484639\n",
            "bestIteration = 153\n",
            "\n",
            "Training on fold [2/5]\n",
            "\n",
            "bestTest = 0.4275302142\n",
            "bestIteration = 141\n",
            "\n",
            "Training on fold [3/5]\n",
            "\n",
            "bestTest = 0.427403238\n",
            "bestIteration = 130\n",
            "\n",
            "Training on fold [4/5]\n"
          ]
        },
        {
          "output_type": "stream",
          "name": "stderr",
          "text": [
            "[I 2024-06-17 11:46:55,590] Trial 77 finished with value: 0.8643296636900167 and parameters: {'iterations': 1000, 'learning_rate': 0.074693454225781, 'random_strength': 5, 'bagging_temperature': 3, 'max_bin': 8, 'grow_policy': 'Depthwise', 'min_data_in_leaf': 10, 'max_depth': 9, 'l2_leaf_reg': 5.629946110094592, 'one_hot_max_size': 5, 'auto_class_weights': 'SqrtBalanced'}. Best is trial 55 with value: 0.8679416621268438.\n"
          ]
        },
        {
          "output_type": "stream",
          "name": "stdout",
          "text": [
            "\n",
            "bestTest = 0.4280549015\n",
            "bestIteration = 152\n",
            "\n",
            "Training on fold [0/5]\n",
            "\n",
            "bestTest = 0.4240413631\n",
            "bestIteration = 153\n",
            "\n",
            "Training on fold [1/5]\n",
            "\n",
            "bestTest = 0.4162586519\n",
            "bestIteration = 187\n",
            "\n",
            "Training on fold [2/5]\n",
            "\n",
            "bestTest = 0.4242210859\n",
            "bestIteration = 255\n",
            "\n",
            "Training on fold [3/5]\n",
            "\n",
            "bestTest = 0.4237722674\n",
            "bestIteration = 164\n",
            "\n",
            "Training on fold [4/5]\n"
          ]
        },
        {
          "output_type": "stream",
          "name": "stderr",
          "text": [
            "[I 2024-06-17 11:47:23,945] Trial 78 finished with value: 0.8672975133686242 and parameters: {'iterations': 1000, 'learning_rate': 0.08397423200160622, 'random_strength': 5, 'bagging_temperature': 1, 'max_bin': 8, 'grow_policy': 'Depthwise', 'min_data_in_leaf': 9, 'max_depth': 6, 'l2_leaf_reg': 44.598254822491505, 'one_hot_max_size': 5, 'auto_class_weights': 'SqrtBalanced'}. Best is trial 55 with value: 0.8679416621268438.\n"
          ]
        },
        {
          "output_type": "stream",
          "name": "stdout",
          "text": [
            "\n",
            "bestTest = 0.4236804514\n",
            "bestIteration = 230\n",
            "\n",
            "Training on fold [0/5]\n",
            "\n",
            "bestTest = 0.4789130927\n",
            "bestIteration = 96\n",
            "\n",
            "Training on fold [1/5]\n",
            "\n",
            "bestTest = 0.4656875668\n",
            "bestIteration = 78\n",
            "\n",
            "Training on fold [2/5]\n",
            "\n",
            "bestTest = 0.4757521741\n",
            "bestIteration = 94\n",
            "\n",
            "Training on fold [3/5]\n",
            "\n",
            "bestTest = 0.4704501249\n",
            "bestIteration = 97\n",
            "\n",
            "Training on fold [4/5]\n"
          ]
        },
        {
          "output_type": "stream",
          "name": "stderr",
          "text": [
            "[I 2024-06-17 11:47:39,861] Trial 79 finished with value: 0.8557927360350499 and parameters: {'iterations': 1000, 'learning_rate': 0.08426041825766324, 'random_strength': 6, 'bagging_temperature': 0, 'max_bin': 8, 'grow_policy': 'Depthwise', 'min_data_in_leaf': 8, 'max_depth': 7, 'l2_leaf_reg': 0.0024181420745483934, 'one_hot_max_size': 5, 'auto_class_weights': 'Balanced'}. Best is trial 55 with value: 0.8679416621268438.\n"
          ]
        },
        {
          "output_type": "stream",
          "name": "stdout",
          "text": [
            "\n",
            "bestTest = 0.4779223887\n",
            "bestIteration = 76\n",
            "\n",
            "Training on fold [0/5]\n",
            "\n",
            "bestTest = 0.4265271655\n",
            "bestIteration = 219\n",
            "\n",
            "Training on fold [1/5]\n",
            "\n",
            "bestTest = 0.4171663161\n",
            "bestIteration = 292\n",
            "\n",
            "Training on fold [2/5]\n",
            "\n",
            "bestTest = 0.4276292926\n",
            "bestIteration = 236\n",
            "\n",
            "Training on fold [3/5]\n",
            "\n",
            "bestTest = 0.4232995925\n",
            "bestIteration = 277\n",
            "\n",
            "Training on fold [4/5]\n"
          ]
        },
        {
          "output_type": "stream",
          "name": "stderr",
          "text": [
            "[I 2024-06-17 11:48:10,529] Trial 80 finished with value: 0.8662208379631166 and parameters: {'iterations': 300, 'learning_rate': 0.05834248744524079, 'random_strength': 4, 'bagging_temperature': 1, 'max_bin': 8, 'grow_policy': 'SymmetricTree', 'min_data_in_leaf': 9, 'max_depth': 6, 'l2_leaf_reg': 51.94718060217845, 'one_hot_max_size': 12, 'auto_class_weights': 'SqrtBalanced'}. Best is trial 55 with value: 0.8679416621268438.\n"
          ]
        },
        {
          "output_type": "stream",
          "name": "stdout",
          "text": [
            "\n",
            "bestTest = 0.4265547108\n",
            "bestIteration = 262\n",
            "\n",
            "Training on fold [0/5]\n",
            "\n",
            "bestTest = 0.4220282039\n",
            "bestIteration = 396\n",
            "\n",
            "Training on fold [1/5]\n",
            "\n",
            "bestTest = 0.4154086691\n",
            "bestIteration = 485\n",
            "\n",
            "Training on fold [2/5]\n",
            "\n",
            "bestTest = 0.4230111389\n",
            "bestIteration = 530\n",
            "\n",
            "Training on fold [3/5]\n",
            "\n",
            "bestTest = 0.4229234967\n",
            "bestIteration = 315\n",
            "\n",
            "Training on fold [4/5]\n"
          ]
        },
        {
          "output_type": "stream",
          "name": "stderr",
          "text": [
            "[I 2024-06-17 11:49:02,047] Trial 81 finished with value: 0.8678973861319228 and parameters: {'iterations': 1000, 'learning_rate': 0.04338015594638993, 'random_strength': 5, 'bagging_temperature': 2, 'max_bin': 8, 'grow_policy': 'Depthwise', 'min_data_in_leaf': 10, 'max_depth': 5, 'l2_leaf_reg': 25.478202430756355, 'one_hot_max_size': 5, 'auto_class_weights': 'SqrtBalanced'}. Best is trial 55 with value: 0.8679416621268438.\n"
          ]
        },
        {
          "output_type": "stream",
          "name": "stdout",
          "text": [
            "\n",
            "bestTest = 0.4254110131\n",
            "bestIteration = 389\n",
            "\n",
            "Training on fold [0/5]\n",
            "\n",
            "bestTest = 0.4248294188\n",
            "bestIteration = 382\n",
            "\n",
            "Training on fold [1/5]\n",
            "\n",
            "bestTest = 0.4159638234\n",
            "bestIteration = 433\n",
            "\n",
            "Training on fold [2/5]\n",
            "\n",
            "bestTest = 0.4241120513\n",
            "bestIteration = 458\n",
            "\n",
            "Training on fold [3/5]\n",
            "\n",
            "bestTest = 0.421952346\n",
            "bestIteration = 303\n",
            "\n",
            "Training on fold [4/5]\n"
          ]
        },
        {
          "output_type": "stream",
          "name": "stderr",
          "text": [
            "[I 2024-06-17 11:49:57,791] Trial 82 finished with value: 0.8672401293485432 and parameters: {'iterations': 1000, 'learning_rate': 0.04346600156266054, 'random_strength': 5, 'bagging_temperature': 3, 'max_bin': 8, 'grow_policy': 'Depthwise', 'min_data_in_leaf': 10, 'max_depth': 6, 'l2_leaf_reg': 48.41473550434701, 'one_hot_max_size': 5, 'auto_class_weights': 'SqrtBalanced'}. Best is trial 55 with value: 0.8679416621268438.\n"
          ]
        },
        {
          "output_type": "stream",
          "name": "stdout",
          "text": [
            "\n",
            "bestTest = 0.4249034247\n",
            "bestIteration = 399\n",
            "\n",
            "Training on fold [0/5]\n",
            "\n",
            "bestTest = 0.422842831\n",
            "bestIteration = 390\n",
            "\n",
            "Training on fold [1/5]\n",
            "\n",
            "bestTest = 0.4139599558\n",
            "bestIteration = 429\n",
            "\n",
            "Training on fold [2/5]\n",
            "\n",
            "bestTest = 0.4224601055\n",
            "bestIteration = 416\n",
            "\n",
            "Training on fold [3/5]\n",
            "\n",
            "bestTest = 0.4234400017\n",
            "bestIteration = 365\n",
            "\n",
            "Training on fold [4/5]\n"
          ]
        },
        {
          "output_type": "stream",
          "name": "stderr",
          "text": [
            "[I 2024-06-17 11:51:05,158] Trial 83 finished with value: 0.8682976687745307 and parameters: {'iterations': 1000, 'learning_rate': 0.03265768389194058, 'random_strength': 5, 'bagging_temperature': 2, 'max_bin': 8, 'grow_policy': 'Depthwise', 'min_data_in_leaf': 9, 'max_depth': 7, 'l2_leaf_reg': 9.612130127620436, 'one_hot_max_size': 5, 'auto_class_weights': 'SqrtBalanced'}. Best is trial 83 with value: 0.8682976687745307.\n"
          ]
        },
        {
          "output_type": "stream",
          "name": "stdout",
          "text": [
            "\n",
            "bestTest = 0.4232822351\n",
            "bestIteration = 429\n",
            "\n",
            "Training on fold [0/5]\n",
            "\n",
            "bestTest = 0.4232960851\n",
            "bestIteration = 407\n",
            "\n",
            "Training on fold [1/5]\n",
            "\n",
            "bestTest = 0.4174867534\n",
            "bestIteration = 432\n",
            "\n",
            "Training on fold [2/5]\n",
            "\n",
            "bestTest = 0.4244187496\n",
            "bestIteration = 442\n",
            "\n",
            "Training on fold [3/5]\n",
            "\n",
            "bestTest = 0.4216546375\n",
            "bestIteration = 449\n",
            "\n",
            "Training on fold [4/5]\n"
          ]
        },
        {
          "output_type": "stream",
          "name": "stderr",
          "text": [
            "[I 2024-06-17 11:51:40,296] Trial 84 finished with value: 0.8681164454840724 and parameters: {'iterations': 500, 'learning_rate': 0.029931564769971254, 'random_strength': 6, 'bagging_temperature': 2, 'max_bin': 10, 'grow_policy': 'Depthwise', 'min_data_in_leaf': 10, 'max_depth': 7, 'l2_leaf_reg': 8.959954507768462, 'one_hot_max_size': 1024, 'auto_class_weights': 'SqrtBalanced'}. Best is trial 83 with value: 0.8682976687745307.\n"
          ]
        },
        {
          "output_type": "stream",
          "name": "stdout",
          "text": [
            "\n",
            "bestTest = 0.4225421145\n",
            "bestIteration = 426\n",
            "\n",
            "Training on fold [0/5]\n",
            "\n",
            "bestTest = 0.4288657103\n",
            "bestIteration = 499\n",
            "\n",
            "Training on fold [1/5]\n",
            "\n",
            "bestTest = 0.4235997178\n",
            "bestIteration = 499\n",
            "\n",
            "Training on fold [2/5]\n",
            "\n",
            "bestTest = 0.4345844956\n",
            "bestIteration = 498\n",
            "\n",
            "Training on fold [3/5]\n",
            "\n",
            "bestTest = 0.4287506212\n",
            "bestIteration = 499\n",
            "\n",
            "Training on fold [4/5]\n"
          ]
        },
        {
          "output_type": "stream",
          "name": "stderr",
          "text": [
            "[I 2024-06-17 11:52:19,794] Trial 85 finished with value: 0.8647699326734946 and parameters: {'iterations': 500, 'learning_rate': 0.0167349778978456, 'random_strength': 6, 'bagging_temperature': 2, 'max_bin': 10, 'grow_policy': 'Depthwise', 'min_data_in_leaf': 9, 'max_depth': 7, 'l2_leaf_reg': 9.629988015175593, 'one_hot_max_size': 1024, 'auto_class_weights': 'SqrtBalanced'}. Best is trial 83 with value: 0.8682976687745307.\n"
          ]
        },
        {
          "output_type": "stream",
          "name": "stdout",
          "text": [
            "\n",
            "bestTest = 0.4296464594\n",
            "bestIteration = 499\n",
            "\n",
            "Training on fold [0/5]\n",
            "\n",
            "bestTest = 0.4260290182\n",
            "bestIteration = 361\n",
            "\n",
            "Training on fold [1/5]\n",
            "\n",
            "bestTest = 0.4163981519\n",
            "bestIteration = 434\n",
            "\n",
            "Training on fold [2/5]\n",
            "\n",
            "bestTest = 0.4350816267\n",
            "bestIteration = 266\n",
            "\n",
            "Training on fold [3/5]\n",
            "\n",
            "bestTest = 0.4235412884\n",
            "bestIteration = 377\n",
            "\n",
            "Training on fold [4/5]\n"
          ]
        },
        {
          "output_type": "stream",
          "name": "stderr",
          "text": [
            "[I 2024-06-17 11:52:48,601] Trial 86 finished with value: 0.865426041526994 and parameters: {'iterations': 500, 'learning_rate': 0.031936225067091324, 'random_strength': 6, 'bagging_temperature': 2, 'max_bin': 8, 'grow_policy': 'Depthwise', 'min_data_in_leaf': 10, 'max_depth': 7, 'l2_leaf_reg': 1.6574094316414598, 'one_hot_max_size': 1024, 'auto_class_weights': 'SqrtBalanced'}. Best is trial 83 with value: 0.8682976687745307.\n"
          ]
        },
        {
          "output_type": "stream",
          "name": "stdout",
          "text": [
            "\n",
            "bestTest = 0.427519477\n",
            "bestIteration = 345\n",
            "\n",
            "Training on fold [0/5]\n",
            "\n",
            "bestTest = 0.4278058102\n",
            "bestIteration = 374\n",
            "\n",
            "Training on fold [1/5]\n",
            "\n",
            "bestTest = 0.4196152893\n",
            "bestIteration = 474\n",
            "\n",
            "Training on fold [2/5]\n",
            "\n",
            "bestTest = 0.4254991628\n",
            "bestIteration = 491\n",
            "\n",
            "Training on fold [3/5]\n",
            "\n",
            "bestTest = 0.4252824387\n",
            "bestIteration = 394\n",
            "\n",
            "Training on fold [4/5]\n"
          ]
        },
        {
          "output_type": "stream",
          "name": "stderr",
          "text": [
            "[I 2024-06-17 11:53:32,081] Trial 87 finished with value: 0.8662622202942873 and parameters: {'iterations': 500, 'learning_rate': 0.024060834366896072, 'random_strength': 6, 'bagging_temperature': 4, 'max_bin': 10, 'grow_policy': 'Depthwise', 'min_data_in_leaf': 10, 'max_depth': 8, 'l2_leaf_reg': 4.869204880578673, 'one_hot_max_size': 1024, 'auto_class_weights': 'SqrtBalanced'}. Best is trial 83 with value: 0.8682976687745307.\n"
          ]
        },
        {
          "output_type": "stream",
          "name": "stdout",
          "text": [
            "\n",
            "bestTest = 0.4251513958\n",
            "bestIteration = 492\n",
            "\n",
            "Training on fold [0/5]\n",
            "\n",
            "bestTest = 0.4600979729\n",
            "bestIteration = 199\n",
            "\n",
            "Training on fold [1/5]\n",
            "\n",
            "bestTest = 0.4602078714\n",
            "bestIteration = 199\n",
            "\n",
            "Training on fold [2/5]\n",
            "\n",
            "bestTest = 0.466627692\n",
            "bestIteration = 199\n",
            "\n",
            "Training on fold [3/5]\n",
            "\n",
            "bestTest = 0.4584646529\n",
            "bestIteration = 199\n",
            "\n",
            "Training on fold [4/5]\n"
          ]
        },
        {
          "output_type": "stream",
          "name": "stderr",
          "text": [
            "[I 2024-06-17 11:54:06,544] Trial 88 finished with value: 0.8576983891887453 and parameters: {'iterations': 200, 'learning_rate': 0.010254576871708086, 'random_strength': 4, 'bagging_temperature': 3, 'max_bin': 10, 'grow_policy': 'Depthwise', 'min_data_in_leaf': 8, 'max_depth': 7, 'l2_leaf_reg': 15.550486006663247, 'one_hot_max_size': 5, 'auto_class_weights': 'SqrtBalanced'}. Best is trial 83 with value: 0.8682976687745307.\n"
          ]
        },
        {
          "output_type": "stream",
          "name": "stdout",
          "text": [
            "\n",
            "bestTest = 0.4635176532\n",
            "bestIteration = 199\n",
            "\n",
            "Training on fold [0/5]\n",
            "\n",
            "bestTest = 0.4255398912\n",
            "bestIteration = 223\n",
            "\n",
            "Training on fold [1/5]\n",
            "\n",
            "bestTest = 0.4155779517\n",
            "bestIteration = 310\n",
            "\n",
            "Training on fold [2/5]\n",
            "\n",
            "bestTest = 0.4246087649\n",
            "bestIteration = 319\n",
            "\n",
            "Training on fold [3/5]\n",
            "\n",
            "bestTest = 0.4231601402\n",
            "bestIteration = 301\n",
            "\n",
            "Training on fold [4/5]\n"
          ]
        },
        {
          "output_type": "stream",
          "name": "stderr",
          "text": [
            "[I 2024-06-17 11:54:30,708] Trial 89 finished with value: 0.8677351747632939 and parameters: {'iterations': 1000, 'learning_rate': 0.03869239713092669, 'random_strength': 3, 'bagging_temperature': 3, 'max_bin': 4, 'grow_policy': 'Depthwise', 'min_data_in_leaf': 9, 'max_depth': 7, 'l2_leaf_reg': 25.38076958741791, 'one_hot_max_size': 1024, 'auto_class_weights': 'SqrtBalanced'}. Best is trial 83 with value: 0.8682976687745307.\n"
          ]
        },
        {
          "output_type": "stream",
          "name": "stdout",
          "text": [
            "\n",
            "bestTest = 0.4238565775\n",
            "bestIteration = 304\n",
            "\n",
            "Training on fold [0/5]\n",
            "\n",
            "bestTest = 0.4243974952\n",
            "bestIteration = 496\n",
            "\n",
            "Training on fold [1/5]\n",
            "\n",
            "bestTest = 0.4187000209\n",
            "bestIteration = 499\n",
            "\n",
            "Training on fold [2/5]\n",
            "\n",
            "bestTest = 0.4267373903\n",
            "bestIteration = 498\n",
            "\n",
            "Training on fold [3/5]\n",
            "\n",
            "bestTest = 0.4240704637\n",
            "bestIteration = 499\n",
            "\n",
            "Training on fold [4/5]\n"
          ]
        },
        {
          "output_type": "stream",
          "name": "stderr",
          "text": [
            "[I 2024-06-17 11:55:10,416] Trial 90 finished with value: 0.8670801975555522 and parameters: {'iterations': 500, 'learning_rate': 0.02113174940348076, 'random_strength': 4, 'bagging_temperature': 2, 'max_bin': 4, 'grow_policy': 'Depthwise', 'min_data_in_leaf': 9, 'max_depth': 7, 'l2_leaf_reg': 8.80929250547833, 'one_hot_max_size': 1024, 'auto_class_weights': 'SqrtBalanced'}. Best is trial 83 with value: 0.8682976687745307.\n"
          ]
        },
        {
          "output_type": "stream",
          "name": "stdout",
          "text": [
            "\n",
            "bestTest = 0.4261176852\n",
            "bestIteration = 499\n",
            "\n",
            "Training on fold [0/5]\n",
            "\n",
            "bestTest = 0.4249364452\n",
            "bestIteration = 270\n",
            "\n",
            "Training on fold [1/5]\n",
            "\n",
            "bestTest = 0.4156588624\n",
            "bestIteration = 307\n",
            "\n",
            "Training on fold [2/5]\n",
            "\n",
            "bestTest = 0.4257650587\n",
            "bestIteration = 334\n",
            "\n",
            "Training on fold [3/5]\n",
            "\n",
            "bestTest = 0.4241035789\n",
            "bestIteration = 295\n",
            "\n",
            "Training on fold [4/5]\n"
          ]
        },
        {
          "output_type": "stream",
          "name": "stderr",
          "text": [
            "[I 2024-06-17 11:55:34,357] Trial 91 finished with value: 0.8665397110677107 and parameters: {'iterations': 1000, 'learning_rate': 0.039169676244710065, 'random_strength': 3, 'bagging_temperature': 3, 'max_bin': 4, 'grow_policy': 'Depthwise', 'min_data_in_leaf': 9, 'max_depth': 7, 'l2_leaf_reg': 20.93503414662229, 'one_hot_max_size': 1024, 'auto_class_weights': 'SqrtBalanced'}. Best is trial 83 with value: 0.8682976687745307.\n"
          ]
        },
        {
          "output_type": "stream",
          "name": "stdout",
          "text": [
            "\n",
            "bestTest = 0.4281439089\n",
            "bestIteration = 231\n",
            "\n",
            "Training on fold [0/5]\n",
            "\n",
            "bestTest = 0.4247426522\n",
            "bestIteration = 342\n",
            "\n",
            "Training on fold [1/5]\n",
            "\n",
            "bestTest = 0.4151591423\n",
            "bestIteration = 402\n",
            "\n",
            "Training on fold [2/5]\n",
            "\n",
            "bestTest = 0.4244716428\n",
            "bestIteration = 428\n",
            "\n",
            "Training on fold [3/5]\n",
            "\n",
            "bestTest = 0.422635432\n",
            "bestIteration = 332\n",
            "\n",
            "Training on fold [4/5]\n"
          ]
        },
        {
          "output_type": "stream",
          "name": "stderr",
          "text": [
            "[I 2024-06-17 11:55:59,229] Trial 92 finished with value: 0.8677436324325832 and parameters: {'iterations': 1000, 'learning_rate': 0.0333448316496645, 'random_strength': 3, 'bagging_temperature': 3, 'max_bin': 4, 'grow_policy': 'Depthwise', 'min_data_in_leaf': 10, 'max_depth': 6, 'l2_leaf_reg': 26.32334862031479, 'one_hot_max_size': 1024, 'auto_class_weights': 'SqrtBalanced'}. Best is trial 83 with value: 0.8682976687745307.\n"
          ]
        },
        {
          "output_type": "stream",
          "name": "stdout",
          "text": [
            "\n",
            "bestTest = 0.4249572701\n",
            "bestIteration = 374\n",
            "\n",
            "Training on fold [0/5]\n",
            "\n",
            "bestTest = 0.4242008878\n",
            "bestIteration = 326\n",
            "\n",
            "Training on fold [1/5]\n",
            "\n",
            "bestTest = 0.4162925358\n",
            "bestIteration = 381\n",
            "\n",
            "Training on fold [2/5]\n",
            "\n",
            "bestTest = 0.4326534115\n",
            "bestIteration = 241\n",
            "\n",
            "Training on fold [3/5]\n",
            "\n",
            "bestTest = 0.4251151366\n",
            "bestIteration = 358\n",
            "\n",
            "Training on fold [4/5]\n"
          ]
        },
        {
          "output_type": "stream",
          "name": "stderr",
          "text": [
            "[I 2024-06-17 11:56:21,710] Trial 93 finished with value: 0.8661457096025057 and parameters: {'iterations': 1000, 'learning_rate': 0.03087286666352892, 'random_strength': 3, 'bagging_temperature': 3, 'max_bin': 4, 'grow_policy': 'Depthwise', 'min_data_in_leaf': 8, 'max_depth': 6, 'l2_leaf_reg': 3.039001054254803, 'one_hot_max_size': 1024, 'auto_class_weights': 'SqrtBalanced'}. Best is trial 83 with value: 0.8682976687745307.\n"
          ]
        },
        {
          "output_type": "stream",
          "name": "stdout",
          "text": [
            "\n",
            "bestTest = 0.4255408968\n",
            "bestIteration = 374\n",
            "\n",
            "Training on fold [0/5]\n",
            "\n",
            "bestTest = 0.4243519697\n",
            "bestIteration = 277\n",
            "\n",
            "Training on fold [1/5]\n",
            "\n",
            "bestTest = 0.4180364887\n",
            "bestIteration = 255\n",
            "\n",
            "Training on fold [2/5]\n",
            "\n",
            "bestTest = 0.4275769951\n",
            "bestIteration = 319\n",
            "\n",
            "Training on fold [3/5]\n",
            "\n",
            "bestTest = 0.4266421905\n",
            "bestIteration = 202\n",
            "\n",
            "Training on fold [4/5]\n"
          ]
        },
        {
          "output_type": "stream",
          "name": "stderr",
          "text": [
            "[I 2024-06-17 11:56:34,087] Trial 94 finished with value: 0.8660966403747533 and parameters: {'iterations': 1000, 'learning_rate': 0.05276192273070923, 'random_strength': 2, 'bagging_temperature': 4, 'max_bin': 4, 'grow_policy': 'Depthwise', 'min_data_in_leaf': 10, 'max_depth': 4, 'l2_leaf_reg': 23.169592907645892, 'one_hot_max_size': 1024, 'auto_class_weights': 'SqrtBalanced'}. Best is trial 83 with value: 0.8682976687745307.\n"
          ]
        },
        {
          "output_type": "stream",
          "name": "stdout",
          "text": [
            "\n",
            "bestTest = 0.4267391024\n",
            "bestIteration = 269\n",
            "\n",
            "Training on fold [0/5]\n",
            "\n",
            "bestTest = 0.4238349775\n",
            "bestIteration = 739\n",
            "\n",
            "Training on fold [1/5]\n",
            "\n",
            "bestTest = 0.4162657475\n",
            "bestIteration = 746\n",
            "\n",
            "Training on fold [2/5]\n",
            "\n",
            "bestTest = 0.4223469554\n",
            "bestIteration = 960\n",
            "\n",
            "Training on fold [3/5]\n",
            "\n",
            "bestTest = 0.4231828007\n",
            "bestIteration = 785\n",
            "\n",
            "Training on fold [4/5]\n"
          ]
        },
        {
          "output_type": "stream",
          "name": "stderr",
          "text": [
            "[I 2024-06-17 11:57:38,783] Trial 95 finished with value: 0.868164660358685 and parameters: {'iterations': 1000, 'learning_rate': 0.013521851790638792, 'random_strength': 3, 'bagging_temperature': 1, 'max_bin': 4, 'grow_policy': 'Depthwise', 'min_data_in_leaf': 9, 'max_depth': 7, 'l2_leaf_reg': 12.671026142805282, 'one_hot_max_size': 1024, 'auto_class_weights': 'SqrtBalanced'}. Best is trial 83 with value: 0.8682976687745307.\n"
          ]
        },
        {
          "output_type": "stream",
          "name": "stdout",
          "text": [
            "\n",
            "bestTest = 0.425213458\n",
            "bestIteration = 788\n",
            "\n",
            "Training on fold [0/5]\n",
            "\n",
            "bestTest = 0.4243686164\n",
            "bestIteration = 605\n",
            "\n",
            "Training on fold [1/5]\n",
            "\n",
            "bestTest = 0.4162457336\n",
            "bestIteration = 750\n",
            "\n",
            "Training on fold [2/5]\n",
            "\n",
            "bestTest = 0.4295778983\n",
            "bestIteration = 472\n",
            "\n",
            "Training on fold [3/5]\n",
            "\n",
            "bestTest = 0.4239294315\n",
            "bestIteration = 511\n",
            "\n",
            "Training on fold [4/5]\n"
          ]
        },
        {
          "output_type": "stream",
          "name": "stderr",
          "text": [
            "[I 2024-06-17 11:58:26,523] Trial 96 finished with value: 0.8669723014445718 and parameters: {'iterations': 1000, 'learning_rate': 0.01490958608363279, 'random_strength': 2, 'bagging_temperature': 1, 'max_bin': 4, 'grow_policy': 'Depthwise', 'min_data_in_leaf': 9, 'max_depth': 7, 'l2_leaf_reg': 11.922240921282334, 'one_hot_max_size': 1024, 'auto_class_weights': 'SqrtBalanced'}. Best is trial 83 with value: 0.8682976687745307.\n"
          ]
        },
        {
          "output_type": "stream",
          "name": "stdout",
          "text": [
            "\n",
            "bestTest = 0.4254553167\n",
            "bestIteration = 648\n",
            "\n",
            "Training on fold [0/5]\n",
            "\n",
            "bestTest = 0.4248093473\n",
            "bestIteration = 304\n",
            "\n",
            "Training on fold [1/5]\n",
            "\n",
            "bestTest = 0.4163539169\n",
            "bestIteration = 357\n",
            "\n",
            "Training on fold [2/5]\n",
            "\n",
            "bestTest = 0.4272318127\n",
            "bestIteration = 382\n",
            "\n",
            "Training on fold [3/5]\n",
            "\n",
            "bestTest = 0.4256356301\n",
            "bestIteration = 308\n",
            "\n",
            "Training on fold [4/5]\n"
          ]
        },
        {
          "output_type": "stream",
          "name": "stderr",
          "text": [
            "[I 2024-06-17 11:58:49,467] Trial 97 finished with value: 0.8664872277851045 and parameters: {'iterations': 1000, 'learning_rate': 0.032133646471303984, 'random_strength': 3, 'bagging_temperature': 0, 'max_bin': 4, 'grow_policy': 'Depthwise', 'min_data_in_leaf': 9, 'max_depth': 6, 'l2_leaf_reg': 0.9757290840746053, 'one_hot_max_size': 1024, 'auto_class_weights': 'SqrtBalanced'}. Best is trial 83 with value: 0.8682976687745307.\n"
          ]
        },
        {
          "output_type": "stream",
          "name": "stdout",
          "text": [
            "\n",
            "bestTest = 0.4263340582\n",
            "bestIteration = 324\n",
            "\n",
            "Training on fold [0/5]\n",
            "\n",
            "bestTest = 0.6126639567\n",
            "bestIteration = 99\n",
            "\n",
            "Training on fold [1/5]\n",
            "\n",
            "bestTest = 0.6149933226\n",
            "bestIteration = 99\n",
            "\n",
            "Training on fold [2/5]\n",
            "\n",
            "bestTest = 0.6168001417\n",
            "bestIteration = 99\n",
            "\n",
            "Training on fold [3/5]\n",
            "\n",
            "bestTest = 0.6102325059\n",
            "bestIteration = 99\n",
            "\n",
            "Training on fold [4/5]\n"
          ]
        },
        {
          "output_type": "stream",
          "name": "stderr",
          "text": [
            "[I 2024-06-17 11:58:52,712] Trial 98 finished with value: 0.838559878280433 and parameters: {'iterations': 100, 'learning_rate': 0.0029483411520384237, 'random_strength': 3, 'bagging_temperature': 1, 'max_bin': 4, 'grow_policy': 'SymmetricTree', 'min_data_in_leaf': 8, 'max_depth': 5, 'l2_leaf_reg': 6.759595076432695, 'one_hot_max_size': 1024, 'auto_class_weights': 'Balanced'}. Best is trial 83 with value: 0.8682976687745307.\n"
          ]
        },
        {
          "output_type": "stream",
          "name": "stdout",
          "text": [
            "\n",
            "bestTest = 0.6160287722\n",
            "bestIteration = 99\n",
            "\n",
            "Training on fold [0/5]\n",
            "\n",
            "bestTest = 0.4323822005\n",
            "bestIteration = 116\n",
            "\n",
            "Training on fold [1/5]\n",
            "\n",
            "bestTest = 0.4284757294\n",
            "bestIteration = 156\n",
            "\n",
            "Training on fold [2/5]\n",
            "\n",
            "bestTest = 0.4416516673\n",
            "bestIteration = 131\n",
            "\n",
            "Training on fold [3/5]\n",
            "\n",
            "bestTest = 0.4352046873\n",
            "bestIteration = 119\n",
            "\n",
            "Training on fold [4/5]\n"
          ]
        },
        {
          "output_type": "stream",
          "name": "stderr",
          "text": [
            "[I 2024-06-17 11:59:02,383] Trial 99 finished with value: 0.8581799735248398 and parameters: {'iterations': 1000, 'learning_rate': 0.0569660654063937, 'random_strength': 3, 'bagging_temperature': 2, 'max_bin': 4, 'grow_policy': 'Depthwise', 'min_data_in_leaf': 9, 'max_depth': 6, 'l2_leaf_reg': 7.518092528741237e-06, 'one_hot_max_size': 1024, 'auto_class_weights': 'SqrtBalanced'}. Best is trial 83 with value: 0.8682976687745307.\n"
          ]
        },
        {
          "output_type": "stream",
          "name": "stdout",
          "text": [
            "\n",
            "bestTest = 0.4362178578\n",
            "bestIteration = 126\n",
            "\n"
          ]
        }
      ]
    },
    {
      "cell_type": "code",
      "source": [
        "print(\"Number of finished trials: {}\".format(len(study.trials)))\n",
        "print(\"Best trial:\")\n",
        "trial = study.best_trial\n",
        "print(\"  Value: {}\".format(trial.value))\n",
        "print(\"  Params: \")\n",
        "for key, value in trial.params.items():\n",
        "    print(\"    {}={},\".format(key, value))"
      ],
      "metadata": {
        "colab": {
          "base_uri": "https://localhost:8080/"
        },
        "id": "oEX7S6xu4Xt2",
        "outputId": "daff7cac-7fee-406b-fe90-52e38b89070a"
      },
      "execution_count": 18,
      "outputs": [
        {
          "output_type": "stream",
          "name": "stdout",
          "text": [
            "Number of finished trials: 100\n",
            "Best trial:\n",
            "  Value: 0.8682976687745307\n",
            "  Params: \n",
            "    iterations=1000,\n",
            "    learning_rate=0.03265768389194058,\n",
            "    random_strength=5,\n",
            "    bagging_temperature=2,\n",
            "    max_bin=8,\n",
            "    grow_policy=Depthwise,\n",
            "    min_data_in_leaf=9,\n",
            "    max_depth=7,\n",
            "    l2_leaf_reg=9.612130127620436,\n",
            "    one_hot_max_size=5,\n",
            "    auto_class_weights=SqrtBalanced,\n"
          ]
        }
      ]
    },
    {
      "cell_type": "code",
      "source": [
        "final_model = CatBoostClassifier(verbose=False,  cat_features=categorical_features_indices,\n",
        "                          **trial.params)"
      ],
      "metadata": {
        "id": "Br4QT2Qh4gjq"
      },
      "execution_count": 19,
      "outputs": []
    },
    {
      "cell_type": "code",
      "source": [
        "final_model.fit(X_train, y_train.xyz_vaccine)"
      ],
      "metadata": {
        "colab": {
          "base_uri": "https://localhost:8080/"
        },
        "id": "taQhxLRp4kWi",
        "outputId": "13b5df6d-91a9-4f90-ecdd-3f75ae5aa62d"
      },
      "execution_count": 20,
      "outputs": [
        {
          "output_type": "execute_result",
          "data": {
            "text/plain": [
              "<catboost.core.CatBoostClassifier at 0x787c4944cd60>"
            ]
          },
          "metadata": {},
          "execution_count": 20
        }
      ]
    },
    {
      "cell_type": "code",
      "source": [
        "predictions_xyz = final_model.predict_proba(X_test)"
      ],
      "metadata": {
        "id": "xxS1yfTQ4oEe"
      },
      "execution_count": 21,
      "outputs": []
    },
    {
      "cell_type": "code",
      "source": [
        "predictions_xyz = predictions_xyz[:,1].reshape(-1,1)"
      ],
      "metadata": {
        "id": "b2vPkTAc4wY2"
      },
      "execution_count": 22,
      "outputs": []
    },
    {
      "cell_type": "code",
      "source": [
        "from sklearn.metrics import roc_curve, roc_auc_score"
      ],
      "metadata": {
        "id": "YHKXJqBQ43qz"
      },
      "execution_count": 23,
      "outputs": []
    },
    {
      "cell_type": "code",
      "source": [
        "def plot_roc(y_true, y_score, label_name, ax):\n",
        "    fpr, tpr, thresholds = roc_curve(y_true, y_score)\n",
        "    ax.plot(fpr, tpr)\n",
        "    ax.plot([0, 1], [0, 1], color='grey', linestyle='--')\n",
        "    ax.set_ylabel('TPR')\n",
        "    ax.set_xlabel('FPR')\n",
        "    ax.set_title(\n",
        "        f\"{label_name}: AUC = {roc_auc_score(y_true, y_score):.4f}\"\n",
        "    )"
      ],
      "metadata": {
        "id": "2wvFPFK847iz"
      },
      "execution_count": 24,
      "outputs": []
    },
    {
      "cell_type": "code",
      "source": [
        "fig, ax = plt.subplots(1, 1, figsize=(10, 8))\n",
        "plot_roc(\n",
        "    y_test['xyz_vaccine'],\n",
        "    predictions_xyz,\n",
        "    'xyz_vaccine',\n",
        "    ax=ax\n",
        ")"
      ],
      "metadata": {
        "colab": {
          "base_uri": "https://localhost:8080/",
          "height": 630
        },
        "id": "TK1MV8dP4-oS",
        "outputId": "a67715be-02a5-49f7-f8dc-b98e5d643e24"
      },
      "execution_count": 25,
      "outputs": [
        {
          "output_type": "display_data",
          "data": {
            "text/plain": [
              "<Figure size 1000x800 with 1 Axes>"
            ],
            "image/png": "[encoded data removed]"
          },
          "metadata": {}
        }
      ]
    },
    {
      "cell_type": "code",
      "source": [
        "roc_auc_score(y_test.xyz_vaccine, predictions_xyz)"
      ],
      "metadata": {
        "colab": {
          "base_uri": "https://localhost:8080/"
        },
        "id": "LtQpkyno5HvB",
        "outputId": "56500638-61f8-4694-c1e4-7d02b90d7405"
      },
      "execution_count": 26,
      "outputs": [
        {
          "output_type": "execute_result",
          "data": {
            "text/plain": [
              "0.8693304229238155"
            ]
          },
          "metadata": {},
          "execution_count": 26
        }
      ]
    },
    {
      "cell_type": "code",
      "source": [
        "train_dataset_se = Pool(data=X_train,\n",
        "                     label=y_train.seasonal_vaccine,\n",
        "                     cat_features = categorical_features_indices)"
      ],
      "metadata": {
        "id": "2TBhBwoE5NmL"
      },
      "execution_count": 27,
      "outputs": []
    },
    {
      "cell_type": "code",
      "source": [
        "def objective2(trial):\n",
        "    param = {\n",
        "        'iterations':trial.suggest_categorical('iterations', [100,200,300,500,1000,1200,1500]),\n",
        "        'learning_rate':trial.suggest_float(\"learning_rate\", 0.001, 0.3),\n",
        "        'random_strength':trial.suggest_int(\"random_strength\", 1,10),\n",
        "        'bagging_temperature':trial.suggest_int(\"bagging_temperature\", 0,10),\n",
        "        'max_bin':trial.suggest_categorical('max_bin', [4,5,6,8,10,20,30]),\n",
        "        'grow_policy':trial.suggest_categorical('grow_policy', ['SymmetricTree', 'Depthwise', 'Lossguide']),\n",
        "        'min_data_in_leaf':trial.suggest_int(\"min_data_in_leaf\", 1,10),\n",
        "        'od_type' : \"Iter\",\n",
        "        'od_wait' : 100,\n",
        "        \"depth\": trial.suggest_int(\"max_depth\", 2,10),\n",
        "        \"l2_leaf_reg\": trial.suggest_loguniform(\"l2_leaf_reg\", 1e-8, 100),\n",
        "         'one_hot_max_size':trial.suggest_categorical('one_hot_max_size', [5,10,12,100,500,1024]),\n",
        "        'custom_metric' : ['AUC'],\n",
        "        \"loss_function\": \"Logloss\",\n",
        "        'auto_class_weights':trial.suggest_categorical('auto_class_weights', ['Balanced', 'SqrtBalanced']),\n",
        "        }\n",
        "\n",
        "    scores = cv(train_dataset_se,\n",
        "            param,\n",
        "            fold_count=5,\n",
        "            early_stopping_rounds=10,\n",
        "            plot=False, verbose=False)\n",
        "\n",
        "    return scores['test-AUC-mean'].max()"
      ],
      "metadata": {
        "id": "dVjDxyMp5Spv"
      },
      "execution_count": 28,
      "outputs": []
    },
    {
      "cell_type": "code",
      "source": [
        "sampler = optuna.samplers.TPESampler(seed=68)  # Make the sampler behave in a deterministic way.\n",
        "study2 = optuna.create_study(direction=\"maximize\", sampler=sampler)\n",
        "study2.optimize(objective2, n_trials=100)"
      ],
      "metadata": {
        "colab": {
          "base_uri": "https://localhost:8080/"
        },
        "collapsed": true,
        "id": "0Fo6KUZZ5V7v",
        "outputId": "f5c99a77-c65a-4868-b255-7b1fba624556"
      },
      "execution_count": 29,
      "outputs": [
        {
          "output_type": "stream",
          "name": "stderr",
          "text": [
            "[I 2024-06-17 11:59:37,025] A new study created in memory with name: no-name-be72112a-827a-4c57-85c9-916d83c6474d\n",
            "<ipython-input-28-7ef83e91da55>:13: FutureWarning: suggest_loguniform has been deprecated in v3.0.0. This feature will be removed in v6.0.0. See https://github.com/optuna/optuna/releases/tag/v3.0.0. Use suggest_float(..., log=True) instead.\n",
            "  \"l2_leaf_reg\": trial.suggest_loguniform(\"l2_leaf_reg\", 1e-8, 100),\n"
          ]
        },
        {
          "output_type": "stream",
          "name": "stdout",
          "text": [
            "Training on fold [0/5]\n",
            "\n",
            "bestTest = 0.4680673689\n",
            "bestIteration = 659\n",
            "\n",
            "Training on fold [1/5]\n",
            "\n",
            "bestTest = 0.4679162148\n",
            "bestIteration = 596\n",
            "\n",
            "Training on fold [2/5]\n",
            "\n",
            "bestTest = 0.4548964169\n",
            "bestIteration = 751\n",
            "\n",
            "Training on fold [3/5]\n",
            "\n",
            "bestTest = 0.4694050991\n",
            "bestIteration = 624\n",
            "\n",
            "Training on fold [4/5]\n"
          ]
        },
        {
          "output_type": "stream",
          "name": "stderr",
          "text": [
            "[I 2024-06-17 11:59:55,406] Trial 0 finished with value: 0.8616984834147372 and parameters: {'iterations': 1500, 'learning_rate': 0.029356482739949695, 'random_strength': 8, 'bagging_temperature': 10, 'max_bin': 6, 'grow_policy': 'SymmetricTree', 'min_data_in_leaf': 1, 'max_depth': 4, 'l2_leaf_reg': 0.001991194871120998, 'one_hot_max_size': 100, 'auto_class_weights': 'SqrtBalanced'}. Best is trial 0 with value: 0.8616984834147372.\n"
          ]
        },
        {
          "output_type": "stream",
          "name": "stdout",
          "text": [
            "\n",
            "bestTest = 0.4684656017\n",
            "bestIteration = 630\n",
            "\n",
            "Training on fold [0/5]\n",
            "\n",
            "bestTest = 0.4706288193\n",
            "bestIteration = 136\n",
            "\n",
            "Training on fold [1/5]\n",
            "\n",
            "bestTest = 0.4694001783\n",
            "bestIteration = 124\n",
            "\n",
            "Training on fold [2/5]\n",
            "\n",
            "bestTest = 0.4553334231\n",
            "bestIteration = 173\n",
            "\n",
            "Training on fold [3/5]\n",
            "\n",
            "bestTest = 0.4726603172\n",
            "bestIteration = 121\n",
            "\n",
            "Training on fold [4/5]\n"
          ]
        },
        {
          "output_type": "stream",
          "name": "stderr",
          "text": [
            "[I 2024-06-17 12:00:01,899] Trial 1 finished with value: 0.8599049374632326 and parameters: {'iterations': 200, 'learning_rate': 0.1464067066361795, 'random_strength': 10, 'bagging_temperature': 3, 'max_bin': 10, 'grow_policy': 'Depthwise', 'min_data_in_leaf': 1, 'max_depth': 3, 'l2_leaf_reg': 0.028402775147703313, 'one_hot_max_size': 500, 'auto_class_weights': 'SqrtBalanced'}. Best is trial 0 with value: 0.8616984834147372.\n"
          ]
        },
        {
          "output_type": "stream",
          "name": "stdout",
          "text": [
            "\n",
            "bestTest = 0.4677509043\n",
            "bestIteration = 177\n",
            "\n",
            "Training on fold [0/5]\n",
            "\n",
            "bestTest = 0.4719395265\n",
            "bestIteration = 74\n",
            "\n",
            "Training on fold [1/5]\n",
            "\n",
            "bestTest = 0.4708277529\n",
            "bestIteration = 73\n",
            "\n",
            "Training on fold [2/5]\n",
            "\n",
            "bestTest = 0.464881253\n",
            "bestIteration = 57\n",
            "\n",
            "Training on fold [3/5]\n",
            "\n",
            "bestTest = 0.4778870243\n",
            "bestIteration = 57\n",
            "\n",
            "Training on fold [4/5]\n"
          ]
        },
        {
          "output_type": "stream",
          "name": "stderr",
          "text": [
            "[I 2024-06-17 12:00:08,882] Trial 2 finished with value: 0.8565182068646517 and parameters: {'iterations': 200, 'learning_rate': 0.27287829596201946, 'random_strength': 8, 'bagging_temperature': 8, 'max_bin': 10, 'grow_policy': 'SymmetricTree', 'min_data_in_leaf': 1, 'max_depth': 5, 'l2_leaf_reg': 0.027330135035255495, 'one_hot_max_size': 10, 'auto_class_weights': 'SqrtBalanced'}. Best is trial 0 with value: 0.8616984834147372.\n"
          ]
        },
        {
          "output_type": "stream",
          "name": "stdout",
          "text": [
            "\n",
            "bestTest = 0.4749956611\n",
            "bestIteration = 56\n",
            "\n",
            "Training on fold [0/5]\n",
            "\n",
            "bestTest = 0.4691226912\n",
            "bestIteration = 514\n",
            "\n",
            "Training on fold [1/5]\n",
            "\n",
            "bestTest = 0.469026457\n",
            "bestIteration = 560\n",
            "\n",
            "Training on fold [2/5]\n",
            "\n",
            "bestTest = 0.4574961435\n",
            "bestIteration = 490\n",
            "\n",
            "Training on fold [3/5]\n",
            "\n",
            "bestTest = 0.4724478551\n",
            "bestIteration = 434\n",
            "\n",
            "Training on fold [4/5]\n"
          ]
        },
        {
          "output_type": "stream",
          "name": "stderr",
          "text": [
            "[I 2024-06-17 12:00:37,288] Trial 3 finished with value: 0.8601712540638478 and parameters: {'iterations': 1200, 'learning_rate': 0.0603209284932487, 'random_strength': 3, 'bagging_temperature': 7, 'max_bin': 4, 'grow_policy': 'SymmetricTree', 'min_data_in_leaf': 2, 'max_depth': 2, 'l2_leaf_reg': 1.300471404766049e-07, 'one_hot_max_size': 10, 'auto_class_weights': 'SqrtBalanced'}. Best is trial 0 with value: 0.8616984834147372.\n"
          ]
        },
        {
          "output_type": "stream",
          "name": "stdout",
          "text": [
            "\n",
            "bestTest = 0.4708412094\n",
            "bestIteration = 399\n",
            "\n",
            "Training on fold [0/5]\n",
            "\n",
            "bestTest = 0.4748113\n",
            "bestIteration = 76\n",
            "\n",
            "Training on fold [1/5]\n",
            "\n",
            "bestTest = 0.4717049779\n",
            "bestIteration = 70\n",
            "\n",
            "Training on fold [2/5]\n",
            "\n",
            "bestTest = 0.4604737693\n",
            "bestIteration = 62\n",
            "\n",
            "Training on fold [3/5]\n",
            "\n",
            "bestTest = 0.4692458732\n",
            "bestIteration = 73\n",
            "\n",
            "Training on fold [4/5]\n"
          ]
        },
        {
          "output_type": "stream",
          "name": "stderr",
          "text": [
            "[I 2024-06-17 12:00:40,178] Trial 4 finished with value: 0.8585179032630554 and parameters: {'iterations': 300, 'learning_rate': 0.22423670437233847, 'random_strength': 6, 'bagging_temperature': 2, 'max_bin': 30, 'grow_policy': 'SymmetricTree', 'min_data_in_leaf': 4, 'max_depth': 4, 'l2_leaf_reg': 0.00010293033487726667, 'one_hot_max_size': 500, 'auto_class_weights': 'SqrtBalanced'}. Best is trial 0 with value: 0.8616984834147372.\n"
          ]
        },
        {
          "output_type": "stream",
          "name": "stdout",
          "text": [
            "\n",
            "bestTest = 0.4708265624\n",
            "bestIteration = 70\n",
            "\n",
            "Training on fold [0/5]\n",
            "\n",
            "bestTest = 0.4959345563\n",
            "bestIteration = 99\n",
            "\n",
            "Training on fold [1/5]\n",
            "\n",
            "bestTest = 0.496507013\n",
            "bestIteration = 99\n",
            "\n",
            "Training on fold [2/5]\n",
            "\n",
            "bestTest = 0.484418213\n",
            "bestIteration = 99\n",
            "\n",
            "Training on fold [3/5]\n",
            "\n",
            "bestTest = 0.4962885553\n",
            "bestIteration = 99\n",
            "\n",
            "Training on fold [4/5]\n"
          ]
        },
        {
          "output_type": "stream",
          "name": "stderr",
          "text": [
            "[I 2024-06-17 12:00:43,771] Trial 5 finished with value: 0.8488722346645792 and parameters: {'iterations': 100, 'learning_rate': 0.06628011038512191, 'random_strength': 4, 'bagging_temperature': 4, 'max_bin': 20, 'grow_policy': 'Lossguide', 'min_data_in_leaf': 3, 'max_depth': 2, 'l2_leaf_reg': 13.751833235431702, 'one_hot_max_size': 100, 'auto_class_weights': 'Balanced'}. Best is trial 0 with value: 0.8616984834147372.\n"
          ]
        },
        {
          "output_type": "stream",
          "name": "stdout",
          "text": [
            "\n",
            "bestTest = 0.49567089\n",
            "bestIteration = 99\n",
            "\n",
            "Training on fold [0/5]\n",
            "\n",
            "bestTest = 0.4738227004\n",
            "bestIteration = 105\n",
            "\n",
            "Training on fold [1/5]\n",
            "\n",
            "bestTest = 0.4718634199\n",
            "bestIteration = 129\n",
            "\n",
            "Training on fold [2/5]\n",
            "\n",
            "bestTest = 0.4576302571\n",
            "bestIteration = 124\n",
            "\n",
            "Training on fold [3/5]\n",
            "\n",
            "bestTest = 0.47175126\n",
            "bestIteration = 121\n",
            "\n",
            "Training on fold [4/5]\n"
          ]
        },
        {
          "output_type": "stream",
          "name": "stderr",
          "text": [
            "[I 2024-06-17 12:01:21,031] Trial 6 finished with value: 0.858141971134026 and parameters: {'iterations': 1200, 'learning_rate': 0.09658215406978513, 'random_strength': 8, 'bagging_temperature': 2, 'max_bin': 30, 'grow_policy': 'Depthwise', 'min_data_in_leaf': 6, 'max_depth': 10, 'l2_leaf_reg': 2.6558249848041764, 'one_hot_max_size': 5, 'auto_class_weights': 'SqrtBalanced'}. Best is trial 0 with value: 0.8616984834147372.\n"
          ]
        },
        {
          "output_type": "stream",
          "name": "stdout",
          "text": [
            "\n",
            "bestTest = 0.4720015269\n",
            "bestIteration = 103\n",
            "\n",
            "Training on fold [0/5]\n",
            "\n",
            "bestTest = 0.4702723049\n",
            "bestIteration = 137\n",
            "\n",
            "Training on fold [1/5]\n",
            "\n",
            "bestTest = 0.4697026234\n",
            "bestIteration = 126\n",
            "\n",
            "Training on fold [2/5]\n",
            "\n",
            "bestTest = 0.4559212177\n",
            "bestIteration = 107\n",
            "\n",
            "Training on fold [3/5]\n",
            "\n",
            "bestTest = 0.4704534942\n",
            "bestIteration = 106\n",
            "\n",
            "Training on fold [4/5]\n"
          ]
        },
        {
          "output_type": "stream",
          "name": "stderr",
          "text": [
            "[I 2024-06-17 12:01:24,804] Trial 7 finished with value: 0.860072603165318 and parameters: {'iterations': 500, 'learning_rate': 0.2714096381817127, 'random_strength': 4, 'bagging_temperature': 6, 'max_bin': 8, 'grow_policy': 'Depthwise', 'min_data_in_leaf': 1, 'max_depth': 2, 'l2_leaf_reg': 4.9369231964322795, 'one_hot_max_size': 1024, 'auto_class_weights': 'Balanced'}. Best is trial 0 with value: 0.8616984834147372.\n"
          ]
        },
        {
          "output_type": "stream",
          "name": "stdout",
          "text": [
            "\n",
            "bestTest = 0.4712145218\n",
            "bestIteration = 110\n",
            "\n",
            "Training on fold [0/5]\n",
            "\n",
            "bestTest = 0.4727139886\n",
            "bestIteration = 99\n",
            "\n",
            "Training on fold [1/5]\n",
            "\n",
            "bestTest = 0.4717153772\n",
            "bestIteration = 78\n",
            "\n",
            "Training on fold [2/5]\n",
            "\n",
            "bestTest = 0.4555618585\n",
            "bestIteration = 88\n",
            "\n",
            "Training on fold [3/5]\n",
            "\n",
            "bestTest = 0.4717594354\n",
            "bestIteration = 115\n",
            "\n",
            "Training on fold [4/5]\n"
          ]
        },
        {
          "output_type": "stream",
          "name": "stderr",
          "text": [
            "[I 2024-06-17 12:01:29,597] Trial 8 finished with value: 0.8592315166646705 and parameters: {'iterations': 1500, 'learning_rate': 0.2053434310118264, 'random_strength': 8, 'bagging_temperature': 0, 'max_bin': 20, 'grow_policy': 'Depthwise', 'min_data_in_leaf': 10, 'max_depth': 3, 'l2_leaf_reg': 9.501510078266123e-06, 'one_hot_max_size': 500, 'auto_class_weights': 'SqrtBalanced'}. Best is trial 0 with value: 0.8616984834147372.\n"
          ]
        },
        {
          "output_type": "stream",
          "name": "stdout",
          "text": [
            "\n",
            "bestTest = 0.4712655929\n",
            "bestIteration = 100\n",
            "\n",
            "Training on fold [0/5]\n",
            "\n",
            "bestTest = 0.4800751169\n",
            "bestIteration = 24\n",
            "\n",
            "Training on fold [1/5]\n",
            "\n",
            "bestTest = 0.4770321627\n",
            "bestIteration = 40\n",
            "\n",
            "Training on fold [2/5]\n",
            "\n",
            "bestTest = 0.4637190236\n",
            "bestIteration = 36\n",
            "\n",
            "Training on fold [3/5]\n",
            "\n",
            "bestTest = 0.4824817619\n",
            "bestIteration = 43\n",
            "\n",
            "Training on fold [4/5]\n"
          ]
        },
        {
          "output_type": "stream",
          "name": "stderr",
          "text": [
            "[I 2024-06-17 12:01:37,161] Trial 9 finished with value: 0.8540659416314682 and parameters: {'iterations': 100, 'learning_rate': 0.25900665720714294, 'random_strength': 3, 'bagging_temperature': 0, 'max_bin': 6, 'grow_policy': 'Lossguide', 'min_data_in_leaf': 8, 'max_depth': 7, 'l2_leaf_reg': 1.1694576328936887e-07, 'one_hot_max_size': 12, 'auto_class_weights': 'SqrtBalanced'}. Best is trial 0 with value: 0.8616984834147372.\n"
          ]
        },
        {
          "output_type": "stream",
          "name": "stdout",
          "text": [
            "\n",
            "bestTest = 0.4786436315\n",
            "bestIteration = 43\n",
            "\n",
            "Training on fold [0/5]\n",
            "\n",
            "bestTest = 0.4769219206\n",
            "bestIteration = 1422\n",
            "\n",
            "Training on fold [1/5]\n",
            "\n",
            "bestTest = 0.4763989445\n",
            "bestIteration = 1499\n",
            "\n",
            "Training on fold [2/5]\n",
            "\n",
            "bestTest = 0.4661292407\n",
            "bestIteration = 1499\n",
            "\n",
            "Training on fold [3/5]\n",
            "\n",
            "bestTest = 0.4789353287\n",
            "bestIteration = 1499\n",
            "\n",
            "Training on fold [4/5]\n"
          ]
        },
        {
          "output_type": "stream",
          "name": "stderr",
          "text": [
            "[I 2024-06-17 12:02:37,474] Trial 10 finished with value: 0.8577154095345989 and parameters: {'iterations': 1500, 'learning_rate': 0.006050647464439535, 'random_strength': 10, 'bagging_temperature': 10, 'max_bin': 6, 'grow_policy': 'SymmetricTree', 'min_data_in_leaf': 6, 'max_depth': 7, 'l2_leaf_reg': 0.007150186521078322, 'one_hot_max_size': 100, 'auto_class_weights': 'Balanced'}. Best is trial 0 with value: 0.8616984834147372.\n"
          ]
        },
        {
          "output_type": "stream",
          "name": "stdout",
          "text": [
            "\n",
            "bestTest = 0.4751314861\n",
            "bestIteration = 1499\n",
            "\n",
            "Training on fold [0/5]\n",
            "\n",
            "bestTest = 0.4751881506\n",
            "bestIteration = 998\n",
            "\n",
            "Training on fold [1/5]\n",
            "\n",
            "bestTest = 0.4760570813\n",
            "bestIteration = 999\n",
            "\n",
            "Training on fold [2/5]\n",
            "\n",
            "bestTest = 0.4656755036\n",
            "bestIteration = 999\n",
            "\n",
            "Training on fold [3/5]\n",
            "\n",
            "bestTest = 0.4771220413\n",
            "bestIteration = 997\n",
            "\n",
            "Training on fold [4/5]\n"
          ]
        },
        {
          "output_type": "stream",
          "name": "stderr",
          "text": [
            "[I 2024-06-17 12:04:13,637] Trial 11 finished with value: 0.8580785524132952 and parameters: {'iterations': 1000, 'learning_rate': 0.006258402413494596, 'random_strength': 2, 'bagging_temperature': 9, 'max_bin': 4, 'grow_policy': 'SymmetricTree', 'min_data_in_leaf': 3, 'max_depth': 5, 'l2_leaf_reg': 3.7395625169299806e-08, 'one_hot_max_size': 10, 'auto_class_weights': 'SqrtBalanced'}. Best is trial 0 with value: 0.8616984834147372.\n"
          ]
        },
        {
          "output_type": "stream",
          "name": "stdout",
          "text": [
            "\n",
            "bestTest = 0.4754171225\n",
            "bestIteration = 999\n",
            "\n",
            "Training on fold [0/5]\n",
            "\n",
            "bestTest = 0.470567975\n",
            "bestIteration = 248\n",
            "\n",
            "Training on fold [1/5]\n",
            "\n",
            "bestTest = 0.4668895342\n",
            "bestIteration = 275\n",
            "\n",
            "Training on fold [2/5]\n",
            "\n",
            "bestTest = 0.4568238411\n",
            "bestIteration = 252\n",
            "\n",
            "Training on fold [3/5]\n",
            "\n",
            "bestTest = 0.4750662044\n",
            "bestIteration = 213\n",
            "\n",
            "Training on fold [4/5]\n"
          ]
        },
        {
          "output_type": "stream",
          "name": "stderr",
          "text": [
            "[I 2024-06-17 12:04:21,766] Trial 12 finished with value: 0.8600835174375708 and parameters: {'iterations': 1200, 'learning_rate': 0.06725819830482033, 'random_strength': 6, 'bagging_temperature': 7, 'max_bin': 4, 'grow_policy': 'SymmetricTree', 'min_data_in_leaf': 3, 'max_depth': 4, 'l2_leaf_reg': 2.484887686602948e-06, 'one_hot_max_size': 100, 'auto_class_weights': 'SqrtBalanced'}. Best is trial 0 with value: 0.8616984834147372.\n"
          ]
        },
        {
          "output_type": "stream",
          "name": "stdout",
          "text": [
            "\n",
            "bestTest = 0.4694163548\n",
            "bestIteration = 298\n",
            "\n",
            "Training on fold [0/5]\n",
            "\n",
            "bestTest = 0.4688322607\n",
            "bestIteration = 255\n",
            "\n",
            "Training on fold [1/5]\n",
            "\n",
            "bestTest = 0.4692702129\n",
            "bestIteration = 278\n",
            "\n",
            "Training on fold [2/5]\n",
            "\n",
            "bestTest = 0.4588796566\n",
            "bestIteration = 172\n",
            "\n",
            "Training on fold [3/5]\n",
            "\n",
            "bestTest = 0.4701069669\n",
            "bestIteration = 302\n",
            "\n",
            "Training on fold [4/5]\n"
          ]
        },
        {
          "output_type": "stream",
          "name": "stderr",
          "text": [
            "[I 2024-06-17 12:04:36,744] Trial 13 finished with value: 0.8605097138945375 and parameters: {'iterations': 1200, 'learning_rate': 0.11844354640975294, 'random_strength': 1, 'bagging_temperature': 10, 'max_bin': 5, 'grow_policy': 'SymmetricTree', 'min_data_in_leaf': 4, 'max_depth': 2, 'l2_leaf_reg': 0.0005293545363842097, 'one_hot_max_size': 10, 'auto_class_weights': 'SqrtBalanced'}. Best is trial 0 with value: 0.8616984834147372.\n"
          ]
        },
        {
          "output_type": "stream",
          "name": "stdout",
          "text": [
            "\n",
            "bestTest = 0.469394244\n",
            "bestIteration = 261\n",
            "\n",
            "Training on fold [0/5]\n",
            "\n",
            "bestTest = 0.4714416691\n",
            "bestIteration = 79\n",
            "\n",
            "Training on fold [1/5]\n",
            "\n",
            "bestTest = 0.4753392413\n",
            "bestIteration = 37\n",
            "\n",
            "Training on fold [2/5]\n",
            "\n",
            "bestTest = 0.4643087318\n",
            "bestIteration = 62\n",
            "\n",
            "Training on fold [3/5]\n",
            "\n",
            "bestTest = 0.4710028481\n",
            "bestIteration = 79\n",
            "\n",
            "Training on fold [4/5]\n"
          ]
        },
        {
          "output_type": "stream",
          "name": "stderr",
          "text": [
            "[I 2024-06-17 12:04:47,268] Trial 14 finished with value: 0.8577117201597945 and parameters: {'iterations': 1500, 'learning_rate': 0.13150291582573478, 'random_strength': 1, 'bagging_temperature': 10, 'max_bin': 5, 'grow_policy': 'SymmetricTree', 'min_data_in_leaf': 5, 'max_depth': 6, 'l2_leaf_reg': 0.0004751545993241495, 'one_hot_max_size': 5, 'auto_class_weights': 'SqrtBalanced'}. Best is trial 0 with value: 0.8616984834147372.\n"
          ]
        },
        {
          "output_type": "stream",
          "name": "stdout",
          "text": [
            "\n",
            "bestTest = 0.4723681115\n",
            "bestIteration = 66\n",
            "\n",
            "Training on fold [0/5]\n",
            "\n",
            "bestTest = 0.4730477659\n",
            "bestIteration = 74\n",
            "\n",
            "Training on fold [1/5]\n",
            "\n",
            "bestTest = 0.4740601615\n",
            "bestIteration = 74\n",
            "\n",
            "Training on fold [2/5]\n",
            "\n",
            "bestTest = 0.4628170474\n",
            "bestIteration = 79\n",
            "\n",
            "Training on fold [3/5]\n",
            "\n",
            "bestTest = 0.4754341416\n",
            "bestIteration = 80\n",
            "\n",
            "Training on fold [4/5]\n"
          ]
        },
        {
          "output_type": "stream",
          "name": "stderr",
          "text": [
            "[I 2024-06-17 12:05:02,258] Trial 15 finished with value: 0.8566526420551737 and parameters: {'iterations': 1000, 'learning_rate': 0.18379968329218066, 'random_strength': 7, 'bagging_temperature': 9, 'max_bin': 5, 'grow_policy': 'Lossguide', 'min_data_in_leaf': 8, 'max_depth': 10, 'l2_leaf_reg': 0.2794285934522289, 'one_hot_max_size': 12, 'auto_class_weights': 'Balanced'}. Best is trial 0 with value: 0.8616984834147372.\n"
          ]
        },
        {
          "output_type": "stream",
          "name": "stdout",
          "text": [
            "\n",
            "bestTest = 0.475428794\n",
            "bestIteration = 89\n",
            "\n",
            "Training on fold [0/5]\n",
            "\n",
            "bestTest = 0.4714642428\n",
            "bestIteration = 107\n",
            "\n",
            "Training on fold [1/5]\n",
            "\n",
            "bestTest = 0.4697874948\n",
            "bestIteration = 92\n",
            "\n",
            "Training on fold [2/5]\n",
            "\n",
            "bestTest = 0.4560434339\n",
            "bestIteration = 150\n",
            "\n",
            "Training on fold [3/5]\n",
            "\n",
            "bestTest = 0.4684215176\n",
            "bestIteration = 184\n",
            "\n",
            "Training on fold [4/5]\n"
          ]
        },
        {
          "output_type": "stream",
          "name": "stderr",
          "text": [
            "[I 2024-06-17 12:05:05,925] Trial 16 finished with value: 0.8603550842679712 and parameters: {'iterations': 500, 'learning_rate': 0.10406308911058082, 'random_strength': 1, 'bagging_temperature': 5, 'max_bin': 5, 'grow_policy': 'SymmetricTree', 'min_data_in_leaf': 5, 'max_depth': 4, 'l2_leaf_reg': 6.80996375335814e-05, 'one_hot_max_size': 1024, 'auto_class_weights': 'SqrtBalanced'}. Best is trial 0 with value: 0.8616984834147372.\n"
          ]
        },
        {
          "output_type": "stream",
          "name": "stdout",
          "text": [
            "\n",
            "bestTest = 0.4708662632\n",
            "bestIteration = 100\n",
            "\n",
            "Training on fold [0/5]\n",
            "\n",
            "bestTest = 0.4801608154\n",
            "bestIteration = 299\n",
            "\n",
            "Training on fold [1/5]\n",
            "\n",
            "bestTest = 0.4801338079\n",
            "bestIteration = 299\n",
            "\n",
            "Training on fold [2/5]\n",
            "\n",
            "bestTest = 0.4693380921\n",
            "bestIteration = 299\n",
            "\n",
            "Training on fold [3/5]\n",
            "\n",
            "bestTest = 0.4810277381\n",
            "bestIteration = 299\n",
            "\n",
            "Training on fold [4/5]\n"
          ]
        },
        {
          "output_type": "stream",
          "name": "stderr",
          "text": [
            "[I 2024-06-17 12:05:27,336] Trial 17 finished with value: 0.8558776815108085 and parameters: {'iterations': 300, 'learning_rate': 0.035256540040725835, 'random_strength': 5, 'bagging_temperature': 8, 'max_bin': 6, 'grow_policy': 'SymmetricTree', 'min_data_in_leaf': 7, 'max_depth': 3, 'l2_leaf_reg': 0.0030542199837083703, 'one_hot_max_size': 10, 'auto_class_weights': 'SqrtBalanced'}. Best is trial 0 with value: 0.8616984834147372.\n"
          ]
        },
        {
          "output_type": "stream",
          "name": "stdout",
          "text": [
            "\n",
            "bestTest = 0.4798697323\n",
            "bestIteration = 299\n",
            "\n",
            "Training on fold [0/5]\n",
            "\n",
            "bestTest = 0.4739280969\n",
            "bestIteration = 123\n",
            "\n",
            "Training on fold [1/5]\n",
            "\n",
            "bestTest = 0.4707687521\n",
            "bestIteration = 113\n",
            "\n",
            "Training on fold [2/5]\n",
            "\n",
            "bestTest = 0.4618030658\n",
            "bestIteration = 124\n",
            "\n",
            "Training on fold [3/5]\n",
            "\n",
            "bestTest = 0.4743145052\n",
            "bestIteration = 144\n",
            "\n",
            "Training on fold [4/5]\n"
          ]
        },
        {
          "output_type": "stream",
          "name": "stderr",
          "text": [
            "[I 2024-06-17 12:05:34,446] Trial 18 finished with value: 0.8574234624213617 and parameters: {'iterations': 1500, 'learning_rate': 0.10754230079730588, 'random_strength': 9, 'bagging_temperature': 10, 'max_bin': 8, 'grow_policy': 'SymmetricTree', 'min_data_in_leaf': 4, 'max_depth': 8, 'l2_leaf_reg': 0.27380132206726326, 'one_hot_max_size': 100, 'auto_class_weights': 'Balanced'}. Best is trial 0 with value: 0.8616984834147372.\n"
          ]
        },
        {
          "output_type": "stream",
          "name": "stdout",
          "text": [
            "\n",
            "bestTest = 0.4749891698\n",
            "bestIteration = 124\n",
            "\n",
            "Training on fold [0/5]\n",
            "\n",
            "bestTest = 0.4645408977\n",
            "bestIteration = 517\n",
            "\n",
            "Training on fold [1/5]\n",
            "\n",
            "bestTest = 0.4677284181\n",
            "bestIteration = 491\n",
            "\n",
            "Training on fold [2/5]\n",
            "\n",
            "bestTest = 0.4545610352\n",
            "bestIteration = 497\n",
            "\n",
            "Training on fold [3/5]\n",
            "\n",
            "bestTest = 0.4669567346\n",
            "bestIteration = 476\n",
            "\n",
            "Training on fold [4/5]\n"
          ]
        },
        {
          "output_type": "stream",
          "name": "stderr",
          "text": [
            "[I 2024-06-17 12:06:52,233] Trial 19 finished with value: 0.8626633967843906 and parameters: {'iterations': 1200, 'learning_rate': 0.03457949514742683, 'random_strength': 7, 'bagging_temperature': 8, 'max_bin': 5, 'grow_policy': 'Lossguide', 'min_data_in_leaf': 2, 'max_depth': 5, 'l2_leaf_reg': 99.11695455168572, 'one_hot_max_size': 10, 'auto_class_weights': 'SqrtBalanced'}. Best is trial 19 with value: 0.8626633967843906.\n"
          ]
        },
        {
          "output_type": "stream",
          "name": "stdout",
          "text": [
            "\n",
            "bestTest = 0.4628583205\n",
            "bestIteration = 538\n",
            "\n",
            "Training on fold [0/5]\n",
            "\n",
            "bestTest = 0.464750373\n",
            "bestIteration = 407\n",
            "\n",
            "Training on fold [1/5]\n",
            "\n",
            "bestTest = 0.4649917433\n",
            "bestIteration = 408\n",
            "\n",
            "Training on fold [2/5]\n",
            "\n",
            "bestTest = 0.4519688763\n",
            "bestIteration = 440\n",
            "\n",
            "Training on fold [3/5]\n",
            "\n",
            "bestTest = 0.4659789193\n",
            "bestIteration = 442\n",
            "\n",
            "Training on fold [4/5]\n"
          ]
        },
        {
          "output_type": "stream",
          "name": "stderr",
          "text": [
            "[I 2024-06-17 12:07:29,896] Trial 20 finished with value: 0.8632525599676019 and parameters: {'iterations': 1200, 'learning_rate': 0.04383949055596011, 'random_strength': 7, 'bagging_temperature': 8, 'max_bin': 6, 'grow_policy': 'Lossguide', 'min_data_in_leaf': 2, 'max_depth': 6, 'l2_leaf_reg': 83.53611027321875, 'one_hot_max_size': 100, 'auto_class_weights': 'SqrtBalanced'}. Best is trial 20 with value: 0.8632525599676019.\n"
          ]
        },
        {
          "output_type": "stream",
          "name": "stdout",
          "text": [
            "\n",
            "bestTest = 0.4636557481\n",
            "bestIteration = 381\n",
            "\n",
            "Training on fold [0/5]\n",
            "\n",
            "bestTest = 0.4665232072\n",
            "bestIteration = 557\n",
            "\n",
            "Training on fold [1/5]\n",
            "\n",
            "bestTest = 0.4655129806\n",
            "bestIteration = 469\n",
            "\n",
            "Training on fold [2/5]\n",
            "\n",
            "bestTest = 0.4514002906\n",
            "bestIteration = 586\n",
            "\n",
            "Training on fold [3/5]\n",
            "\n",
            "bestTest = 0.4652078067\n",
            "bestIteration = 502\n",
            "\n",
            "Training on fold [4/5]\n"
          ]
        },
        {
          "output_type": "stream",
          "name": "stderr",
          "text": [
            "[I 2024-06-17 12:08:15,209] Trial 21 finished with value: 0.8629739215956157 and parameters: {'iterations': 1200, 'learning_rate': 0.035796855792548155, 'random_strength': 7, 'bagging_temperature': 8, 'max_bin': 6, 'grow_policy': 'Lossguide', 'min_data_in_leaf': 2, 'max_depth': 6, 'l2_leaf_reg': 97.19978662487837, 'one_hot_max_size': 100, 'auto_class_weights': 'SqrtBalanced'}. Best is trial 20 with value: 0.8632525599676019.\n"
          ]
        },
        {
          "output_type": "stream",
          "name": "stdout",
          "text": [
            "\n",
            "bestTest = 0.4650348151\n",
            "bestIteration = 445\n",
            "\n",
            "Training on fold [0/5]\n",
            "\n",
            "bestTest = 0.4659475501\n",
            "bestIteration = 461\n",
            "\n",
            "Training on fold [1/5]\n",
            "\n",
            "bestTest = 0.4654322148\n",
            "bestIteration = 454\n",
            "\n",
            "Training on fold [2/5]\n",
            "\n",
            "bestTest = 0.453332577\n",
            "bestIteration = 452\n",
            "\n",
            "Training on fold [3/5]\n",
            "\n",
            "bestTest = 0.465293125\n",
            "bestIteration = 502\n",
            "\n",
            "Training on fold [4/5]\n"
          ]
        },
        {
          "output_type": "stream",
          "name": "stderr",
          "text": [
            "[I 2024-06-17 12:08:56,634] Trial 22 finished with value: 0.8628378238422542 and parameters: {'iterations': 1200, 'learning_rate': 0.03906848348551152, 'random_strength': 7, 'bagging_temperature': 6, 'max_bin': 6, 'grow_policy': 'Lossguide', 'min_data_in_leaf': 2, 'max_depth': 6, 'l2_leaf_reg': 91.69888044927987, 'one_hot_max_size': 100, 'auto_class_weights': 'SqrtBalanced'}. Best is trial 20 with value: 0.8632525599676019.\n"
          ]
        },
        {
          "output_type": "stream",
          "name": "stdout",
          "text": [
            "\n",
            "bestTest = 0.4647162873\n",
            "bestIteration = 453\n",
            "\n",
            "Training on fold [0/5]\n",
            "\n",
            "bestTest = 0.4681598445\n",
            "bestIteration = 226\n",
            "\n",
            "Training on fold [1/5]\n",
            "\n",
            "bestTest = 0.4668081243\n",
            "bestIteration = 228\n",
            "\n",
            "Training on fold [2/5]\n",
            "\n",
            "bestTest = 0.4535225026\n",
            "bestIteration = 217\n",
            "\n",
            "Training on fold [3/5]\n",
            "\n",
            "bestTest = 0.4667508995\n",
            "bestIteration = 203\n",
            "\n",
            "Training on fold [4/5]\n"
          ]
        },
        {
          "output_type": "stream",
          "name": "stderr",
          "text": [
            "[I 2024-06-17 12:09:17,996] Trial 23 finished with value: 0.8620394521274941 and parameters: {'iterations': 1200, 'learning_rate': 0.0782827648920624, 'random_strength': 7, 'bagging_temperature': 6, 'max_bin': 6, 'grow_policy': 'Lossguide', 'min_data_in_leaf': 2, 'max_depth': 7, 'l2_leaf_reg': 89.94436397893038, 'one_hot_max_size': 100, 'auto_class_weights': 'SqrtBalanced'}. Best is trial 20 with value: 0.8632525599676019.\n"
          ]
        },
        {
          "output_type": "stream",
          "name": "stdout",
          "text": [
            "\n",
            "bestTest = 0.4650484187\n",
            "bestIteration = 210\n",
            "\n",
            "Training on fold [0/5]\n",
            "\n",
            "bestTest = 0.4667817867\n",
            "bestIteration = 317\n",
            "\n",
            "Training on fold [1/5]\n",
            "\n",
            "bestTest = 0.4648271243\n",
            "bestIteration = 310\n",
            "\n",
            "Training on fold [2/5]\n",
            "\n",
            "bestTest = 0.453956542\n",
            "bestIteration = 312\n",
            "\n",
            "Training on fold [3/5]\n",
            "\n",
            "bestTest = 0.4676048974\n",
            "bestIteration = 286\n",
            "\n",
            "Training on fold [4/5]\n"
          ]
        },
        {
          "output_type": "stream",
          "name": "stderr",
          "text": [
            "[I 2024-06-17 12:09:46,033] Trial 24 finished with value: 0.8626834638705498 and parameters: {'iterations': 1200, 'learning_rate': 0.04716986751290588, 'random_strength': 5, 'bagging_temperature': 6, 'max_bin': 6, 'grow_policy': 'Lossguide', 'min_data_in_leaf': 2, 'max_depth': 8, 'l2_leaf_reg': 1.174451873467657, 'one_hot_max_size': 100, 'auto_class_weights': 'SqrtBalanced'}. Best is trial 20 with value: 0.8632525599676019.\n"
          ]
        },
        {
          "output_type": "stream",
          "name": "stdout",
          "text": [
            "\n",
            "bestTest = 0.463201195\n",
            "bestIteration = 311\n",
            "\n",
            "Training on fold [0/5]\n",
            "\n",
            "bestTest = 0.4689588691\n",
            "bestIteration = 165\n",
            "\n",
            "Training on fold [1/5]\n",
            "\n",
            "bestTest = 0.4676787566\n",
            "bestIteration = 187\n",
            "\n",
            "Training on fold [2/5]\n",
            "\n",
            "bestTest = 0.4538879119\n",
            "bestIteration = 178\n",
            "\n",
            "Training on fold [3/5]\n",
            "\n",
            "bestTest = 0.4667398006\n",
            "bestIteration = 192\n",
            "\n",
            "Training on fold [4/5]\n"
          ]
        },
        {
          "output_type": "stream",
          "name": "stderr",
          "text": [
            "[I 2024-06-17 12:10:04,044] Trial 25 finished with value: 0.8615256528790868 and parameters: {'iterations': 1200, 'learning_rate': 0.08820050826327591, 'random_strength': 6, 'bagging_temperature': 7, 'max_bin': 6, 'grow_policy': 'Lossguide', 'min_data_in_leaf': 3, 'max_depth': 6, 'l2_leaf_reg': 24.255990500428595, 'one_hot_max_size': 100, 'auto_class_weights': 'SqrtBalanced'}. Best is trial 20 with value: 0.8632525599676019.\n"
          ]
        },
        {
          "output_type": "stream",
          "name": "stdout",
          "text": [
            "\n",
            "bestTest = 0.4666109165\n",
            "bestIteration = 176\n",
            "\n",
            "Training on fold [0/5]\n",
            "\n",
            "bestTest = 0.4663795757\n",
            "bestIteration = 826\n",
            "\n",
            "Training on fold [1/5]\n",
            "\n",
            "bestTest = 0.4656455102\n",
            "bestIteration = 780\n",
            "\n",
            "Training on fold [2/5]\n",
            "\n",
            "bestTest = 0.4536730977\n",
            "bestIteration = 830\n",
            "\n",
            "Training on fold [3/5]\n",
            "\n",
            "bestTest = 0.4669103814\n",
            "bestIteration = 771\n",
            "\n",
            "Training on fold [4/5]\n"
          ]
        },
        {
          "output_type": "stream",
          "name": "stderr",
          "text": [
            "[I 2024-06-17 12:11:15,560] Trial 26 finished with value: 0.862774084976684 and parameters: {'iterations': 1200, 'learning_rate': 0.01909271978093302, 'random_strength': 9, 'bagging_temperature': 5, 'max_bin': 6, 'grow_policy': 'Lossguide', 'min_data_in_leaf': 2, 'max_depth': 8, 'l2_leaf_reg': 0.30134826545651305, 'one_hot_max_size': 100, 'auto_class_weights': 'SqrtBalanced'}. Best is trial 20 with value: 0.8632525599676019.\n"
          ]
        },
        {
          "output_type": "stream",
          "name": "stdout",
          "text": [
            "\n",
            "bestTest = 0.464197354\n",
            "bestIteration = 819\n",
            "\n",
            "Training on fold [0/5]\n",
            "\n",
            "bestTest = 0.4679776481\n",
            "bestIteration = 88\n",
            "\n",
            "Training on fold [1/5]\n",
            "\n",
            "bestTest = 0.4702127789\n",
            "bestIteration = 85\n",
            "\n",
            "Training on fold [2/5]\n",
            "\n",
            "bestTest = 0.4558507716\n",
            "bestIteration = 88\n",
            "\n",
            "Training on fold [3/5]\n",
            "\n",
            "bestTest = 0.4698848341\n",
            "bestIteration = 98\n",
            "\n",
            "Training on fold [4/5]\n"
          ]
        },
        {
          "output_type": "stream",
          "name": "stderr",
          "text": [
            "[I 2024-06-17 12:11:25,056] Trial 27 finished with value: 0.8610812499875926 and parameters: {'iterations': 1200, 'learning_rate': 0.16757078202372552, 'random_strength': 9, 'bagging_temperature': 8, 'max_bin': 6, 'grow_policy': 'Lossguide', 'min_data_in_leaf': 4, 'max_depth': 6, 'l2_leaf_reg': 14.627476007357282, 'one_hot_max_size': 100, 'auto_class_weights': 'Balanced'}. Best is trial 20 with value: 0.8632525599676019.\n"
          ]
        },
        {
          "output_type": "stream",
          "name": "stdout",
          "text": [
            "\n",
            "bestTest = 0.4656539522\n",
            "bestIteration = 87\n",
            "\n",
            "Training on fold [0/5]\n",
            "\n",
            "bestTest = 0.4658019653\n",
            "bestIteration = 337\n",
            "\n",
            "Training on fold [1/5]\n",
            "\n",
            "bestTest = 0.4663126191\n",
            "bestIteration = 359\n",
            "\n",
            "Training on fold [2/5]\n",
            "\n",
            "bestTest = 0.4533529348\n",
            "bestIteration = 300\n",
            "\n",
            "Training on fold [3/5]\n",
            "\n",
            "bestTest = 0.4690723413\n",
            "bestIteration = 305\n",
            "\n",
            "Training on fold [4/5]\n"
          ]
        },
        {
          "output_type": "stream",
          "name": "stderr",
          "text": [
            "[I 2024-06-17 12:11:53,750] Trial 28 finished with value: 0.8621673389399487 and parameters: {'iterations': 1200, 'learning_rate': 0.0501800859713282, 'random_strength': 7, 'bagging_temperature': 9, 'max_bin': 6, 'grow_policy': 'Lossguide', 'min_data_in_leaf': 3, 'max_depth': 6, 'l2_leaf_reg': 0.8258715838513688, 'one_hot_max_size': 100, 'auto_class_weights': 'SqrtBalanced'}. Best is trial 20 with value: 0.8632525599676019.\n"
          ]
        },
        {
          "output_type": "stream",
          "name": "stdout",
          "text": [
            "\n",
            "bestTest = 0.4650606147\n",
            "bestIteration = 288\n",
            "\n",
            "Training on fold [0/5]\n",
            "\n",
            "bestTest = 0.4648221966\n",
            "bestIteration = 695\n",
            "\n",
            "Training on fold [1/5]\n",
            "\n",
            "bestTest = 0.4662017997\n",
            "bestIteration = 598\n",
            "\n",
            "Training on fold [2/5]\n",
            "\n",
            "bestTest = 0.4537454793\n",
            "bestIteration = 690\n",
            "\n",
            "Training on fold [3/5]\n",
            "\n",
            "bestTest = 0.4662875523\n",
            "bestIteration = 704\n",
            "\n",
            "Training on fold [4/5]\n"
          ]
        },
        {
          "output_type": "stream",
          "name": "stderr",
          "text": [
            "[I 2024-06-17 12:12:56,753] Trial 29 finished with value: 0.8627569051165602 and parameters: {'iterations': 1000, 'learning_rate': 0.02365573498094517, 'random_strength': 5, 'bagging_temperature': 4, 'max_bin': 6, 'grow_policy': 'Lossguide', 'min_data_in_leaf': 1, 'max_depth': 9, 'l2_leaf_reg': 94.78409012636061, 'one_hot_max_size': 100, 'auto_class_weights': 'SqrtBalanced'}. Best is trial 20 with value: 0.8632525599676019.\n"
          ]
        },
        {
          "output_type": "stream",
          "name": "stdout",
          "text": [
            "\n",
            "bestTest = 0.4648213241\n",
            "bestIteration = 623\n",
            "\n",
            "Training on fold [0/5]\n",
            "\n",
            "bestTest = 0.6600592101\n",
            "bestIteration = 99\n",
            "\n",
            "Training on fold [1/5]\n",
            "\n",
            "bestTest = 0.6603474489\n",
            "bestIteration = 99\n",
            "\n",
            "Training on fold [2/5]\n",
            "\n",
            "bestTest = 0.6599570799\n",
            "bestIteration = 99\n",
            "\n",
            "Training on fold [3/5]\n",
            "\n",
            "bestTest = 0.6596536807\n",
            "bestIteration = 99\n",
            "\n",
            "Training on fold [4/5]\n"
          ]
        },
        {
          "output_type": "stream",
          "name": "stderr",
          "text": [
            "[I 2024-06-17 12:13:13,152] Trial 30 finished with value: 0.8298490195150713 and parameters: {'iterations': 100, 'learning_rate': 0.0016582559283094406, 'random_strength': 8, 'bagging_temperature': 7, 'max_bin': 6, 'grow_policy': 'Lossguide', 'min_data_in_leaf': 1, 'max_depth': 7, 'l2_leaf_reg': 6.705172120716611, 'one_hot_max_size': 5, 'auto_class_weights': 'SqrtBalanced'}. Best is trial 20 with value: 0.8632525599676019.\n"
          ]
        },
        {
          "output_type": "stream",
          "name": "stdout",
          "text": [
            "\n",
            "bestTest = 0.6599797046\n",
            "bestIteration = 99\n",
            "\n",
            "Training on fold [0/5]\n",
            "\n",
            "bestTest = 0.4661458867\n",
            "bestIteration = 760\n",
            "\n",
            "Training on fold [1/5]\n",
            "\n",
            "bestTest = 0.4659033187\n",
            "bestIteration = 712\n",
            "\n",
            "Training on fold [2/5]\n",
            "\n",
            "bestTest = 0.4532773951\n",
            "bestIteration = 721\n",
            "\n",
            "Training on fold [3/5]\n",
            "\n",
            "bestTest = 0.4694459129\n",
            "bestIteration = 709\n",
            "\n",
            "Training on fold [4/5]\n"
          ]
        },
        {
          "output_type": "stream",
          "name": "stderr",
          "text": [
            "[I 2024-06-17 12:14:17,153] Trial 31 finished with value: 0.8620713999090783 and parameters: {'iterations': 1200, 'learning_rate': 0.02134781583625273, 'random_strength': 9, 'bagging_temperature': 5, 'max_bin': 6, 'grow_policy': 'Lossguide', 'min_data_in_leaf': 2, 'max_depth': 8, 'l2_leaf_reg': 0.06917453193989952, 'one_hot_max_size': 100, 'auto_class_weights': 'SqrtBalanced'}. Best is trial 20 with value: 0.8632525599676019.\n"
          ]
        },
        {
          "output_type": "stream",
          "name": "stdout",
          "text": [
            "\n",
            "bestTest = 0.467003024\n",
            "bestIteration = 668\n",
            "\n",
            "Training on fold [0/5]\n",
            "\n",
            "bestTest = 0.4807990473\n",
            "bestIteration = 199\n",
            "\n",
            "Training on fold [1/5]\n",
            "\n",
            "bestTest = 0.478763375\n",
            "bestIteration = 199\n",
            "\n",
            "Training on fold [2/5]\n",
            "\n",
            "bestTest = 0.4708010729\n",
            "bestIteration = 199\n",
            "\n",
            "Training on fold [3/5]\n",
            "\n",
            "bestTest = 0.4805752757\n",
            "bestIteration = 199\n",
            "\n",
            "Training on fold [4/5]\n"
          ]
        },
        {
          "output_type": "stream",
          "name": "stderr",
          "text": [
            "[I 2024-06-17 12:14:34,345] Trial 32 finished with value: 0.8563064182489175 and parameters: {'iterations': 200, 'learning_rate': 0.04303768608139345, 'random_strength': 9, 'bagging_temperature': 4, 'max_bin': 10, 'grow_policy': 'Lossguide', 'min_data_in_leaf': 2, 'max_depth': 5, 'l2_leaf_reg': 20.814683046754386, 'one_hot_max_size': 100, 'auto_class_weights': 'SqrtBalanced'}. Best is trial 20 with value: 0.8632525599676019.\n"
          ]
        },
        {
          "output_type": "stream",
          "name": "stdout",
          "text": [
            "\n",
            "bestTest = 0.4776949196\n",
            "bestIteration = 199\n",
            "\n",
            "Training on fold [0/5]\n",
            "\n",
            "bestTest = 0.4665752584\n",
            "bestIteration = 654\n",
            "\n",
            "Training on fold [1/5]\n",
            "\n",
            "bestTest = 0.4680026848\n",
            "bestIteration = 629\n",
            "\n",
            "Training on fold [2/5]\n",
            "\n",
            "bestTest = 0.4530817319\n",
            "bestIteration = 717\n",
            "\n",
            "Training on fold [3/5]\n",
            "\n",
            "bestTest = 0.467512863\n",
            "bestIteration = 646\n",
            "\n",
            "Training on fold [4/5]\n"
          ]
        },
        {
          "output_type": "stream",
          "name": "stderr",
          "text": [
            "[I 2024-06-17 12:15:31,042] Trial 33 finished with value: 0.8624696579386721 and parameters: {'iterations': 1200, 'learning_rate': 0.022724123291912264, 'random_strength': 10, 'bagging_temperature': 6, 'max_bin': 6, 'grow_policy': 'Lossguide', 'min_data_in_leaf': 1, 'max_depth': 6, 'l2_leaf_reg': 0.2468021342200819, 'one_hot_max_size': 100, 'auto_class_weights': 'SqrtBalanced'}. Best is trial 20 with value: 0.8632525599676019.\n"
          ]
        },
        {
          "output_type": "stream",
          "name": "stdout",
          "text": [
            "\n",
            "bestTest = 0.4643046731\n",
            "bestIteration = 620\n",
            "\n",
            "Training on fold [0/5]\n",
            "\n",
            "bestTest = 0.4685279979\n",
            "bestIteration = 222\n",
            "\n",
            "Training on fold [1/5]\n",
            "\n",
            "bestTest = 0.4681775144\n",
            "bestIteration = 195\n",
            "\n",
            "Training on fold [2/5]\n",
            "\n",
            "bestTest = 0.4563205158\n",
            "bestIteration = 201\n",
            "\n",
            "Training on fold [3/5]\n",
            "\n",
            "bestTest = 0.4657748512\n",
            "bestIteration = 233\n",
            "\n",
            "Training on fold [4/5]\n"
          ]
        },
        {
          "output_type": "stream",
          "name": "stderr",
          "text": [
            "[I 2024-06-17 12:15:51,557] Trial 34 finished with value: 0.8611599104613514 and parameters: {'iterations': 1200, 'learning_rate': 0.07362600388003086, 'random_strength': 8, 'bagging_temperature': 5, 'max_bin': 6, 'grow_policy': 'Lossguide', 'min_data_in_leaf': 3, 'max_depth': 8, 'l2_leaf_reg': 1.5213479689378886, 'one_hot_max_size': 1024, 'auto_class_weights': 'SqrtBalanced'}. Best is trial 20 with value: 0.8632525599676019.\n"
          ]
        },
        {
          "output_type": "stream",
          "name": "stdout",
          "text": [
            "\n",
            "bestTest = 0.4668224304\n",
            "bestIteration = 190\n",
            "\n",
            "Training on fold [0/5]\n",
            "\n",
            "bestTest = 0.4717797915\n",
            "bestIteration = 198\n",
            "\n",
            "Training on fold [1/5]\n",
            "\n",
            "bestTest = 0.4755409514\n",
            "bestIteration = 199\n",
            "\n",
            "Training on fold [2/5]\n",
            "\n",
            "bestTest = 0.4605787295\n",
            "bestIteration = 199\n",
            "\n",
            "Training on fold [3/5]\n",
            "\n",
            "bestTest = 0.4731543138\n",
            "bestIteration = 199\n",
            "\n",
            "Training on fold [4/5]\n"
          ]
        },
        {
          "output_type": "stream",
          "name": "stderr",
          "text": [
            "[I 2024-06-17 12:16:23,369] Trial 35 finished with value: 0.8585478058365885 and parameters: {'iterations': 200, 'learning_rate': 0.05630398926399551, 'random_strength': 6, 'bagging_temperature': 8, 'max_bin': 10, 'grow_policy': 'Lossguide', 'min_data_in_leaf': 1, 'max_depth': 9, 'l2_leaf_reg': 0.05149255088480003, 'one_hot_max_size': 12, 'auto_class_weights': 'SqrtBalanced'}. Best is trial 20 with value: 0.8632525599676019.\n"
          ]
        },
        {
          "output_type": "stream",
          "name": "stdout",
          "text": [
            "\n",
            "bestTest = 0.4738890554\n",
            "bestIteration = 199\n",
            "\n",
            "Training on fold [0/5]\n",
            "\n",
            "bestTest = 0.470831977\n",
            "bestIteration = 111\n",
            "\n",
            "Training on fold [1/5]\n",
            "\n",
            "bestTest = 0.4689786014\n",
            "bestIteration = 117\n",
            "\n",
            "Training on fold [2/5]\n",
            "\n",
            "bestTest = 0.4556380087\n",
            "bestIteration = 123\n",
            "\n",
            "Training on fold [3/5]\n",
            "\n",
            "bestTest = 0.4709087059\n",
            "bestIteration = 112\n",
            "\n",
            "Training on fold [4/5]\n"
          ]
        },
        {
          "output_type": "stream",
          "name": "stderr",
          "text": [
            "[I 2024-06-17 12:16:34,924] Trial 36 finished with value: 0.8601528055685879 and parameters: {'iterations': 300, 'learning_rate': 0.1390352277583939, 'random_strength': 7, 'bagging_temperature': 7, 'max_bin': 30, 'grow_policy': 'Lossguide', 'min_data_in_leaf': 2, 'max_depth': 7, 'l2_leaf_reg': 28.393006262422, 'one_hot_max_size': 500, 'auto_class_weights': 'SqrtBalanced'}. Best is trial 20 with value: 0.8632525599676019.\n"
          ]
        },
        {
          "output_type": "stream",
          "name": "stdout",
          "text": [
            "\n",
            "bestTest = 0.4672997951\n",
            "bestIteration = 105\n",
            "\n",
            "Training on fold [0/5]\n",
            "\n",
            "bestTest = 0.4655281536\n",
            "bestIteration = 188\n",
            "\n",
            "Training on fold [1/5]\n",
            "\n",
            "bestTest = 0.4673314809\n",
            "bestIteration = 174\n",
            "\n",
            "Training on fold [2/5]\n",
            "\n",
            "bestTest = 0.455944226\n",
            "bestIteration = 192\n",
            "\n",
            "Training on fold [3/5]\n",
            "\n",
            "bestTest = 0.467269816\n",
            "bestIteration = 187\n",
            "\n",
            "Training on fold [4/5]\n"
          ]
        },
        {
          "output_type": "stream",
          "name": "stderr",
          "text": [
            "[I 2024-06-17 12:16:45,698] Trial 37 finished with value: 0.861979862472712 and parameters: {'iterations': 1200, 'learning_rate': 0.08373889814490736, 'random_strength': 9, 'bagging_temperature': 4, 'max_bin': 8, 'grow_policy': 'Depthwise', 'min_data_in_leaf': 4, 'max_depth': 5, 'l2_leaf_reg': 4.656699410799948, 'one_hot_max_size': 100, 'auto_class_weights': 'SqrtBalanced'}. Best is trial 20 with value: 0.8632525599676019.\n"
          ]
        },
        {
          "output_type": "stream",
          "name": "stdout",
          "text": [
            "\n",
            "bestTest = 0.4656011081\n",
            "bestIteration = 188\n",
            "\n",
            "Training on fold [0/5]\n",
            "\n",
            "bestTest = 0.4796996521\n",
            "bestIteration = 499\n",
            "\n",
            "Training on fold [1/5]\n",
            "\n",
            "bestTest = 0.4801301951\n",
            "bestIteration = 499\n",
            "\n",
            "Training on fold [2/5]\n",
            "\n",
            "bestTest = 0.4702441173\n",
            "bestIteration = 499\n",
            "\n",
            "Training on fold [3/5]\n",
            "\n",
            "bestTest = 0.4803561222\n",
            "bestIteration = 499\n",
            "\n",
            "Training on fold [4/5]\n"
          ]
        },
        {
          "output_type": "stream",
          "name": "stderr",
          "text": [
            "[I 2024-06-17 12:17:28,138] Trial 38 finished with value: 0.8567347838228259 and parameters: {'iterations': 500, 'learning_rate': 0.016507716254390004, 'random_strength': 6, 'bagging_temperature': 2, 'max_bin': 20, 'grow_policy': 'Lossguide', 'min_data_in_leaf': 2, 'max_depth': 9, 'l2_leaf_reg': 38.006536591311196, 'one_hot_max_size': 100, 'auto_class_weights': 'Balanced'}. Best is trial 20 with value: 0.8632525599676019.\n"
          ]
        },
        {
          "output_type": "stream",
          "name": "stdout",
          "text": [
            "\n",
            "bestTest = 0.4778476593\n",
            "bestIteration = 499\n",
            "\n",
            "Training on fold [0/5]\n",
            "\n",
            "bestTest = 0.46881849\n",
            "bestIteration = 239\n",
            "\n",
            "Training on fold [1/5]\n",
            "\n",
            "bestTest = 0.4730559365\n",
            "bestIteration = 209\n",
            "\n",
            "Training on fold [2/5]\n",
            "\n",
            "bestTest = 0.4574307494\n",
            "bestIteration = 240\n",
            "\n",
            "Training on fold [3/5]\n",
            "\n",
            "bestTest = 0.4708530758\n",
            "bestIteration = 215\n",
            "\n",
            "Training on fold [4/5]\n"
          ]
        },
        {
          "output_type": "stream",
          "name": "stderr",
          "text": [
            "[I 2024-06-17 12:17:45,188] Trial 39 finished with value: 0.8599415720117444 and parameters: {'iterations': 1200, 'learning_rate': 0.05777425466782243, 'random_strength': 7, 'bagging_temperature': 3, 'max_bin': 6, 'grow_policy': 'Depthwise', 'min_data_in_leaf': 1, 'max_depth': 6, 'l2_leaf_reg': 0.015190887939439747, 'one_hot_max_size': 500, 'auto_class_weights': 'SqrtBalanced'}. Best is trial 20 with value: 0.8632525599676019.\n"
          ]
        },
        {
          "output_type": "stream",
          "name": "stdout",
          "text": [
            "\n",
            "bestTest = 0.4666557286\n",
            "bestIteration = 239\n",
            "\n",
            "Training on fold [0/5]\n",
            "\n",
            "bestTest = 0.4669718986\n",
            "bestIteration = 458\n",
            "\n",
            "Training on fold [1/5]\n",
            "\n",
            "bestTest = 0.4657397205\n",
            "bestIteration = 512\n",
            "\n",
            "Training on fold [2/5]\n",
            "\n",
            "bestTest = 0.4526414677\n",
            "bestIteration = 476\n",
            "\n",
            "Training on fold [3/5]\n",
            "\n",
            "bestTest = 0.4670022194\n",
            "bestIteration = 483\n",
            "\n",
            "Training on fold [4/5]\n"
          ]
        },
        {
          "output_type": "stream",
          "name": "stderr",
          "text": [
            "[I 2024-06-17 12:18:28,687] Trial 40 finished with value: 0.862571035262915 and parameters: {'iterations': 1200, 'learning_rate': 0.032431375309720206, 'random_strength': 8, 'bagging_temperature': 5, 'max_bin': 30, 'grow_policy': 'Lossguide', 'min_data_in_leaf': 10, 'max_depth': 7, 'l2_leaf_reg': 6.906945716480768, 'one_hot_max_size': 100, 'auto_class_weights': 'SqrtBalanced'}. Best is trial 20 with value: 0.8632525599676019.\n"
          ]
        },
        {
          "output_type": "stream",
          "name": "stdout",
          "text": [
            "\n",
            "bestTest = 0.4647001942\n",
            "bestIteration = 436\n",
            "\n",
            "Training on fold [0/5]\n",
            "\n",
            "bestTest = 0.4657592568\n",
            "bestIteration = 898\n",
            "\n",
            "Training on fold [1/5]\n",
            "\n",
            "bestTest = 0.4666134067\n",
            "bestIteration = 875\n",
            "\n",
            "Training on fold [2/5]\n",
            "\n",
            "bestTest = 0.4529806653\n",
            "bestIteration = 950\n",
            "\n",
            "Training on fold [3/5]\n",
            "\n",
            "bestTest = 0.4654028227\n",
            "bestIteration = 973\n",
            "\n",
            "Training on fold [4/5]\n"
          ]
        },
        {
          "output_type": "stream",
          "name": "stderr",
          "text": [
            "[I 2024-06-17 12:19:55,786] Trial 41 finished with value: 0.8630397364727557 and parameters: {'iterations': 1000, 'learning_rate': 0.016200486507274122, 'random_strength': 5, 'bagging_temperature': 3, 'max_bin': 6, 'grow_policy': 'Lossguide', 'min_data_in_leaf': 1, 'max_depth': 9, 'l2_leaf_reg': 72.32590011902855, 'one_hot_max_size': 100, 'auto_class_weights': 'SqrtBalanced'}. Best is trial 20 with value: 0.8632525599676019.\n"
          ]
        },
        {
          "output_type": "stream",
          "name": "stdout",
          "text": [
            "\n",
            "bestTest = 0.4639680182\n",
            "bestIteration = 965\n",
            "\n",
            "Training on fold [0/5]\n",
            "\n",
            "bestTest = 0.4659077719\n",
            "bestIteration = 998\n",
            "\n",
            "Training on fold [1/5]\n",
            "\n",
            "bestTest = 0.4659911598\n",
            "bestIteration = 999\n",
            "\n",
            "Training on fold [2/5]\n",
            "\n",
            "bestTest = 0.453900959\n",
            "bestIteration = 999\n",
            "\n",
            "Training on fold [3/5]\n",
            "\n",
            "bestTest = 0.467879615\n",
            "bestIteration = 977\n",
            "\n",
            "Training on fold [4/5]\n"
          ]
        },
        {
          "output_type": "stream",
          "name": "stderr",
          "text": [
            "[I 2024-06-17 12:21:24,007] Trial 42 finished with value: 0.862553925810834 and parameters: {'iterations': 1000, 'learning_rate': 0.013749492590192113, 'random_strength': 5, 'bagging_temperature': 3, 'max_bin': 6, 'grow_policy': 'Lossguide', 'min_data_in_leaf': 1, 'max_depth': 9, 'l2_leaf_reg': 35.911057856613866, 'one_hot_max_size': 100, 'auto_class_weights': 'SqrtBalanced'}. Best is trial 20 with value: 0.8632525599676019.\n"
          ]
        },
        {
          "output_type": "stream",
          "name": "stdout",
          "text": [
            "\n",
            "bestTest = 0.4660718195\n",
            "bestIteration = 932\n",
            "\n",
            "Training on fold [0/5]\n",
            "\n",
            "bestTest = 0.4662629578\n",
            "bestIteration = 374\n",
            "\n",
            "Training on fold [1/5]\n",
            "\n",
            "bestTest = 0.4666970027\n",
            "bestIteration = 368\n",
            "\n",
            "Training on fold [2/5]\n",
            "\n",
            "bestTest = 0.455398245\n",
            "bestIteration = 330\n",
            "\n",
            "Training on fold [3/5]\n",
            "\n",
            "bestTest = 0.4669605179\n",
            "bestIteration = 337\n",
            "\n",
            "Training on fold [4/5]\n"
          ]
        },
        {
          "output_type": "stream",
          "name": "stderr",
          "text": [
            "[I 2024-06-17 12:21:56,279] Trial 43 finished with value: 0.86225190981815 and parameters: {'iterations': 1000, 'learning_rate': 0.040054666559269377, 'random_strength': 4, 'bagging_temperature': 1, 'max_bin': 6, 'grow_policy': 'Lossguide', 'min_data_in_leaf': 2, 'max_depth': 10, 'l2_leaf_reg': 2.943920816556651, 'one_hot_max_size': 100, 'auto_class_weights': 'SqrtBalanced'}. Best is trial 20 with value: 0.8632525599676019.\n"
          ]
        },
        {
          "output_type": "stream",
          "name": "stdout",
          "text": [
            "\n",
            "bestTest = 0.4641114698\n",
            "bestIteration = 358\n",
            "\n",
            "Training on fold [0/5]\n",
            "\n",
            "bestTest = 0.4704493672\n",
            "bestIteration = 60\n",
            "\n",
            "Training on fold [1/5]\n",
            "\n",
            "bestTest = 0.4703045597\n",
            "bestIteration = 53\n",
            "\n",
            "Training on fold [2/5]\n",
            "\n",
            "bestTest = 0.4548605549\n",
            "bestIteration = 58\n",
            "\n",
            "Training on fold [3/5]\n",
            "\n",
            "bestTest = 0.4710585126\n",
            "bestIteration = 67\n",
            "\n",
            "Training on fold [4/5]\n"
          ]
        },
        {
          "output_type": "stream",
          "name": "stderr",
          "text": [
            "[I 2024-06-17 12:22:03,671] Trial 44 finished with value: 0.8596446592455884 and parameters: {'iterations': 100, 'learning_rate': 0.2473573933077939, 'random_strength': 4, 'bagging_temperature': 1, 'max_bin': 20, 'grow_policy': 'Lossguide', 'min_data_in_leaf': 3, 'max_depth': 8, 'l2_leaf_reg': 10.864114722691193, 'one_hot_max_size': 100, 'auto_class_weights': 'SqrtBalanced'}. Best is trial 20 with value: 0.8632525599676019.\n"
          ]
        },
        {
          "output_type": "stream",
          "name": "stdout",
          "text": [
            "\n",
            "bestTest = 0.4683371844\n",
            "bestIteration = 52\n",
            "\n",
            "Training on fold [0/5]\n",
            "\n",
            "bestTest = 0.4706782328\n",
            "bestIteration = 63\n",
            "\n",
            "Training on fold [1/5]\n",
            "\n",
            "bestTest = 0.4711438016\n",
            "bestIteration = 72\n",
            "\n",
            "Training on fold [2/5]\n",
            "\n",
            "bestTest = 0.4617142799\n",
            "bestIteration = 59\n",
            "\n",
            "Training on fold [3/5]\n",
            "\n",
            "bestTest = 0.469115785\n",
            "bestIteration = 108\n",
            "\n",
            "Training on fold [4/5]\n"
          ]
        },
        {
          "output_type": "stream",
          "name": "stderr",
          "text": [
            "[I 2024-06-17 12:22:17,875] Trial 45 finished with value: 0.8592628629339375 and parameters: {'iterations': 1000, 'learning_rate': 0.29311363349234243, 'random_strength': 8, 'bagging_temperature': 9, 'max_bin': 4, 'grow_policy': 'Lossguide', 'min_data_in_leaf': 1, 'max_depth': 6, 'l2_leaf_reg': 97.75269044167258, 'one_hot_max_size': 5, 'auto_class_weights': 'SqrtBalanced'}. Best is trial 20 with value: 0.8632525599676019.\n"
          ]
        },
        {
          "output_type": "stream",
          "name": "stdout",
          "text": [
            "\n",
            "bestTest = 0.4656628222\n",
            "bestIteration = 52\n",
            "\n",
            "Training on fold [0/5]\n",
            "\n",
            "bestTest = 0.4698633317\n",
            "bestIteration = 196\n",
            "\n",
            "Training on fold [1/5]\n",
            "\n",
            "bestTest = 0.4702885821\n",
            "bestIteration = 199\n",
            "\n",
            "Training on fold [2/5]\n",
            "\n",
            "bestTest = 0.4583710751\n",
            "bestIteration = 199\n",
            "\n",
            "Training on fold [3/5]\n",
            "\n",
            "bestTest = 0.4697163674\n",
            "bestIteration = 199\n",
            "\n",
            "Training on fold [4/5]\n"
          ]
        },
        {
          "output_type": "stream",
          "name": "stderr",
          "text": [
            "[I 2024-06-17 12:22:29,354] Trial 46 finished with value: 0.8604489743520178 and parameters: {'iterations': 200, 'learning_rate': 0.06312065407316633, 'random_strength': 6, 'bagging_temperature': 6, 'max_bin': 6, 'grow_policy': 'Depthwise', 'min_data_in_leaf': 3, 'max_depth': 5, 'l2_leaf_reg': 2.2191599708738536, 'one_hot_max_size': 1024, 'auto_class_weights': 'SqrtBalanced'}. Best is trial 20 with value: 0.8632525599676019.\n"
          ]
        },
        {
          "output_type": "stream",
          "name": "stdout",
          "text": [
            "\n",
            "bestTest = 0.4677518428\n",
            "bestIteration = 199\n",
            "\n",
            "Training on fold [0/5]\n",
            "\n",
            "bestTest = 0.5252317672\n",
            "bestIteration = 299\n",
            "\n",
            "Training on fold [1/5]\n",
            "\n",
            "bestTest = 0.527144486\n",
            "bestIteration = 299\n",
            "\n",
            "Training on fold [2/5]\n",
            "\n",
            "bestTest = 0.5219673112\n",
            "bestIteration = 299\n",
            "\n",
            "Training on fold [3/5]\n",
            "\n",
            "bestTest = 0.526892532\n",
            "bestIteration = 299\n",
            "\n",
            "Training on fold [4/5]\n"
          ]
        },
        {
          "output_type": "stream",
          "name": "stderr",
          "text": [
            "[I 2024-06-17 12:23:17,175] Trial 47 finished with value: 0.8449098669195356 and parameters: {'iterations': 300, 'learning_rate': 0.00500476971142047, 'random_strength': 3, 'bagging_temperature': 7, 'max_bin': 10, 'grow_policy': 'Lossguide', 'min_data_in_leaf': 2, 'max_depth': 7, 'l2_leaf_reg': 0.5701718141818125, 'one_hot_max_size': 12, 'auto_class_weights': 'Balanced'}. Best is trial 20 with value: 0.8632525599676019.\n"
          ]
        },
        {
          "output_type": "stream",
          "name": "stdout",
          "text": [
            "\n",
            "bestTest = 0.5251823712\n",
            "bestIteration = 299\n",
            "\n",
            "Training on fold [0/5]\n",
            "\n",
            "bestTest = 0.4714332048\n",
            "bestIteration = 499\n",
            "\n",
            "Training on fold [1/5]\n",
            "\n",
            "bestTest = 0.4710056085\n",
            "bestIteration = 499\n",
            "\n",
            "Training on fold [2/5]\n",
            "\n",
            "bestTest = 0.4590261454\n",
            "bestIteration = 499\n",
            "\n",
            "Training on fold [3/5]\n",
            "\n",
            "bestTest = 0.4720918694\n",
            "bestIteration = 499\n",
            "\n",
            "Training on fold [4/5]\n"
          ]
        },
        {
          "output_type": "stream",
          "name": "stderr",
          "text": [
            "[I 2024-06-17 12:23:49,786] Trial 48 finished with value: 0.860155326560309 and parameters: {'iterations': 500, 'learning_rate': 0.02529152251563399, 'random_strength': 7, 'bagging_temperature': 3, 'max_bin': 6, 'grow_policy': 'Lossguide', 'min_data_in_leaf': 1, 'max_depth': 4, 'l2_leaf_reg': 43.47420418611471, 'one_hot_max_size': 100, 'auto_class_weights': 'SqrtBalanced'}. Best is trial 20 with value: 0.8632525599676019.\n"
          ]
        },
        {
          "output_type": "stream",
          "name": "stdout",
          "text": [
            "\n",
            "bestTest = 0.4703654883\n",
            "bestIteration = 499\n",
            "\n",
            "Training on fold [0/5]\n",
            "\n",
            "bestTest = 0.4659089984\n",
            "bestIteration = 315\n",
            "\n",
            "Training on fold [1/5]\n",
            "\n",
            "bestTest = 0.4670950264\n",
            "bestIteration = 306\n",
            "\n",
            "Training on fold [2/5]\n",
            "\n",
            "bestTest = 0.4528226904\n",
            "bestIteration = 305\n",
            "\n",
            "Training on fold [3/5]\n",
            "\n",
            "bestTest = 0.46687779\n",
            "bestIteration = 329\n",
            "\n",
            "Training on fold [4/5]\n"
          ]
        },
        {
          "output_type": "stream",
          "name": "stderr",
          "text": [
            "[I 2024-06-17 12:24:15,776] Trial 49 finished with value: 0.8627356792423988 and parameters: {'iterations': 1200, 'learning_rate': 0.048738035958499876, 'random_strength': 5, 'bagging_temperature': 4, 'max_bin': 8, 'grow_policy': 'Lossguide', 'min_data_in_leaf': 5, 'max_depth': 5, 'l2_leaf_reg': 6.971776309479283, 'one_hot_max_size': 100, 'auto_class_weights': 'SqrtBalanced'}. Best is trial 20 with value: 0.8632525599676019.\n"
          ]
        },
        {
          "output_type": "stream",
          "name": "stdout",
          "text": [
            "\n",
            "bestTest = 0.4637464792\n",
            "bestIteration = 300\n",
            "\n",
            "Training on fold [0/5]\n",
            "\n",
            "bestTest = 0.4805582052\n",
            "bestIteration = 119\n",
            "\n",
            "Training on fold [1/5]\n",
            "\n",
            "bestTest = 0.4830725262\n",
            "bestIteration = 59\n",
            "\n",
            "Training on fold [2/5]\n",
            "\n",
            "bestTest = 0.4717840624\n",
            "bestIteration = 82\n",
            "\n",
            "Training on fold [3/5]\n",
            "\n",
            "bestTest = 0.4866973995\n",
            "bestIteration = 94\n",
            "\n",
            "Training on fold [4/5]\n"
          ]
        },
        {
          "output_type": "stream",
          "name": "stderr",
          "text": [
            "[I 2024-06-17 12:24:28,949] Trial 50 finished with value: 0.8517413061949151 and parameters: {'iterations': 1000, 'learning_rate': 0.09290502364200545, 'random_strength': 10, 'bagging_temperature': 8, 'max_bin': 6, 'grow_policy': 'Depthwise', 'min_data_in_leaf': 4, 'max_depth': 9, 'l2_leaf_reg': 0.1097083383005771, 'one_hot_max_size': 500, 'auto_class_weights': 'SqrtBalanced'}. Best is trial 20 with value: 0.8632525599676019.\n"
          ]
        },
        {
          "output_type": "stream",
          "name": "stdout",
          "text": [
            "\n",
            "bestTest = 0.4765193733\n",
            "bestIteration = 102\n",
            "\n",
            "Training on fold [0/5]\n",
            "\n",
            "bestTest = 0.4650720744\n",
            "bestIteration = 990\n",
            "\n",
            "Training on fold [1/5]\n",
            "\n",
            "bestTest = 0.4642739529\n",
            "bestIteration = 965\n",
            "\n",
            "Training on fold [2/5]\n",
            "\n",
            "bestTest = 0.4530628847\n",
            "bestIteration = 920\n",
            "\n",
            "Training on fold [3/5]\n",
            "\n",
            "bestTest = 0.4670386227\n",
            "bestIteration = 841\n",
            "\n",
            "Training on fold [4/5]\n"
          ]
        },
        {
          "output_type": "stream",
          "name": "stderr",
          "text": [
            "[I 2024-06-17 12:25:55,079] Trial 51 finished with value: 0.8631322393396996 and parameters: {'iterations': 1000, 'learning_rate': 0.016727749211489753, 'random_strength': 5, 'bagging_temperature': 4, 'max_bin': 6, 'grow_policy': 'Lossguide', 'min_data_in_leaf': 1, 'max_depth': 10, 'l2_leaf_reg': 82.29241696702528, 'one_hot_max_size': 100, 'auto_class_weights': 'SqrtBalanced'}. Best is trial 20 with value: 0.8632525599676019.\n"
          ]
        },
        {
          "output_type": "stream",
          "name": "stdout",
          "text": [
            "\n",
            "bestTest = 0.4641948473\n",
            "bestIteration = 874\n",
            "\n",
            "Training on fold [0/5]\n",
            "\n",
            "bestTest = 0.4652495656\n",
            "bestIteration = 972\n",
            "\n",
            "Training on fold [1/5]\n",
            "\n",
            "bestTest = 0.4648774974\n",
            "bestIteration = 981\n",
            "\n",
            "Training on fold [2/5]\n",
            "\n",
            "bestTest = 0.4541433453\n",
            "bestIteration = 980\n",
            "\n",
            "Training on fold [3/5]\n",
            "\n",
            "bestTest = 0.4660807973\n",
            "bestIteration = 971\n",
            "\n",
            "Training on fold [4/5]\n"
          ]
        },
        {
          "output_type": "stream",
          "name": "stderr",
          "text": [
            "[I 2024-06-17 12:27:25,509] Trial 52 finished with value: 0.863205457582794 and parameters: {'iterations': 1000, 'learning_rate': 0.013749050611953313, 'random_strength': 3, 'bagging_temperature': 5, 'max_bin': 6, 'grow_policy': 'Lossguide', 'min_data_in_leaf': 2, 'max_depth': 10, 'l2_leaf_reg': 12.662628542737309, 'one_hot_max_size': 100, 'auto_class_weights': 'SqrtBalanced'}. Best is trial 20 with value: 0.8632525599676019.\n"
          ]
        },
        {
          "output_type": "stream",
          "name": "stdout",
          "text": [
            "\n",
            "bestTest = 0.4630879319\n",
            "bestIteration = 982\n",
            "\n",
            "Training on fold [0/5]\n",
            "\n",
            "bestTest = 0.4660377014\n",
            "bestIteration = 999\n",
            "\n",
            "Training on fold [1/5]\n",
            "\n",
            "bestTest = 0.4669480599\n",
            "bestIteration = 999\n",
            "\n",
            "Training on fold [2/5]\n",
            "\n",
            "bestTest = 0.4544716338\n",
            "bestIteration = 998\n",
            "\n",
            "Training on fold [3/5]\n",
            "\n",
            "bestTest = 0.4673240424\n",
            "bestIteration = 998\n",
            "\n",
            "Training on fold [4/5]\n"
          ]
        },
        {
          "output_type": "stream",
          "name": "stderr",
          "text": [
            "[I 2024-06-17 12:28:57,715] Trial 53 finished with value: 0.8626523822269985 and parameters: {'iterations': 1000, 'learning_rate': 0.011911521607058911, 'random_strength': 2, 'bagging_temperature': 4, 'max_bin': 6, 'grow_policy': 'Lossguide', 'min_data_in_leaf': 1, 'max_depth': 10, 'l2_leaf_reg': 46.40707285502377, 'one_hot_max_size': 100, 'auto_class_weights': 'SqrtBalanced'}. Best is trial 20 with value: 0.8632525599676019.\n"
          ]
        },
        {
          "output_type": "stream",
          "name": "stdout",
          "text": [
            "\n",
            "bestTest = 0.4640796937\n",
            "bestIteration = 990\n",
            "\n",
            "Training on fold [0/5]\n",
            "\n",
            "bestTest = 0.4661974571\n",
            "bestIteration = 309\n",
            "\n",
            "Training on fold [1/5]\n",
            "\n",
            "bestTest = 0.4646729373\n",
            "bestIteration = 405\n",
            "\n",
            "Training on fold [2/5]\n",
            "\n",
            "bestTest = 0.4535450694\n",
            "bestIteration = 346\n",
            "\n",
            "Training on fold [3/5]\n",
            "\n",
            "bestTest = 0.4679846892\n",
            "bestIteration = 382\n",
            "\n",
            "Training on fold [4/5]\n"
          ]
        },
        {
          "output_type": "stream",
          "name": "stderr",
          "text": [
            "[I 2024-06-17 12:29:33,229] Trial 54 finished with value: 0.8626422858857683 and parameters: {'iterations': 1000, 'learning_rate': 0.037069902022496326, 'random_strength': 2, 'bagging_temperature': 3, 'max_bin': 4, 'grow_policy': 'Lossguide', 'min_data_in_leaf': 2, 'max_depth': 10, 'l2_leaf_reg': 17.419419437760258, 'one_hot_max_size': 100, 'auto_class_weights': 'SqrtBalanced'}. Best is trial 20 with value: 0.8632525599676019.\n"
          ]
        },
        {
          "output_type": "stream",
          "name": "stdout",
          "text": [
            "\n",
            "bestTest = 0.4634981884\n",
            "bestIteration = 372\n",
            "\n",
            "Training on fold [0/5]\n",
            "\n",
            "bestTest = 0.4646833159\n",
            "bestIteration = 222\n",
            "\n",
            "Training on fold [1/5]\n",
            "\n",
            "bestTest = 0.4665258714\n",
            "bestIteration = 209\n",
            "\n",
            "Training on fold [2/5]\n",
            "\n",
            "bestTest = 0.4540372613\n",
            "bestIteration = 216\n",
            "\n",
            "Training on fold [3/5]\n",
            "\n",
            "bestTest = 0.4665955194\n",
            "bestIteration = 230\n",
            "\n",
            "Training on fold [4/5]\n"
          ]
        },
        {
          "output_type": "stream",
          "name": "stderr",
          "text": [
            "[I 2024-06-17 12:29:53,384] Trial 55 finished with value: 0.8624494933466386 and parameters: {'iterations': 1000, 'learning_rate': 0.06596360002106631, 'random_strength': 4, 'bagging_temperature': 6, 'max_bin': 6, 'grow_policy': 'Lossguide', 'min_data_in_leaf': 3, 'max_depth': 10, 'l2_leaf_reg': 14.97072779769684, 'one_hot_max_size': 100, 'auto_class_weights': 'SqrtBalanced'}. Best is trial 20 with value: 0.8632525599676019.\n"
          ]
        },
        {
          "output_type": "stream",
          "name": "stdout",
          "text": [
            "\n",
            "bestTest = 0.4653004868\n",
            "bestIteration = 200\n",
            "\n",
            "Training on fold [0/5]\n",
            "\n",
            "bestTest = 0.4644001033\n",
            "bestIteration = 446\n",
            "\n",
            "Training on fold [1/5]\n",
            "\n",
            "bestTest = 0.4668351349\n",
            "bestIteration = 424\n",
            "\n",
            "Training on fold [2/5]\n",
            "\n",
            "bestTest = 0.4553517135\n",
            "bestIteration = 449\n",
            "\n",
            "Training on fold [3/5]\n",
            "\n",
            "bestTest = 0.4668432572\n",
            "bestIteration = 431\n",
            "\n",
            "Training on fold [4/5]\n"
          ]
        },
        {
          "output_type": "stream",
          "name": "stderr",
          "text": [
            "[I 2024-06-17 12:31:14,035] Trial 56 finished with value: 0.8625405642635512 and parameters: {'iterations': 1000, 'learning_rate': 0.03170778190994155, 'random_strength': 3, 'bagging_temperature': 9, 'max_bin': 30, 'grow_policy': 'Lossguide', 'min_data_in_leaf': 8, 'max_depth': 10, 'l2_leaf_reg': 51.40869534050837, 'one_hot_max_size': 5, 'auto_class_weights': 'Balanced'}. Best is trial 20 with value: 0.8632525599676019.\n"
          ]
        },
        {
          "output_type": "stream",
          "name": "stdout",
          "text": [
            "\n",
            "bestTest = 0.4662678507\n",
            "bestIteration = 433\n",
            "\n",
            "Training on fold [0/5]\n",
            "\n",
            "bestTest = 0.4766333423\n",
            "bestIteration = 98\n",
            "\n",
            "Training on fold [1/5]\n",
            "\n",
            "bestTest = 0.474998998\n",
            "bestIteration = 106\n",
            "\n",
            "Training on fold [2/5]\n",
            "\n",
            "bestTest = 0.4667613763\n",
            "bestIteration = 104\n",
            "\n",
            "Training on fold [3/5]\n",
            "\n",
            "bestTest = 0.477755283\n",
            "bestIteration = 106\n",
            "\n",
            "Training on fold [4/5]\n"
          ]
        },
        {
          "output_type": "stream",
          "name": "stderr",
          "text": [
            "[I 2024-06-17 12:31:23,928] Trial 57 finished with value: 0.855720470774376 and parameters: {'iterations': 1000, 'learning_rate': 0.12090670526107813, 'random_strength': 6, 'bagging_temperature': 2, 'max_bin': 6, 'grow_policy': 'Lossguide', 'min_data_in_leaf': 9, 'max_depth': 9, 'l2_leaf_reg': 9.985357667065326e-07, 'one_hot_max_size': 100, 'auto_class_weights': 'SqrtBalanced'}. Best is trial 20 with value: 0.8632525599676019.\n"
          ]
        },
        {
          "output_type": "stream",
          "name": "stdout",
          "text": [
            "\n",
            "bestTest = 0.4744705167\n",
            "bestIteration = 106\n",
            "\n",
            "Training on fold [0/5]\n",
            "\n",
            "bestTest = 0.4676049279\n",
            "bestIteration = 81\n",
            "\n",
            "Training on fold [1/5]\n",
            "\n",
            "bestTest = 0.4751578745\n",
            "bestIteration = 70\n",
            "\n",
            "Training on fold [2/5]\n",
            "\n",
            "bestTest = 0.4586558056\n",
            "bestIteration = 70\n",
            "\n",
            "Training on fold [3/5]\n",
            "\n",
            "bestTest = 0.4728129047\n",
            "bestIteration = 62\n",
            "\n",
            "Training on fold [4/5]\n"
          ]
        },
        {
          "output_type": "stream",
          "name": "stderr",
          "text": [
            "[I 2024-06-17 12:31:37,609] Trial 58 finished with value: 0.858545327361002 and parameters: {'iterations': 1500, 'learning_rate': 0.21001844565389935, 'random_strength': 5, 'bagging_temperature': 5, 'max_bin': 20, 'grow_policy': 'Lossguide', 'min_data_in_leaf': 1, 'max_depth': 10, 'l2_leaf_reg': 2.9639519304130832, 'one_hot_max_size': 10, 'auto_class_weights': 'SqrtBalanced'}. Best is trial 20 with value: 0.8632525599676019.\n"
          ]
        },
        {
          "output_type": "stream",
          "name": "stdout",
          "text": [
            "\n",
            "bestTest = 0.4700167028\n",
            "bestIteration = 65\n",
            "\n",
            "Training on fold [0/5]\n",
            "\n",
            "bestTest = 0.4799549787\n",
            "bestIteration = 82\n",
            "\n",
            "Training on fold [1/5]\n",
            "\n",
            "bestTest = 0.4796321493\n",
            "bestIteration = 80\n",
            "\n",
            "Training on fold [2/5]\n",
            "\n",
            "bestTest = 0.4701053618\n",
            "bestIteration = 74\n",
            "\n",
            "Training on fold [3/5]\n",
            "\n",
            "bestTest = 0.4802552295\n",
            "bestIteration = 77\n",
            "\n",
            "Training on fold [4/5]\n"
          ]
        },
        {
          "output_type": "stream",
          "name": "stderr",
          "text": [
            "[I 2024-06-17 12:31:45,986] Trial 59 finished with value: 0.8538422455864282 and parameters: {'iterations': 1000, 'learning_rate': 0.15451251756405535, 'random_strength': 7, 'bagging_temperature': 6, 'max_bin': 6, 'grow_policy': 'Lossguide', 'min_data_in_leaf': 3, 'max_depth': 6, 'l2_leaf_reg': 3.583682147349126e-05, 'one_hot_max_size': 1024, 'auto_class_weights': 'SqrtBalanced'}. Best is trial 20 with value: 0.8632525599676019.\n"
          ]
        },
        {
          "output_type": "stream",
          "name": "stdout",
          "text": [
            "\n",
            "bestTest = 0.4784383699\n",
            "bestIteration = 77\n",
            "\n",
            "Training on fold [0/5]\n",
            "\n",
            "bestTest = 0.4668226125\n",
            "bestIteration = 183\n",
            "\n",
            "Training on fold [1/5]\n",
            "\n",
            "bestTest = 0.4543629848\n",
            "bestIteration = 201\n",
            "\n",
            "Training on fold [3/5]\n",
            "\n",
            "bestTest = 0.4687632886\n",
            "bestIteration = 180\n",
            "\n",
            "Training on fold [4/5]\n"
          ]
        },
        {
          "output_type": "stream",
          "name": "stderr",
          "text": [
            "[I 2024-06-17 12:31:54,754] Trial 60 finished with value: 0.8618602919154496 and parameters: {'iterations': 1000, 'learning_rate': 0.07369585090354537, 'random_strength': 3, 'bagging_temperature': 7, 'max_bin': 6, 'grow_policy': 'SymmetricTree', 'min_data_in_leaf': 2, 'max_depth': 7, 'l2_leaf_reg': 10.203906911850048, 'one_hot_max_size': 100, 'auto_class_weights': 'SqrtBalanced'}. Best is trial 20 with value: 0.8632525599676019.\n"
          ]
        },
        {
          "output_type": "stream",
          "name": "stdout",
          "text": [
            "\n",
            "bestTest = 0.4652592351\n",
            "bestIteration = 183\n",
            "\n",
            "Training on fold [0/5]\n",
            "\n",
            "bestTest = 0.4664766181\n",
            "bestIteration = 1199\n",
            "\n",
            "Training on fold [1/5]\n",
            "\n",
            "bestTest = 0.4658809984\n",
            "bestIteration = 1199\n",
            "\n",
            "Training on fold [2/5]\n",
            "\n",
            "bestTest = 0.453934363\n",
            "bestIteration = 1199\n",
            "\n",
            "Training on fold [3/5]\n",
            "\n",
            "bestTest = 0.4673405747\n",
            "bestIteration = 1195\n",
            "\n",
            "Training on fold [4/5]\n"
          ]
        },
        {
          "output_type": "stream",
          "name": "stderr",
          "text": [
            "[I 2024-06-17 12:33:41,053] Trial 61 finished with value: 0.8627814185301528 and parameters: {'iterations': 1200, 'learning_rate': 0.012217554292261214, 'random_strength': 8, 'bagging_temperature': 5, 'max_bin': 6, 'grow_policy': 'Lossguide', 'min_data_in_leaf': 2, 'max_depth': 9, 'l2_leaf_reg': 66.33951327719123, 'one_hot_max_size': 100, 'auto_class_weights': 'SqrtBalanced'}. Best is trial 20 with value: 0.8632525599676019.\n"
          ]
        },
        {
          "output_type": "stream",
          "name": "stdout",
          "text": [
            "\n",
            "bestTest = 0.4645046414\n",
            "bestIteration = 1195\n",
            "\n",
            "Training on fold [0/5]\n",
            "\n",
            "bestTest = 0.4682517824\n",
            "bestIteration = 1199\n",
            "\n",
            "Training on fold [1/5]\n",
            "\n",
            "bestTest = 0.4674282578\n",
            "bestIteration = 1199\n",
            "\n",
            "Training on fold [2/5]\n",
            "\n",
            "bestTest = 0.4560530708\n",
            "bestIteration = 1199\n",
            "\n",
            "Training on fold [3/5]\n",
            "\n",
            "bestTest = 0.4676142321\n",
            "bestIteration = 1199\n",
            "\n",
            "Training on fold [4/5]\n"
          ]
        },
        {
          "output_type": "stream",
          "name": "stderr",
          "text": [
            "[I 2024-06-17 12:35:25,928] Trial 62 finished with value: 0.8620527058790053 and parameters: {'iterations': 1200, 'learning_rate': 0.011437578680877046, 'random_strength': 8, 'bagging_temperature': 5, 'max_bin': 6, 'grow_policy': 'Lossguide', 'min_data_in_leaf': 2, 'max_depth': 9, 'l2_leaf_reg': 91.0106309056333, 'one_hot_max_size': 100, 'auto_class_weights': 'SqrtBalanced'}. Best is trial 20 with value: 0.8632525599676019.\n"
          ]
        },
        {
          "output_type": "stream",
          "name": "stdout",
          "text": [
            "\n",
            "bestTest = 0.4659390837\n",
            "bestIteration = 1199\n",
            "\n",
            "Training on fold [0/5]\n",
            "\n",
            "bestTest = 0.5115719792\n",
            "bestIteration = 1199\n",
            "\n",
            "Training on fold [1/5]\n",
            "\n",
            "bestTest = 0.5100551575\n",
            "bestIteration = 1199\n",
            "\n",
            "Training on fold [2/5]\n",
            "\n",
            "bestTest = 0.5045827427\n",
            "bestIteration = 1199\n",
            "\n",
            "Training on fold [3/5]\n",
            "\n",
            "bestTest = 0.51128623\n",
            "bestIteration = 1199\n",
            "\n",
            "Training on fold [4/5]\n"
          ]
        },
        {
          "output_type": "stream",
          "name": "stderr",
          "text": [
            "[I 2024-06-17 12:37:05,254] Trial 63 finished with value: 0.8457250582156723 and parameters: {'iterations': 1200, 'learning_rate': 0.002722932777361414, 'random_strength': 8, 'bagging_temperature': 4, 'max_bin': 6, 'grow_policy': 'Lossguide', 'min_data_in_leaf': 1, 'max_depth': 10, 'l2_leaf_reg': 54.03919158302362, 'one_hot_max_size': 100, 'auto_class_weights': 'SqrtBalanced'}. Best is trial 20 with value: 0.8632525599676019.\n"
          ]
        },
        {
          "output_type": "stream",
          "name": "stdout",
          "text": [
            "\n",
            "bestTest = 0.5101519764\n",
            "bestIteration = 1199\n",
            "\n",
            "Training on fold [0/5]\n",
            "\n",
            "bestTest = 0.4977364015\n",
            "bestIteration = 98\n",
            "\n",
            "Training on fold [1/5]\n",
            "\n",
            "bestTest = 0.4948761399\n",
            "bestIteration = 99\n",
            "\n",
            "Training on fold [2/5]\n",
            "\n",
            "bestTest = 0.483274459\n",
            "bestIteration = 99\n",
            "\n",
            "Training on fold [3/5]\n",
            "\n",
            "bestTest = 0.4951086217\n",
            "bestIteration = 99\n",
            "\n",
            "Training on fold [4/5]\n"
          ]
        },
        {
          "output_type": "stream",
          "name": "stderr",
          "text": [
            "[I 2024-06-17 12:37:13,651] Trial 64 finished with value: 0.8505635931857721 and parameters: {'iterations': 100, 'learning_rate': 0.04745666250896635, 'random_strength': 7, 'bagging_temperature': 3, 'max_bin': 6, 'grow_policy': 'Lossguide', 'min_data_in_leaf': 1, 'max_depth': 9, 'l2_leaf_reg': 21.0588977551466, 'one_hot_max_size': 100, 'auto_class_weights': 'SqrtBalanced'}. Best is trial 20 with value: 0.8632525599676019.\n"
          ]
        },
        {
          "output_type": "stream",
          "name": "stdout",
          "text": [
            "\n",
            "bestTest = 0.4954105681\n",
            "bestIteration = 99\n",
            "\n",
            "Training on fold [0/5]\n",
            "\n",
            "bestTest = 0.4655419389\n",
            "bestIteration = 518\n",
            "\n",
            "Training on fold [1/5]\n",
            "\n",
            "bestTest = 0.4673842483\n",
            "bestIteration = 545\n",
            "\n",
            "Training on fold [2/5]\n",
            "\n",
            "bestTest = 0.453767055\n",
            "bestIteration = 591\n",
            "\n",
            "Training on fold [3/5]\n",
            "\n",
            "bestTest = 0.4674352738\n",
            "bestIteration = 524\n",
            "\n",
            "Training on fold [4/5]\n"
          ]
        },
        {
          "output_type": "stream",
          "name": "stderr",
          "text": [
            "[I 2024-06-17 12:38:42,749] Trial 65 finished with value: 0.8624663940560788 and parameters: {'iterations': 1200, 'learning_rate': 0.027413738003557137, 'random_strength': 6, 'bagging_temperature': 5, 'max_bin': 6, 'grow_policy': 'Lossguide', 'min_data_in_leaf': 2, 'max_depth': 6, 'l2_leaf_reg': 4.038519655269663, 'one_hot_max_size': 12, 'auto_class_weights': 'SqrtBalanced'}. Best is trial 20 with value: 0.8632525599676019.\n"
          ]
        },
        {
          "output_type": "stream",
          "name": "stdout",
          "text": [
            "\n",
            "bestTest = 0.4636283686\n",
            "bestIteration = 530\n",
            "\n",
            "Training on fold [0/5]\n",
            "\n",
            "bestTest = 0.4680675432\n",
            "bestIteration = 377\n",
            "\n",
            "Training on fold [1/5]\n",
            "\n",
            "bestTest = 0.4666782272\n",
            "bestIteration = 380\n",
            "\n",
            "Training on fold [2/5]\n",
            "\n",
            "bestTest = 0.4540820669\n",
            "bestIteration = 434\n",
            "\n",
            "Training on fold [3/5]\n",
            "\n",
            "bestTest = 0.4675236306\n",
            "bestIteration = 364\n",
            "\n",
            "Training on fold [4/5]\n"
          ]
        },
        {
          "output_type": "stream",
          "name": "stderr",
          "text": [
            "[I 2024-06-17 12:39:19,867] Trial 66 finished with value: 0.8624844071000954 and parameters: {'iterations': 1500, 'learning_rate': 0.040198772212990855, 'random_strength': 6, 'bagging_temperature': 4, 'max_bin': 5, 'grow_policy': 'Lossguide', 'min_data_in_leaf': 6, 'max_depth': 10, 'l2_leaf_reg': 53.14389234813218, 'one_hot_max_size': 100, 'auto_class_weights': 'Balanced'}. Best is trial 20 with value: 0.8632525599676019.\n"
          ]
        },
        {
          "output_type": "stream",
          "name": "stdout",
          "text": [
            "\n",
            "bestTest = 0.4638928739\n",
            "bestIteration = 389\n",
            "\n",
            "Training on fold [0/5]\n",
            "\n",
            "bestTest = 0.4680401047\n",
            "bestIteration = 234\n",
            "\n",
            "Training on fold [1/5]\n",
            "\n",
            "bestTest = 0.4664766056\n",
            "bestIteration = 272\n",
            "\n",
            "Training on fold [2/5]\n",
            "\n",
            "bestTest = 0.4541745449\n",
            "bestIteration = 290\n",
            "\n",
            "Training on fold [3/5]\n",
            "\n",
            "bestTest = 0.4660370471\n",
            "bestIteration = 248\n",
            "\n",
            "Training on fold [4/5]\n"
          ]
        },
        {
          "output_type": "stream",
          "name": "stderr",
          "text": [
            "[I 2024-06-17 12:39:42,685] Trial 67 finished with value: 0.8623634611045194 and parameters: {'iterations': 500, 'learning_rate': 0.05560662618320142, 'random_strength': 4, 'bagging_temperature': 6, 'max_bin': 6, 'grow_policy': 'Lossguide', 'min_data_in_leaf': 2, 'max_depth': 5, 'l2_leaf_reg': 9.608525504598905, 'one_hot_max_size': 100, 'auto_class_weights': 'SqrtBalanced'}. Best is trial 20 with value: 0.8632525599676019.\n"
          ]
        },
        {
          "output_type": "stream",
          "name": "stdout",
          "text": [
            "\n",
            "bestTest = 0.463123579\n",
            "bestIteration = 286\n",
            "\n",
            "Training on fold [0/5]\n",
            "\n",
            "bestTest = 0.4825583729\n",
            "bestIteration = 299\n",
            "\n",
            "Training on fold [1/5]\n",
            "\n",
            "bestTest = 0.4797398354\n",
            "bestIteration = 299\n",
            "\n",
            "Training on fold [2/5]\n",
            "\n",
            "bestTest = 0.4730121382\n",
            "bestIteration = 299\n",
            "\n",
            "Training on fold [3/5]\n",
            "\n",
            "bestTest = 0.482775407\n",
            "bestIteration = 299\n",
            "\n",
            "Training on fold [4/5]\n"
          ]
        },
        {
          "output_type": "stream",
          "name": "stderr",
          "text": [
            "[I 2024-06-17 12:39:59,180] Trial 68 finished with value: 0.8562371245262842 and parameters: {'iterations': 300, 'learning_rate': 0.016876558894264163, 'random_strength': 7, 'bagging_temperature': 8, 'max_bin': 8, 'grow_policy': 'SymmetricTree', 'min_data_in_leaf': 3, 'max_depth': 9, 'l2_leaf_reg': 23.743507006641806, 'one_hot_max_size': 100, 'auto_class_weights': 'SqrtBalanced'}. Best is trial 20 with value: 0.8632525599676019.\n"
          ]
        },
        {
          "output_type": "stream",
          "name": "stdout",
          "text": [
            "\n",
            "bestTest = 0.4802329724\n",
            "bestIteration = 298\n",
            "\n",
            "Training on fold [0/5]\n",
            "\n",
            "bestTest = 0.470148272\n",
            "bestIteration = 423\n",
            "\n",
            "Training on fold [1/5]\n",
            "\n",
            "bestTest = 0.4676157401\n",
            "bestIteration = 469\n",
            "\n",
            "Training on fold [2/5]\n",
            "\n",
            "bestTest = 0.4537736159\n",
            "bestIteration = 485\n",
            "\n",
            "Training on fold [3/5]\n",
            "\n",
            "bestTest = 0.4720360038\n",
            "bestIteration = 439\n",
            "\n",
            "Training on fold [4/5]\n"
          ]
        },
        {
          "output_type": "stream",
          "name": "stderr",
          "text": [
            "[I 2024-06-17 12:41:14,618] Trial 69 finished with value: 0.8609843344090852 and parameters: {'iterations': 1200, 'learning_rate': 0.028990926499962322, 'random_strength': 5, 'bagging_temperature': 4, 'max_bin': 6, 'grow_policy': 'Lossguide', 'min_data_in_leaf': 2, 'max_depth': 8, 'l2_leaf_reg': 1.6153613717978845e-08, 'one_hot_max_size': 10, 'auto_class_weights': 'SqrtBalanced'}. Best is trial 20 with value: 0.8632525599676019.\n"
          ]
        },
        {
          "output_type": "stream",
          "name": "stdout",
          "text": [
            "\n",
            "bestTest = 0.4655673795\n",
            "bestIteration = 457\n",
            "\n",
            "Training on fold [0/5]\n",
            "\n",
            "bestTest = 0.5012152085\n",
            "bestIteration = 1199\n",
            "\n",
            "Training on fold [1/5]\n",
            "\n",
            "bestTest = 0.5002382546\n",
            "bestIteration = 1199\n",
            "\n",
            "Training on fold [2/5]\n",
            "\n",
            "bestTest = 0.4942371927\n",
            "bestIteration = 1199\n",
            "\n",
            "Training on fold [3/5]\n",
            "\n",
            "bestTest = 0.5008228413\n",
            "bestIteration = 1199\n",
            "\n",
            "Training on fold [4/5]\n"
          ]
        },
        {
          "output_type": "stream",
          "name": "stderr",
          "text": [
            "[I 2024-06-17 12:42:56,850] Trial 70 finished with value: 0.851315085816419 and parameters: {'iterations': 1200, 'learning_rate': 0.0023300141876089475, 'random_strength': 8, 'bagging_temperature': 5, 'max_bin': 4, 'grow_policy': 'Depthwise', 'min_data_in_leaf': 1, 'max_depth': 7, 'l2_leaf_reg': 1.5919673230478422, 'one_hot_max_size': 100, 'auto_class_weights': 'SqrtBalanced'}. Best is trial 20 with value: 0.8632525599676019.\n"
          ]
        },
        {
          "output_type": "stream",
          "name": "stdout",
          "text": [
            "\n",
            "bestTest = 0.4993119383\n",
            "bestIteration = 1199\n",
            "\n",
            "Training on fold [0/5]\n",
            "\n",
            "bestTest = 0.465801859\n",
            "bestIteration = 747\n",
            "\n",
            "Training on fold [1/5]\n",
            "\n",
            "bestTest = 0.4655102854\n",
            "bestIteration = 708\n",
            "\n",
            "Training on fold [2/5]\n",
            "\n",
            "bestTest = 0.4534267414\n",
            "bestIteration = 715\n",
            "\n",
            "Training on fold [3/5]\n",
            "\n",
            "bestTest = 0.4653972796\n",
            "bestIteration = 699\n",
            "\n",
            "Training on fold [4/5]\n"
          ]
        },
        {
          "output_type": "stream",
          "name": "stderr",
          "text": [
            "[I 2024-06-17 12:44:03,037] Trial 71 finished with value: 0.8630718537233216 and parameters: {'iterations': 1200, 'learning_rate': 0.02383527818260917, 'random_strength': 9, 'bagging_temperature': 6, 'max_bin': 6, 'grow_policy': 'Lossguide', 'min_data_in_leaf': 2, 'max_depth': 8, 'l2_leaf_reg': 96.85828122265345, 'one_hot_max_size': 100, 'auto_class_weights': 'SqrtBalanced'}. Best is trial 20 with value: 0.8632525599676019.\n"
          ]
        },
        {
          "output_type": "stream",
          "name": "stdout",
          "text": [
            "\n",
            "bestTest = 0.4634718356\n",
            "bestIteration = 697\n",
            "\n",
            "Training on fold [0/5]\n",
            "\n",
            "bestTest = 0.4662945435\n",
            "bestIteration = 1199\n",
            "\n",
            "Training on fold [1/5]\n",
            "\n",
            "bestTest = 0.4663600896\n",
            "bestIteration = 1199\n",
            "\n",
            "Training on fold [2/5]\n",
            "\n",
            "bestTest = 0.4537265705\n",
            "bestIteration = 1199\n",
            "\n",
            "Training on fold [3/5]\n",
            "\n",
            "bestTest = 0.4674812605\n",
            "bestIteration = 1199\n",
            "\n",
            "Training on fold [4/5]\n"
          ]
        },
        {
          "output_type": "stream",
          "name": "stderr",
          "text": [
            "[I 2024-06-17 12:45:50,088] Trial 72 finished with value: 0.8626378412457459 and parameters: {'iterations': 1200, 'learning_rate': 0.012341118467627062, 'random_strength': 9, 'bagging_temperature': 6, 'max_bin': 6, 'grow_policy': 'Lossguide', 'min_data_in_leaf': 2, 'max_depth': 9, 'l2_leaf_reg': 95.62836167976089, 'one_hot_max_size': 100, 'auto_class_weights': 'SqrtBalanced'}. Best is trial 20 with value: 0.8632525599676019.\n"
          ]
        },
        {
          "output_type": "stream",
          "name": "stdout",
          "text": [
            "\n",
            "bestTest = 0.4652984337\n",
            "bestIteration = 1199\n",
            "\n",
            "Training on fold [0/5]\n",
            "\n",
            "bestTest = 0.467680812\n",
            "bestIteration = 374\n",
            "\n",
            "Training on fold [1/5]\n",
            "\n",
            "bestTest = 0.4671412875\n",
            "bestIteration = 390\n",
            "\n",
            "Training on fold [2/5]\n",
            "\n",
            "bestTest = 0.4528055329\n",
            "bestIteration = 388\n",
            "\n",
            "Training on fold [3/5]\n",
            "\n",
            "bestTest = 0.4661986415\n",
            "bestIteration = 378\n",
            "\n",
            "Training on fold [4/5]\n"
          ]
        },
        {
          "output_type": "stream",
          "name": "stderr",
          "text": [
            "[I 2024-06-17 12:46:24,315] Trial 73 finished with value: 0.8624220342101031 and parameters: {'iterations': 1200, 'learning_rate': 0.040893324883144795, 'random_strength': 8, 'bagging_temperature': 7, 'max_bin': 6, 'grow_policy': 'Lossguide', 'min_data_in_leaf': 3, 'max_depth': 10, 'l2_leaf_reg': 27.808707990697524, 'one_hot_max_size': 100, 'auto_class_weights': 'SqrtBalanced'}. Best is trial 20 with value: 0.8632525599676019.\n"
          ]
        },
        {
          "output_type": "stream",
          "name": "stdout",
          "text": [
            "\n",
            "bestTest = 0.4638890632\n",
            "bestIteration = 371\n",
            "\n",
            "Training on fold [0/5]\n",
            "\n",
            "bestTest = 0.4661804094\n",
            "bestIteration = 649\n",
            "\n",
            "Training on fold [1/5]\n",
            "\n",
            "bestTest = 0.466165316\n",
            "bestIteration = 788\n",
            "\n",
            "Training on fold [2/5]\n",
            "\n",
            "bestTest = 0.4536110329\n",
            "bestIteration = 767\n",
            "\n",
            "Training on fold [3/5]\n",
            "\n",
            "bestTest = 0.4657708959\n",
            "bestIteration = 795\n",
            "\n",
            "Training on fold [4/5]\n"
          ]
        },
        {
          "output_type": "stream",
          "name": "stderr",
          "text": [
            "[I 2024-06-17 12:47:29,453] Trial 74 finished with value: 0.8628267630630411 and parameters: {'iterations': 1200, 'learning_rate': 0.022705855786612578, 'random_strength': 10, 'bagging_temperature': 5, 'max_bin': 6, 'grow_policy': 'Lossguide', 'min_data_in_leaf': 1, 'max_depth': 6, 'l2_leaf_reg': 54.468426387217605, 'one_hot_max_size': 100, 'auto_class_weights': 'SqrtBalanced'}. Best is trial 20 with value: 0.8632525599676019.\n"
          ]
        },
        {
          "output_type": "stream",
          "name": "stdout",
          "text": [
            "\n",
            "bestTest = 0.4641291597\n",
            "bestIteration = 705\n",
            "\n",
            "Training on fold [0/5]\n",
            "\n",
            "bestTest = 0.4975082951\n",
            "bestIteration = 199\n",
            "\n",
            "Training on fold [1/5]\n",
            "\n",
            "bestTest = 0.4960152524\n",
            "bestIteration = 199\n",
            "\n",
            "Training on fold [2/5]\n",
            "\n",
            "bestTest = 0.4883416889\n",
            "bestIteration = 199\n",
            "\n",
            "Training on fold [3/5]\n",
            "\n",
            "bestTest = 0.4966007783\n",
            "bestIteration = 199\n",
            "\n",
            "Training on fold [4/5]\n"
          ]
        },
        {
          "output_type": "stream",
          "name": "stderr",
          "text": [
            "[I 2024-06-17 12:47:47,528] Trial 75 finished with value: 0.8506568632621555 and parameters: {'iterations': 200, 'learning_rate': 0.023058063312917078, 'random_strength': 10, 'bagging_temperature': 7, 'max_bin': 10, 'grow_policy': 'Lossguide', 'min_data_in_leaf': 1, 'max_depth': 6, 'l2_leaf_reg': 13.509760359061719, 'one_hot_max_size': 100, 'auto_class_weights': 'SqrtBalanced'}. Best is trial 20 with value: 0.8632525599676019.\n"
          ]
        },
        {
          "output_type": "stream",
          "name": "stdout",
          "text": [
            "\n",
            "bestTest = 0.4951682912\n",
            "bestIteration = 199\n",
            "\n",
            "Training on fold [0/5]\n",
            "\n",
            "bestTest = 0.4656905196\n",
            "bestIteration = 296\n",
            "\n",
            "Training on fold [1/5]\n",
            "\n",
            "bestTest = 0.4671306628\n",
            "bestIteration = 300\n",
            "\n",
            "Training on fold [2/5]\n",
            "\n",
            "bestTest = 0.4531934974\n",
            "bestIteration = 327\n",
            "\n",
            "Training on fold [3/5]\n",
            "\n",
            "bestTest = 0.4664360742\n",
            "bestIteration = 348\n",
            "\n",
            "Training on fold [4/5]\n"
          ]
        },
        {
          "output_type": "stream",
          "name": "stderr",
          "text": [
            "[I 2024-06-17 12:48:16,185] Trial 76 finished with value: 0.8626914247107085 and parameters: {'iterations': 1200, 'learning_rate': 0.05289994192729316, 'random_strength': 10, 'bagging_temperature': 10, 'max_bin': 6, 'grow_policy': 'Lossguide', 'min_data_in_leaf': 1, 'max_depth': 6, 'l2_leaf_reg': 32.7805922522276, 'one_hot_max_size': 500, 'auto_class_weights': 'SqrtBalanced'}. Best is trial 20 with value: 0.8632525599676019.\n"
          ]
        },
        {
          "output_type": "stream",
          "name": "stdout",
          "text": [
            "\n",
            "bestTest = 0.4635085981\n",
            "bestIteration = 331\n",
            "\n",
            "Training on fold [0/5]\n",
            "\n",
            "bestTest = 0.4657861959\n",
            "bestIteration = 430\n",
            "\n",
            "Training on fold [1/5]\n",
            "\n",
            "bestTest = 0.467415726\n",
            "bestIteration = 439\n",
            "\n",
            "Training on fold [2/5]\n",
            "\n",
            "bestTest = 0.4548331992\n",
            "bestIteration = 446\n",
            "\n",
            "Training on fold [3/5]\n",
            "\n",
            "bestTest = 0.4663235007\n",
            "bestIteration = 421\n",
            "\n",
            "Training on fold [4/5]\n"
          ]
        },
        {
          "output_type": "stream",
          "name": "stderr",
          "text": [
            "[I 2024-06-17 12:49:32,322] Trial 77 finished with value: 0.8624261421951296 and parameters: {'iterations': 1000, 'learning_rate': 0.03575566412079577, 'random_strength': 10, 'bagging_temperature': 8, 'max_bin': 6, 'grow_policy': 'Lossguide', 'min_data_in_leaf': 1, 'max_depth': 6, 'l2_leaf_reg': 5.368301708258678, 'one_hot_max_size': 5, 'auto_class_weights': 'SqrtBalanced'}. Best is trial 20 with value: 0.8632525599676019.\n"
          ]
        },
        {
          "output_type": "stream",
          "name": "stdout",
          "text": [
            "\n",
            "bestTest = 0.4639964586\n",
            "bestIteration = 480\n",
            "\n",
            "Training on fold [0/5]\n",
            "\n",
            "bestTest = 0.4649451632\n",
            "bestIteration = 540\n",
            "\n",
            "Training on fold [1/5]\n",
            "\n",
            "bestTest = 0.4666680205\n",
            "bestIteration = 516\n",
            "\n",
            "Training on fold [2/5]\n",
            "\n",
            "bestTest = 0.4549050071\n",
            "bestIteration = 549\n",
            "\n",
            "Training on fold [3/5]\n",
            "\n",
            "bestTest = 0.4664398742\n",
            "bestIteration = 614\n",
            "\n",
            "Training on fold [4/5]\n"
          ]
        },
        {
          "output_type": "stream",
          "name": "stderr",
          "text": [
            "[I 2024-06-17 12:50:15,813] Trial 78 finished with value: 0.8628254296776516 and parameters: {'iterations': 1200, 'learning_rate': 0.027342435084526308, 'random_strength': 4, 'bagging_temperature': 6, 'max_bin': 5, 'grow_policy': 'Lossguide', 'min_data_in_leaf': 2, 'max_depth': 5, 'l2_leaf_reg': 22.51094017672503, 'one_hot_max_size': 100, 'auto_class_weights': 'Balanced'}. Best is trial 20 with value: 0.8632525599676019.\n"
          ]
        },
        {
          "output_type": "stream",
          "name": "stdout",
          "text": [
            "\n",
            "bestTest = 0.4657437378\n",
            "bestIteration = 481\n",
            "\n",
            "Training on fold [0/5]\n",
            "\n",
            "bestTest = 0.5307571589\n",
            "bestIteration = 99\n",
            "\n",
            "Training on fold [1/5]\n",
            "\n",
            "bestTest = 0.5334823235\n",
            "bestIteration = 99\n",
            "\n",
            "Training on fold [2/5]\n",
            "\n",
            "bestTest = 0.5277992304\n",
            "bestIteration = 99\n",
            "\n",
            "Training on fold [3/5]\n",
            "\n",
            "bestTest = 0.5328766776\n",
            "bestIteration = 99\n",
            "\n",
            "Training on fold [4/5]\n"
          ]
        },
        {
          "output_type": "stream",
          "name": "stderr",
          "text": [
            "[I 2024-06-17 12:50:25,175] Trial 79 finished with value: 0.8398948840682612 and parameters: {'iterations': 100, 'learning_rate': 0.01902048577472067, 'random_strength': 9, 'bagging_temperature': 2, 'max_bin': 30, 'grow_policy': 'Lossguide', 'min_data_in_leaf': 7, 'max_depth': 7, 'l2_leaf_reg': 0.0024181420745483934, 'one_hot_max_size': 100, 'auto_class_weights': 'SqrtBalanced'}. Best is trial 20 with value: 0.8632525599676019.\n"
          ]
        },
        {
          "output_type": "stream",
          "name": "stdout",
          "text": [
            "\n",
            "bestTest = 0.5313161188\n",
            "bestIteration = 99\n",
            "\n",
            "Training on fold [0/5]\n",
            "\n",
            "bestTest = 0.4641774583\n",
            "bestIteration = 371\n",
            "\n",
            "Training on fold [1/5]\n",
            "\n",
            "bestTest = 0.4664905647\n",
            "bestIteration = 355\n",
            "\n",
            "Training on fold [2/5]\n",
            "\n",
            "bestTest = 0.4538853997\n",
            "bestIteration = 325\n",
            "\n",
            "Training on fold [3/5]\n",
            "\n",
            "bestTest = 0.4655875861\n",
            "bestIteration = 331\n",
            "\n",
            "Training on fold [4/5]\n"
          ]
        },
        {
          "output_type": "stream",
          "name": "stderr",
          "text": [
            "[I 2024-06-17 12:51:21,328] Trial 80 finished with value: 0.8632069118000306 and parameters: {'iterations': 1000, 'learning_rate': 0.048748306411023984, 'random_strength': 5, 'bagging_temperature': 3, 'max_bin': 6, 'grow_policy': 'Lossguide', 'min_data_in_leaf': 1, 'max_depth': 5, 'l2_leaf_reg': 50.642834829510605, 'one_hot_max_size': 12, 'auto_class_weights': 'SqrtBalanced'}. Best is trial 20 with value: 0.8632525599676019.\n"
          ]
        },
        {
          "output_type": "stream",
          "name": "stdout",
          "text": [
            "\n",
            "bestTest = 0.4620938315\n",
            "bestIteration = 435\n",
            "\n",
            "Training on fold [0/5]\n",
            "\n",
            "bestTest = 0.4666928702\n",
            "bestIteration = 506\n",
            "\n",
            "Training on fold [1/5]\n",
            "\n",
            "bestTest = 0.4691247277\n",
            "bestIteration = 402\n",
            "\n",
            "Training on fold [2/5]\n",
            "\n",
            "bestTest = 0.4547781562\n",
            "bestIteration = 467\n",
            "\n",
            "Training on fold [3/5]\n",
            "\n",
            "bestTest = 0.4685459568\n",
            "bestIteration = 513\n",
            "\n",
            "Training on fold [4/5]\n"
          ]
        },
        {
          "output_type": "stream",
          "name": "stderr",
          "text": [
            "[I 2024-06-17 12:52:11,854] Trial 81 finished with value: 0.8618938114374689 and parameters: {'iterations': 1000, 'learning_rate': 0.04443703175214092, 'random_strength': 5, 'bagging_temperature': 5, 'max_bin': 6, 'grow_policy': 'Lossguide', 'min_data_in_leaf': 1, 'max_depth': 3, 'l2_leaf_reg': 52.486148193433166, 'one_hot_max_size': 12, 'auto_class_weights': 'SqrtBalanced'}. Best is trial 20 with value: 0.8632525599676019.\n"
          ]
        },
        {
          "output_type": "stream",
          "name": "stdout",
          "text": [
            "\n",
            "bestTest = 0.4649723993\n",
            "bestIteration = 417\n",
            "\n",
            "Training on fold [0/5]\n",
            "\n",
            "bestTest = 0.4655524387\n",
            "bestIteration = 423\n",
            "\n",
            "Training on fold [1/5]\n",
            "\n",
            "bestTest = 0.4689637063\n",
            "bestIteration = 426\n",
            "\n",
            "Training on fold [2/5]\n",
            "\n",
            "bestTest = 0.4567357866\n",
            "bestIteration = 419\n",
            "\n",
            "Training on fold [3/5]\n",
            "\n",
            "bestTest = 0.4697883213\n",
            "bestIteration = 457\n",
            "\n",
            "Training on fold [4/5]\n"
          ]
        },
        {
          "output_type": "stream",
          "name": "stderr",
          "text": [
            "[I 2024-06-17 12:53:18,706] Trial 82 finished with value: 0.8613319874853674 and parameters: {'iterations': 1000, 'learning_rate': 0.03315730486412741, 'random_strength': 6, 'bagging_temperature': 3, 'max_bin': 6, 'grow_policy': 'Lossguide', 'min_data_in_leaf': 1, 'max_depth': 5, 'l2_leaf_reg': 0.0008889236391223016, 'one_hot_max_size': 12, 'auto_class_weights': 'SqrtBalanced'}. Best is trial 20 with value: 0.8632525599676019.\n"
          ]
        },
        {
          "output_type": "stream",
          "name": "stdout",
          "text": [
            "\n",
            "bestTest = 0.4659699997\n",
            "bestIteration = 438\n",
            "\n",
            "Training on fold [0/5]\n",
            "\n",
            "bestTest = 0.4659081742\n",
            "bestIteration = 258\n",
            "\n",
            "Training on fold [1/5]\n",
            "\n",
            "bestTest = 0.4684086208\n",
            "bestIteration = 238\n",
            "\n",
            "Training on fold [2/5]\n",
            "\n",
            "bestTest = 0.4546212698\n",
            "bestIteration = 270\n",
            "\n",
            "Training on fold [3/5]\n",
            "\n",
            "bestTest = 0.4666164897\n",
            "bestIteration = 373\n",
            "\n",
            "Training on fold [4/5]\n"
          ]
        },
        {
          "output_type": "stream",
          "name": "stderr",
          "text": [
            "[I 2024-06-17 12:53:56,585] Trial 83 finished with value: 0.8622275479075775 and parameters: {'iterations': 1000, 'learning_rate': 0.07132617685682549, 'random_strength': 5, 'bagging_temperature': 3, 'max_bin': 6, 'grow_policy': 'Lossguide', 'min_data_in_leaf': 2, 'max_depth': 4, 'l2_leaf_reg': 95.19687633935044, 'one_hot_max_size': 12, 'auto_class_weights': 'SqrtBalanced'}. Best is trial 20 with value: 0.8632525599676019.\n"
          ]
        },
        {
          "output_type": "stream",
          "name": "stdout",
          "text": [
            "\n",
            "bestTest = 0.4635716726\n",
            "bestIteration = 305\n",
            "\n",
            "Training on fold [0/5]\n",
            "\n",
            "bestTest = 0.4644653104\n",
            "bestIteration = 339\n",
            "\n",
            "Training on fold [1/5]\n",
            "\n",
            "bestTest = 0.465864391\n",
            "bestIteration = 303\n",
            "\n",
            "Training on fold [2/5]\n",
            "\n",
            "bestTest = 0.454201042\n",
            "bestIteration = 272\n",
            "\n",
            "Training on fold [3/5]\n",
            "\n",
            "bestTest = 0.4665107524\n",
            "bestIteration = 290\n",
            "\n",
            "Training on fold [4/5]\n"
          ]
        },
        {
          "output_type": "stream",
          "name": "stderr",
          "text": [
            "[I 2024-06-17 12:54:35,708] Trial 84 finished with value: 0.862617704744139 and parameters: {'iterations': 1000, 'learning_rate': 0.06224641174895647, 'random_strength': 4, 'bagging_temperature': 4, 'max_bin': 6, 'grow_policy': 'Lossguide', 'min_data_in_leaf': 1, 'max_depth': 4, 'l2_leaf_reg': 8.23742158754364, 'one_hot_max_size': 12, 'auto_class_weights': 'SqrtBalanced'}. Best is trial 20 with value: 0.8632525599676019.\n"
          ]
        },
        {
          "output_type": "stream",
          "name": "stdout",
          "text": [
            "\n",
            "bestTest = 0.4653337677\n",
            "bestIteration = 270\n",
            "\n",
            "Training on fold [0/5]\n",
            "\n",
            "bestTest = 0.4710413445\n",
            "bestIteration = 1199\n",
            "\n",
            "Training on fold [1/5]\n",
            "\n",
            "bestTest = 0.4703755487\n",
            "bestIteration = 1199\n",
            "\n",
            "Training on fold [2/5]\n",
            "\n",
            "bestTest = 0.459610855\n",
            "bestIteration = 1199\n",
            "\n",
            "Training on fold [3/5]\n",
            "\n",
            "bestTest = 0.4715693147\n",
            "bestIteration = 1199\n",
            "\n",
            "Training on fold [4/5]\n"
          ]
        },
        {
          "output_type": "stream",
          "name": "stderr",
          "text": [
            "[I 2024-06-17 12:56:11,777] Trial 85 finished with value: 0.8605934996635105 and parameters: {'iterations': 1200, 'learning_rate': 0.009049981305863465, 'random_strength': 5, 'bagging_temperature': 9, 'max_bin': 20, 'grow_policy': 'Lossguide', 'min_data_in_leaf': 2, 'max_depth': 5, 'l2_leaf_reg': 33.4828326241028, 'one_hot_max_size': 100, 'auto_class_weights': 'SqrtBalanced'}. Best is trial 20 with value: 0.8632525599676019.\n"
          ]
        },
        {
          "output_type": "stream",
          "name": "stdout",
          "text": [
            "\n",
            "bestTest = 0.4690163616\n",
            "bestIteration = 1199\n",
            "\n",
            "Training on fold [0/5]\n",
            "\n",
            "bestTest = 0.4655090324\n",
            "bestIteration = 226\n",
            "\n",
            "Training on fold [1/5]\n",
            "\n",
            "bestTest = 0.4648527865\n",
            "bestIteration = 209\n",
            "\n",
            "Training on fold [2/5]\n",
            "\n",
            "bestTest = 0.4554826855\n",
            "bestIteration = 225\n",
            "\n",
            "Training on fold [3/5]\n",
            "\n",
            "bestTest = 0.4689372796\n",
            "bestIteration = 214\n",
            "\n",
            "Training on fold [4/5]\n"
          ]
        },
        {
          "output_type": "stream",
          "name": "stderr",
          "text": [
            "[I 2024-06-17 12:56:21,711] Trial 86 finished with value: 0.8624262392047066 and parameters: {'iterations': 300, 'learning_rate': 0.05084808763140622, 'random_strength': 1, 'bagging_temperature': 1, 'max_bin': 6, 'grow_policy': 'SymmetricTree', 'min_data_in_leaf': 1, 'max_depth': 7, 'l2_leaf_reg': 13.89911751986566, 'one_hot_max_size': 100, 'auto_class_weights': 'SqrtBalanced'}. Best is trial 20 with value: 0.8632525599676019.\n"
          ]
        },
        {
          "output_type": "stream",
          "name": "stdout",
          "text": [
            "\n",
            "bestTest = 0.4646923127\n",
            "bestIteration = 227\n",
            "\n",
            "Training on fold [0/5]\n",
            "\n",
            "bestTest = 0.4654401234\n",
            "bestIteration = 801\n",
            "\n",
            "Training on fold [1/5]\n",
            "\n",
            "bestTest = 0.4656439056\n",
            "bestIteration = 803\n",
            "\n",
            "Training on fold [2/5]\n",
            "\n",
            "bestTest = 0.4542942859\n",
            "bestIteration = 758\n",
            "\n",
            "Training on fold [3/5]\n",
            "\n",
            "bestTest = 0.4655339369\n",
            "bestIteration = 892\n",
            "\n",
            "Training on fold [4/5]\n"
          ]
        },
        {
          "output_type": "stream",
          "name": "stderr",
          "text": [
            "[I 2024-06-17 12:57:11,960] Trial 87 finished with value: 0.8629334013370912 and parameters: {'iterations': 1000, 'learning_rate': 0.020055496077333777, 'random_strength': 6, 'bagging_temperature': 2, 'max_bin': 6, 'grow_policy': 'Depthwise', 'min_data_in_leaf': 3, 'max_depth': 6, 'l2_leaf_reg': 66.56355085388805, 'one_hot_max_size': 1024, 'auto_class_weights': 'SqrtBalanced'}. Best is trial 20 with value: 0.8632525599676019.\n"
          ]
        },
        {
          "output_type": "stream",
          "name": "stdout",
          "text": [
            "\n",
            "bestTest = 0.4643433505\n",
            "bestIteration = 701\n",
            "\n",
            "Training on fold [0/5]\n",
            "\n",
            "bestTest = 0.4672872573\n",
            "bestIteration = 750\n",
            "\n",
            "Training on fold [1/5]\n",
            "\n",
            "bestTest = 0.4644850459\n",
            "bestIteration = 739\n",
            "\n",
            "Training on fold [2/5]\n",
            "\n",
            "bestTest = 0.4523988435\n",
            "bestIteration = 813\n",
            "\n",
            "Training on fold [3/5]\n",
            "\n",
            "bestTest = 0.4665274569\n",
            "bestIteration = 731\n",
            "\n",
            "Training on fold [4/5]\n"
          ]
        },
        {
          "output_type": "stream",
          "name": "stderr",
          "text": [
            "[I 2024-06-17 12:58:25,703] Trial 88 finished with value: 0.8630314598551738 and parameters: {'iterations': 1000, 'learning_rate': 0.018253539683087346, 'random_strength': 6, 'bagging_temperature': 2, 'max_bin': 6, 'grow_policy': 'Depthwise', 'min_data_in_leaf': 3, 'max_depth': 8, 'l2_leaf_reg': 30.64297447176037, 'one_hot_max_size': 1024, 'auto_class_weights': 'SqrtBalanced'}. Best is trial 20 with value: 0.8632525599676019.\n"
          ]
        },
        {
          "output_type": "stream",
          "name": "stdout",
          "text": [
            "\n",
            "bestTest = 0.4636002569\n",
            "bestIteration = 689\n",
            "\n",
            "Training on fold [0/5]\n",
            "\n",
            "bestTest = 0.5015772114\n",
            "bestIteration = 999\n",
            "\n",
            "Training on fold [1/5]\n",
            "\n",
            "bestTest = 0.5016802999\n",
            "bestIteration = 999\n",
            "\n",
            "Training on fold [2/5]\n",
            "\n",
            "bestTest = 0.495675218\n",
            "bestIteration = 999\n",
            "\n",
            "Training on fold [3/5]\n",
            "\n",
            "bestTest = 0.5020835202\n",
            "bestIteration = 999\n",
            "\n",
            "Training on fold [4/5]\n"
          ]
        },
        {
          "output_type": "stream",
          "name": "stderr",
          "text": [
            "[I 2024-06-17 13:00:13,015] Trial 89 finished with value: 0.8515664957308507 and parameters: {'iterations': 1000, 'learning_rate': 0.00236706344782198, 'random_strength': 6, 'bagging_temperature': 2, 'max_bin': 8, 'grow_policy': 'Depthwise', 'min_data_in_leaf': 3, 'max_depth': 8, 'l2_leaf_reg': 4.470884957594793, 'one_hot_max_size': 1024, 'auto_class_weights': 'SqrtBalanced'}. Best is trial 20 with value: 0.8632525599676019.\n"
          ]
        },
        {
          "output_type": "stream",
          "name": "stdout",
          "text": [
            "\n",
            "bestTest = 0.5006059047\n",
            "bestIteration = 999\n",
            "\n",
            "Training on fold [0/5]\n",
            "\n",
            "bestTest = 0.4661392756\n",
            "bestIteration = 731\n",
            "\n",
            "Training on fold [1/5]\n",
            "\n",
            "bestTest = 0.4703175437\n",
            "bestIteration = 516\n",
            "\n",
            "Training on fold [2/5]\n",
            "\n",
            "bestTest = 0.4545330532\n",
            "bestIteration = 699\n",
            "\n",
            "Training on fold [3/5]\n",
            "\n",
            "bestTest = 0.4685150268\n",
            "bestIteration = 739\n",
            "\n",
            "Training on fold [4/5]\n"
          ]
        },
        {
          "output_type": "stream",
          "name": "stderr",
          "text": [
            "[I 2024-06-17 13:01:20,564] Trial 90 finished with value: 0.8614822702093912 and parameters: {'iterations': 1000, 'learning_rate': 0.017475205894105467, 'random_strength': 6, 'bagging_temperature': 1, 'max_bin': 6, 'grow_policy': 'Depthwise', 'min_data_in_leaf': 3, 'max_depth': 8, 'l2_leaf_reg': 0.9172634945709709, 'one_hot_max_size': 1024, 'auto_class_weights': 'SqrtBalanced'}. Best is trial 20 with value: 0.8632525599676019.\n"
          ]
        },
        {
          "output_type": "stream",
          "name": "stdout",
          "text": [
            "\n",
            "bestTest = 0.4666974641\n",
            "bestIteration = 609\n",
            "\n",
            "Training on fold [0/5]\n",
            "\n",
            "bestTest = 0.4657300541\n",
            "bestIteration = 538\n",
            "\n",
            "Training on fold [1/5]\n",
            "\n",
            "bestTest = 0.4655773566\n",
            "bestIteration = 517\n",
            "\n",
            "Training on fold [2/5]\n",
            "\n",
            "bestTest = 0.4525729958\n",
            "bestIteration = 571\n",
            "\n",
            "Training on fold [3/5]\n",
            "\n",
            "bestTest = 0.4654962536\n",
            "bestIteration = 563\n",
            "\n",
            "Training on fold [4/5]\n"
          ]
        },
        {
          "output_type": "stream",
          "name": "stderr",
          "text": [
            "[I 2024-06-17 13:01:54,624] Trial 91 finished with value: 0.8630576391733408 and parameters: {'iterations': 1000, 'learning_rate': 0.030969880774268696, 'random_strength': 7, 'bagging_temperature': 2, 'max_bin': 6, 'grow_policy': 'Depthwise', 'min_data_in_leaf': 4, 'max_depth': 6, 'l2_leaf_reg': 27.85649996138091, 'one_hot_max_size': 1024, 'auto_class_weights': 'SqrtBalanced'}. Best is trial 20 with value: 0.8632525599676019.\n"
          ]
        },
        {
          "output_type": "stream",
          "name": "stdout",
          "text": [
            "\n",
            "bestTest = 0.4640963727\n",
            "bestIteration = 444\n",
            "\n",
            "Training on fold [0/5]\n",
            "\n",
            "bestTest = 0.46695733\n",
            "bestIteration = 443\n",
            "\n",
            "Training on fold [1/5]\n",
            "\n",
            "bestTest = 0.465053922\n",
            "bestIteration = 517\n",
            "\n",
            "Training on fold [2/5]\n",
            "\n",
            "bestTest = 0.4525250246\n",
            "bestIteration = 551\n",
            "\n",
            "Training on fold [3/5]\n",
            "\n",
            "bestTest = 0.4661350927\n",
            "bestIteration = 494\n",
            "\n",
            "Training on fold [4/5]\n"
          ]
        },
        {
          "output_type": "stream",
          "name": "stderr",
          "text": [
            "[I 2024-06-17 13:02:33,769] Trial 92 finished with value: 0.8627580952043784 and parameters: {'iterations': 1000, 'learning_rate': 0.030025778347171735, 'random_strength': 7, 'bagging_temperature': 2, 'max_bin': 6, 'grow_policy': 'Depthwise', 'min_data_in_leaf': 4, 'max_depth': 7, 'l2_leaf_reg': 30.753859773357743, 'one_hot_max_size': 1024, 'auto_class_weights': 'SqrtBalanced'}. Best is trial 20 with value: 0.8632525599676019.\n"
          ]
        },
        {
          "output_type": "stream",
          "name": "stdout",
          "text": [
            "\n",
            "bestTest = 0.4647063181\n",
            "bestIteration = 447\n",
            "\n",
            "Training on fold [0/5]\n",
            "\n",
            "bestTest = 0.4654620778\n",
            "bestIteration = 303\n",
            "\n",
            "Training on fold [1/5]\n",
            "\n",
            "bestTest = 0.4675390927\n",
            "bestIteration = 330\n",
            "\n",
            "Training on fold [2/5]\n",
            "\n",
            "bestTest = 0.4529672308\n",
            "bestIteration = 353\n",
            "\n",
            "Training on fold [3/5]\n",
            "\n",
            "bestTest = 0.467657319\n",
            "bestIteration = 332\n",
            "\n",
            "Training on fold [4/5]\n"
          ]
        },
        {
          "output_type": "stream",
          "name": "stderr",
          "text": [
            "[I 2024-06-17 13:03:06,007] Trial 93 finished with value: 0.8623077016406265 and parameters: {'iterations': 1000, 'learning_rate': 0.04306977328123491, 'random_strength': 6, 'bagging_temperature': 2, 'max_bin': 6, 'grow_policy': 'Depthwise', 'min_data_in_leaf': 4, 'max_depth': 8, 'l2_leaf_reg': 14.656407176006585, 'one_hot_max_size': 1024, 'auto_class_weights': 'SqrtBalanced'}. Best is trial 20 with value: 0.8632525599676019.\n"
          ]
        },
        {
          "output_type": "stream",
          "name": "stdout",
          "text": [
            "\n",
            "bestTest = 0.4642091665\n",
            "bestIteration = 304\n",
            "\n",
            "Training on fold [0/5]\n",
            "\n",
            "bestTest = 0.4687622754\n",
            "bestIteration = 80\n",
            "\n",
            "Training on fold [1/5]\n",
            "\n",
            "bestTest = 0.4725775824\n",
            "bestIteration = 90\n",
            "\n",
            "Training on fold [2/5]\n",
            "\n",
            "bestTest = 0.4550293653\n",
            "bestIteration = 92\n",
            "\n",
            "Training on fold [3/5]\n",
            "\n",
            "bestTest = 0.4691564761\n",
            "bestIteration = 94\n",
            "\n",
            "Training on fold [4/5]\n"
          ]
        },
        {
          "output_type": "stream",
          "name": "stderr",
          "text": [
            "[I 2024-06-17 13:03:13,111] Trial 94 finished with value: 0.8603622448452908 and parameters: {'iterations': 1000, 'learning_rate': 0.1855020534674532, 'random_strength': 7, 'bagging_temperature': 2, 'max_bin': 6, 'grow_policy': 'Depthwise', 'min_data_in_leaf': 3, 'max_depth': 6, 'l2_leaf_reg': 53.081067426350174, 'one_hot_max_size': 1024, 'auto_class_weights': 'SqrtBalanced'}. Best is trial 20 with value: 0.8632525599676019.\n"
          ]
        },
        {
          "output_type": "stream",
          "name": "stdout",
          "text": [
            "\n",
            "bestTest = 0.4669025554\n",
            "bestIteration = 86\n",
            "\n",
            "Training on fold [0/5]\n",
            "\n",
            "bestTest = 0.4745736716\n",
            "bestIteration = 262\n",
            "\n",
            "Training on fold [1/5]\n",
            "\n",
            "bestTest = 0.4789152505\n",
            "bestIteration = 233\n",
            "\n",
            "Training on fold [2/5]\n",
            "\n",
            "bestTest = 0.4653878295\n",
            "bestIteration = 307\n",
            "\n",
            "Training on fold [3/5]\n",
            "\n",
            "bestTest = 0.4757313971\n",
            "bestIteration = 234\n",
            "\n",
            "Training on fold [4/5]\n"
          ]
        },
        {
          "output_type": "stream",
          "name": "stderr",
          "text": [
            "[I 2024-06-17 13:03:56,276] Trial 95 finished with value: 0.856134181384087 and parameters: {'iterations': 1000, 'learning_rate': 0.022520482441989807, 'random_strength': 5, 'bagging_temperature': 1, 'max_bin': 10, 'grow_policy': 'Depthwise', 'min_data_in_leaf': 5, 'max_depth': 10, 'l2_leaf_reg': 0.005099242226736786, 'one_hot_max_size': 1024, 'auto_class_weights': 'SqrtBalanced'}. Best is trial 20 with value: 0.8632525599676019.\n"
          ]
        },
        {
          "output_type": "stream",
          "name": "stdout",
          "text": [
            "\n",
            "bestTest = 0.4735451429\n",
            "bestIteration = 245\n",
            "\n",
            "Training on fold [0/5]\n",
            "\n",
            "bestTest = 0.4739563443\n",
            "bestIteration = 999\n",
            "\n",
            "Training on fold [1/5]\n",
            "\n",
            "bestTest = 0.472626539\n",
            "bestIteration = 998\n",
            "\n",
            "Training on fold [2/5]\n",
            "\n",
            "bestTest = 0.462485467\n",
            "bestIteration = 999\n",
            "\n",
            "Training on fold [3/5]\n",
            "\n",
            "bestTest = 0.4734436351\n",
            "bestIteration = 998\n",
            "\n",
            "Training on fold [4/5]\n"
          ]
        },
        {
          "output_type": "stream",
          "name": "stderr",
          "text": [
            "[I 2024-06-17 13:05:16,170] Trial 96 finished with value: 0.8595885358965214 and parameters: {'iterations': 1000, 'learning_rate': 0.00844813805429557, 'random_strength': 6, 'bagging_temperature': 3, 'max_bin': 6, 'grow_policy': 'Depthwise', 'min_data_in_leaf': 4, 'max_depth': 7, 'l2_leaf_reg': 22.555604598611502, 'one_hot_max_size': 1024, 'auto_class_weights': 'SqrtBalanced'}. Best is trial 20 with value: 0.8632525599676019.\n"
          ]
        },
        {
          "output_type": "stream",
          "name": "stdout",
          "text": [
            "\n",
            "bestTest = 0.4709128024\n",
            "bestIteration = 999\n",
            "\n",
            "Training on fold [0/5]\n",
            "\n",
            "bestTest = 0.4726754987\n",
            "bestIteration = 303\n",
            "\n",
            "Training on fold [1/5]\n",
            "\n",
            "bestTest = 0.4698859926\n",
            "bestIteration = 375\n",
            "\n",
            "Training on fold [2/5]\n",
            "\n",
            "bestTest = 0.4576274037\n",
            "bestIteration = 403\n",
            "\n",
            "Training on fold [3/5]\n",
            "\n",
            "bestTest = 0.4721715593\n",
            "bestIteration = 371\n",
            "\n",
            "Training on fold [4/5]\n"
          ]
        },
        {
          "output_type": "stream",
          "name": "stderr",
          "text": [
            "[I 2024-06-17 13:05:36,375] Trial 97 finished with value: 0.8598371063287169 and parameters: {'iterations': 1000, 'learning_rate': 0.0347938498387563, 'random_strength': 5, 'bagging_temperature': 2, 'max_bin': 6, 'grow_policy': 'Depthwise', 'min_data_in_leaf': 3, 'max_depth': 5, 'l2_leaf_reg': 0.0001677601918448841, 'one_hot_max_size': 1024, 'auto_class_weights': 'Balanced'}. Best is trial 20 with value: 0.8632525599676019.\n"
          ]
        },
        {
          "output_type": "stream",
          "name": "stdout",
          "text": [
            "\n",
            "bestTest = 0.4703953184\n",
            "bestIteration = 341\n",
            "\n",
            "Training on fold [0/5]\n",
            "\n",
            "bestTest = 0.4651468791\n",
            "bestIteration = 802\n",
            "\n",
            "Training on fold [1/5]\n",
            "\n",
            "bestTest = 0.4686496924\n",
            "bestIteration = 631\n",
            "\n",
            "Training on fold [2/5]\n",
            "\n",
            "bestTest = 0.4531233823\n",
            "bestIteration = 774\n",
            "\n",
            "Training on fold [3/5]\n",
            "\n",
            "bestTest = 0.4684924663\n",
            "bestIteration = 717\n",
            "\n",
            "Training on fold [4/5]\n"
          ]
        },
        {
          "output_type": "stream",
          "name": "stderr",
          "text": [
            "[I 2024-06-17 13:06:51,801] Trial 98 finished with value: 0.861961974297094 and parameters: {'iterations': 1000, 'learning_rate': 0.017937678981822896, 'random_strength': 7, 'bagging_temperature': 3, 'max_bin': 4, 'grow_policy': 'Depthwise', 'min_data_in_leaf': 3, 'max_depth': 8, 'l2_leaf_reg': 8.359121620401764, 'one_hot_max_size': 1024, 'auto_class_weights': 'SqrtBalanced'}. Best is trial 20 with value: 0.8632525599676019.\n"
          ]
        },
        {
          "output_type": "stream",
          "name": "stdout",
          "text": [
            "\n",
            "bestTest = 0.4663881585\n",
            "bestIteration = 618\n",
            "\n",
            "Training on fold [0/5]\n",
            "\n",
            "bestTest = 0.4647346334\n",
            "bestIteration = 416\n",
            "\n",
            "Training on fold [1/5]\n",
            "\n",
            "bestTest = 0.4663723103\n",
            "bestIteration = 455\n",
            "\n",
            "Training on fold [2/5]\n",
            "\n",
            "bestTest = 0.4540586343\n",
            "bestIteration = 451\n",
            "\n",
            "Training on fold [3/5]\n",
            "\n",
            "bestTest = 0.4646720583\n",
            "bestIteration = 505\n",
            "\n",
            "Training on fold [4/5]\n"
          ]
        },
        {
          "output_type": "stream",
          "name": "stderr",
          "text": [
            "[I 2024-06-17 13:07:22,340] Trial 99 finished with value: 0.8631640075940104 and parameters: {'iterations': 1000, 'learning_rate': 0.0266398285717512, 'random_strength': 2, 'bagging_temperature': 2, 'max_bin': 6, 'grow_policy': 'Depthwise', 'min_data_in_leaf': 2, 'max_depth': 6, 'l2_leaf_reg': 2.327663925512399, 'one_hot_max_size': 1024, 'auto_class_weights': 'SqrtBalanced'}. Best is trial 20 with value: 0.8632525599676019.\n"
          ]
        },
        {
          "output_type": "stream",
          "name": "stdout",
          "text": [
            "\n",
            "bestTest = 0.4624359763\n",
            "bestIteration = 421\n",
            "\n"
          ]
        }
      ]
    },
    {
      "cell_type": "code",
      "source": [
        "print(\"Number of finished trials: {}\".format(len(study2.trials)))\n",
        "print(\"Best trial:\")\n",
        "trial2 = study2.best_trial\n",
        "print(\"  Value: {}\".format(trial2.value))\n",
        "print(\"  Params: \")\n",
        "for key, value in trial2.params.items():\n",
        "    print(\"    {}={},\".format(key, value))"
      ],
      "metadata": {
        "colab": {
          "base_uri": "https://localhost:8080/"
        },
        "id": "Rsxs9Cf15ZFB",
        "outputId": "d8997b77-76a9-464a-f477-6c3b6d592475"
      },
      "execution_count": 30,
      "outputs": [
        {
          "output_type": "stream",
          "name": "stdout",
          "text": [
            "Number of finished trials: 100\n",
            "Best trial:\n",
            "  Value: 0.8632525599676019\n",
            "  Params: \n",
            "    iterations=1200,\n",
            "    learning_rate=0.04383949055596011,\n",
            "    random_strength=7,\n",
            "    bagging_temperature=8,\n",
            "    max_bin=6,\n",
            "    grow_policy=Lossguide,\n",
            "    min_data_in_leaf=2,\n",
            "    max_depth=6,\n",
            "    l2_leaf_reg=83.53611027321875,\n",
            "    one_hot_max_size=100,\n",
            "    auto_class_weights=SqrtBalanced,\n"
          ]
        }
      ]
    },
    {
      "cell_type": "code",
      "source": [
        "final_model_se = CatBoostClassifier(verbose=False,  cat_features=categorical_features_indices,\n",
        "                                    **trial2.params)"
      ],
      "metadata": {
        "id": "WM3IFmVq5dnl"
      },
      "execution_count": 31,
      "outputs": []
    },
    {
      "cell_type": "code",
      "source": [
        "final_model_se.fit(X_train, y_train.seasonal_vaccine)"
      ],
      "metadata": {
        "colab": {
          "base_uri": "https://localhost:8080/"
        },
        "id": "dgol6OkY5ha3",
        "outputId": "239213d3-1d01-40c5-d596-1f6ae9a872fc"
      },
      "execution_count": 32,
      "outputs": [
        {
          "output_type": "execute_result",
          "data": {
            "text/plain": [
              "<catboost.core.CatBoostClassifier at 0x787c492450c0>"
            ]
          },
          "metadata": {},
          "execution_count": 32
        }
      ]
    },
    {
      "cell_type": "code",
      "source": [
        "predictions_se = final_model_se.predict_proba(X_test)"
      ],
      "metadata": {
        "id": "b5xgJuPJ5kAn"
      },
      "execution_count": 33,
      "outputs": []
    },
    {
      "cell_type": "code",
      "source": [
        "predictions_se = predictions_se[:,1].reshape(-1,1)"
      ],
      "metadata": {
        "id": "f6q8KG_15mrg"
      },
      "execution_count": 34,
      "outputs": []
    },
    {
      "cell_type": "code",
      "source": [
        "fig, ax = plt.subplots(1, 1, figsize=(10, 8))\n",
        "plot_roc(\n",
        "    y_test['seasonal_vaccine'],\n",
        "    predictions_se,\n",
        "    'seasonal_vaccine',\n",
        "    ax=ax\n",
        ")"
      ],
      "metadata": {
        "colab": {
          "base_uri": "https://localhost:8080/",
          "height": 630
        },
        "id": "T1MkfHyE5po8",
        "outputId": "9f642f81-4dec-46c9-86c0-26a2c795f62d"
      },
      "execution_count": 35,
      "outputs": [
        {
          "output_type": "display_data",
          "data": {
            "text/plain": [
              "<Figure size 1000x800 with 1 Axes>"
            ],
            "image/png": "[encoded data removed]"
          },
          "metadata": {}
        }
      ]
    },
    {
      "cell_type": "code",
      "source": [
        "roc_auc_score(y_test.seasonal_vaccine, predictions_se)"
      ],
      "metadata": {
        "colab": {
          "base_uri": "https://localhost:8080/"
        },
        "id": "nvki-3UD5sNf",
        "outputId": "1e53265b-1f8f-4373-b2dd-43895452a9c3"
      },
      "execution_count": 36,
      "outputs": [
        {
          "output_type": "execute_result",
          "data": {
            "text/plain": [
              "0.8600556441577139"
            ]
          },
          "metadata": {},
          "execution_count": 36
        }
      ]
    },
    {
      "cell_type": "code",
      "source": [
        "roc_auc_score(y_test, np.hstack((predictions_xyz, predictions_se)))"
      ],
      "metadata": {
        "colab": {
          "base_uri": "https://localhost:8080/"
        },
        "id": "KIXEE_B95uvs",
        "outputId": "11036659-8bf4-4bfb-9293-e0c7ecb46018"
      },
      "execution_count": 37,
      "outputs": [
        {
          "output_type": "execute_result",
          "data": {
            "text/plain": [
              "0.8646930335407647"
            ]
          },
          "metadata": {},
          "execution_count": 37
        }
      ]
    },
    {
      "cell_type": "code",
      "source": [
        "final_model_se.fit(train, labels.seasonal_vaccine)"
      ],
      "metadata": {
        "colab": {
          "base_uri": "https://localhost:8080/"
        },
        "id": "qCnPwldz5zLm",
        "outputId": "206b7ea8-84c3-4f02-eb65-cec0bc4efef3"
      },
      "execution_count": 38,
      "outputs": [
        {
          "output_type": "execute_result",
          "data": {
            "text/plain": [
              "<catboost.core.CatBoostClassifier at 0x787c492450c0>"
            ]
          },
          "metadata": {},
          "execution_count": 38
        }
      ]
    },
    {
      "cell_type": "code",
      "source": [
        "final_se = final_model_se.predict_proba(test)"
      ],
      "metadata": {
        "id": "nuGqSN7T537t"
      },
      "execution_count": 39,
      "outputs": []
    },
    {
      "cell_type": "code",
      "source": [
        "final_se = final_se[:,1].reshape(-1,1)"
      ],
      "metadata": {
        "id": "RPj_Xb8E57GU"
      },
      "execution_count": 40,
      "outputs": []
    },
    {
      "cell_type": "code",
      "source": [
        "final_model.fit(train, labels.xyz_vaccine)"
      ],
      "metadata": {
        "colab": {
          "base_uri": "https://localhost:8080/"
        },
        "id": "DzNaA-1359zR",
        "outputId": "0ed5eec7-b97f-40a1-9e56-30440561436e"
      },
      "execution_count": 41,
      "outputs": [
        {
          "output_type": "execute_result",
          "data": {
            "text/plain": [
              "<catboost.core.CatBoostClassifier at 0x787c4944cd60>"
            ]
          },
          "metadata": {},
          "execution_count": 41
        }
      ]
    },
    {
      "cell_type": "code",
      "source": [
        "final_xyz = final_model.predict_proba(test)"
      ],
      "metadata": {
        "id": "bXxlUk4_6B-W"
      },
      "execution_count": 42,
      "outputs": []
    },
    {
      "cell_type": "code",
      "source": [
        "final_xyz= final_xyz[:,1].reshape(-1,1)"
      ],
      "metadata": {
        "id": "zHqy5Tyx6F00"
      },
      "execution_count": 43,
      "outputs": []
    },
    {
      "cell_type": "code",
      "source": [
        "submission_df = pd.read_csv(\"./submission_format.csv\",\n",
        "                            index_col=\"respondent_id\")"
      ],
      "metadata": {
        "id": "Y_oBlJxW6Mru"
      },
      "execution_count": 44,
      "outputs": []
    },
    {
      "cell_type": "code",
      "source": [
        "np.testing.assert_array_equal(test.index.values,\n",
        "                              submission_df.index.values)\n",
        "\n",
        "\n",
        "submission_df[\"xyz_vaccine\"] = final_xyz\n",
        "submission_df[\"seasonal_vaccine\"] = final_se\n",
        "\n",
        "submission_df.head()"
      ],
      "metadata": {
        "colab": {
          "base_uri": "https://localhost:8080/",
          "height": 237
        },
        "id": "WZQevwLk6R3p",
        "outputId": "b37319cb-f06c-47fa-e738-e97fa5b4e9ab"
      },
      "execution_count": 45,
      "outputs": [
        {
          "output_type": "execute_result",
          "data": {
            "text/plain": [
              "               h1n1_vaccine  seasonal_vaccine  xyz_vaccine\n",
              "respondent_id                                             \n",
              "26707                   0.5          0.214590     0.161993\n",
              "26708                   0.5          0.035344     0.054619\n",
              "26709                   0.5          0.756582     0.299887\n",
              "26710                   0.5          0.892578     0.817990\n",
              "26711                   0.5          0.365941     0.396131"
            ],
            "text/html": [
              "\n",
              "  <div id=\"df-478d36d4-34bd-47ac-a1e5-4de74815b3a9\" class=\"colab-df-container\">\n",
              "    <div>\n",
              "<style scoped>\n",
              "    .dataframe tbody tr th:only-of-type {\n",
              "        vertical-align: middle;\n",
              "    }\n",
              "\n",
              "    .dataframe tbody tr th {\n",
              "        vertical-align: top;\n",
              "    }\n",
              "\n",
              "    .dataframe thead th {\n",
              "        text-align: right;\n",
              "    }\n",
              "</style>\n",
              "<table border=\"1\" class=\"dataframe\">\n",
              "  <thead>\n",
              "    <tr style=\"text-align: right;\">\n",
              "      <th></th>\n",
              "      <th>h1n1_vaccine</th>\n",
              "      <th>seasonal_vaccine</th>\n",
              "      <th>xyz_vaccine</th>\n",
              "    </tr>\n",
              "    <tr>\n",
              "      <th>respondent_id</th>\n",
              "      <th></th>\n",
              "      <th></th>\n",
              "      <th></th>\n",
              "    </tr>\n",
              "  </thead>\n",
              "  <tbody>\n",
              "    <tr>\n",
              "      <th>26707</th>\n",
              "      <td>0.5</td>\n",
              "      <td>0.214590</td>\n",
              "      <td>0.161993</td>\n",
              "    </tr>\n",
              "    <tr>\n",
              "      <th>26708</th>\n",
              "      <td>0.5</td>\n",
              "      <td>0.035344</td>\n",
              "      <td>0.054619</td>\n",
              "    </tr>\n",
              "    <tr>\n",
              "      <th>26709</th>\n",
              "      <td>0.5</td>\n",
              "      <td>0.756582</td>\n",
              "      <td>0.299887</td>\n",
              "    </tr>\n",
              "    <tr>\n",
              "      <th>26710</th>\n",
              "      <td>0.5</td>\n",
              "      <td>0.892578</td>\n",
              "      <td>0.817990</td>\n",
              "    </tr>\n",
              "    <tr>\n",
              "      <th>26711</th>\n",
              "      <td>0.5</td>\n",
              "      <td>0.365941</td>\n",
              "      <td>0.396131</td>\n",
              "    </tr>\n",
              "  </tbody>\n",
              "</table>\n",
              "</div>\n",
              "    <div class=\"colab-df-buttons\">\n",
              "\n",
              "  <div class=\"colab-df-container\">\n",
              "    <button class=\"colab-df-convert\" onclick=\"convertToInteractive('df-478d36d4-34bd-47ac-a1e5-4de74815b3a9')\"\n",
              "            title=\"Convert this dataframe to an interactive table.\"\n",
              "            style=\"display:none;\">\n",
              "\n",
              "  <svg xmlns=\"http://www.w3.org/2000/svg\" height=\"24px\" viewBox=\"0 -960 960 960\">\n",
              "    <path d=\"M120-120v-720h720v720H120Zm60-500h600v-160H180v160Zm220 220h160v-160H400v160Zm0 220h160v-160H400v160ZM180-400h160v-160H180v160Zm440 0h160v-160H620v160ZM180-180h160v-160H180v160Zm440 0h160v-160H620v160Z\"/>\n",
              "  </svg>\n",
              "    </button>\n",
              "\n",
              "  <style>\n",
              "    .colab-df-container {\n",
              "      display:flex;\n",
              "      gap: 12px;\n",
              "    }\n",
              "\n",
              "    .colab-df-convert {\n",
              "      background-color: #E8F0FE;\n",
              "      border: none;\n",
              "      border-radius: 50%;\n",
              "      cursor: pointer;\n",
              "      display: none;\n",
              "      fill: #1967D2;\n",
              "      height: 32px;\n",
              "      padding: 0 0 0 0;\n",
              "      width: 32px;\n",
              "    }\n",
              "\n",
              "    .colab-df-convert:hover {\n",
              "      background-color: #E2EBFA;\n",
              "      box-shadow: 0px 1px 2px rgba(60, 64, 67, 0.3), 0px 1px 3px 1px rgba(60, 64, 67, 0.15);\n",
              "      fill: #174EA6;\n",
              "    }\n",
              "\n",
              "    .colab-df-buttons div {\n",
              "      margin-bottom: 4px;\n",
              "    }\n",
              "\n",
              "    [theme=dark] .colab-df-convert {\n",
              "      background-color: #3B4455;\n",
              "      fill: #D2E3FC;\n",
              "    }\n",
              "\n",
              "    [theme=dark] .colab-df-convert:hover {\n",
              "      background-color: #434B5C;\n",
              "      box-shadow: 0px 1px 3px 1px rgba(0, 0, 0, 0.15);\n",
              "      filter: drop-shadow(0px 1px 2px rgba(0, 0, 0, 0.3));\n",
              "      fill: #FFFFFF;\n",
              "    }\n",
              "  </style>\n",
              "\n",
              "    <script>\n",
              "      const buttonEl =\n",
              "        document.querySelector('#df-478d36d4-34bd-47ac-a1e5-4de74815b3a9 button.colab-df-convert');\n",
              "      buttonEl.style.display =\n",
              "        google.colab.kernel.accessAllowed ? 'block' : 'none';\n",
              "\n",
              "      async function convertToInteractive(key) {\n",
              "        const element = document.querySelector('#df-478d36d4-34bd-47ac-a1e5-4de74815b3a9');\n",
              "        const dataTable =\n",
              "          await google.colab.kernel.invokeFunction('convertToInteractive',\n",
              "                                                    [key], {});\n",
              "        if (!dataTable) return;\n",
              "\n",
              "        const docLinkHtml = 'Like what you see? Visit the ' +\n",
              "          '<a target=\"_blank\" href=https://colab.research.google.com/notebooks/data_table.ipynb>data table notebook</a>'\n",
              "          + ' to learn more about interactive tables.';\n",
              "        element.innerHTML = '';\n",
              "        dataTable['output_type'] = 'display_data';\n",
              "        await google.colab.output.renderOutput(dataTable, element);\n",
              "        const docLink = document.createElement('div');\n",
              "        docLink.innerHTML = docLinkHtml;\n",
              "        element.appendChild(docLink);\n",
              "      }\n",
              "    </script>\n",
              "  </div>\n",
              "\n",
              "\n",
              "<div id=\"df-0739b202-a935-40be-acc1-989478839bd0\">\n",
              "  <button class=\"colab-df-quickchart\" onclick=\"quickchart('df-0739b202-a935-40be-acc1-989478839bd0')\"\n",
              "            title=\"Suggest charts\"\n",
              "            style=\"display:none;\">\n",
              "\n",
              "<svg xmlns=\"http://www.w3.org/2000/svg\" height=\"24px\"viewBox=\"0 0 24 24\"\n",
              "     width=\"24px\">\n",
              "    <g>\n",
              "        <path d=\"M19 3H5c-1.1 0-2 .9-2 2v14c0 1.1.9 2 2 2h14c1.1 0 2-.9 2-2V5c0-1.1-.9-2-2-2zM9 17H7v-7h2v7zm4 0h-2V7h2v10zm4 0h-2v-4h2v4z\"/>\n",
              "    </g>\n",
              "</svg>\n",
              "  </button>\n",
              "\n",
              "<style>\n",
              "  .colab-df-quickchart {\n",
              "      --bg-color: #E8F0FE;\n",
              "      --fill-color: #1967D2;\n",
              "      --hover-bg-color: #E2EBFA;\n",
              "      --hover-fill-color: #174EA6;\n",
              "      --disabled-fill-color: #AAA;\n",
              "      --disabled-bg-color: #DDD;\n",
              "  }\n",
              "\n",
              "  [theme=dark] .colab-df-quickchart {\n",
              "      --bg-color: #3B4455;\n",
              "      --fill-color: #D2E3FC;\n",
              "      --hover-bg-color: #434B5C;\n",
              "      --hover-fill-color: #FFFFFF;\n",
              "      --disabled-bg-color: #3B4455;\n",
              "      --disabled-fill-color: #666;\n",
              "  }\n",
              "\n",
              "  .colab-df-quickchart {\n",
              "    background-color: var(--bg-color);\n",
              "    border: none;\n",
              "    border-radius: 50%;\n",
              "    cursor: pointer;\n",
              "    display: none;\n",
              "    fill: var(--fill-color);\n",
              "    height: 32px;\n",
              "    padding: 0;\n",
              "    width: 32px;\n",
              "  }\n",
              "\n",
              "  .colab-df-quickchart:hover {\n",
              "    background-color: var(--hover-bg-color);\n",
              "    box-shadow: 0 1px 2px rgba(60, 64, 67, 0.3), 0 1px 3px 1px rgba(60, 64, 67, 0.15);\n",
              "    fill: var(--button-hover-fill-color);\n",
              "  }\n",
              "\n",
              "  .colab-df-quickchart-complete:disabled,\n",
              "  .colab-df-quickchart-complete:disabled:hover {\n",
              "    background-color: var(--disabled-bg-color);\n",
              "    fill: var(--disabled-fill-color);\n",
              "    box-shadow: none;\n",
              "  }\n",
              "\n",
              "  .colab-df-spinner {\n",
              "    border: 2px solid var(--fill-color);\n",
              "    border-color: transparent;\n",
              "    border-bottom-color: var(--fill-color);\n",
              "    animation:\n",
              "      spin 1s steps(1) infinite;\n",
              "  }\n",
              "\n",
              "  @keyframes spin {\n",
              "    0% {\n",
              "      border-color: transparent;\n",
              "      border-bottom-color: var(--fill-color);\n",
              "      border-left-color: var(--fill-color);\n",
              "    }\n",
              "    20% {\n",
              "      border-color: transparent;\n",
              "      border-left-color: var(--fill-color);\n",
              "      border-top-color: var(--fill-color);\n",
              "    }\n",
              "    30% {\n",
              "      border-color: transparent;\n",
              "      border-left-color: var(--fill-color);\n",
              "      border-top-color: var(--fill-color);\n",
              "      border-right-color: var(--fill-color);\n",
              "    }\n",
              "    40% {\n",
              "      border-color: transparent;\n",
              "      border-right-color: var(--fill-color);\n",
              "      border-top-color: var(--fill-color);\n",
              "    }\n",
              "    60% {\n",
              "      border-color: transparent;\n",
              "      border-right-color: var(--fill-color);\n",
              "    }\n",
              "    80% {\n",
              "      border-color: transparent;\n",
              "      border-right-color: var(--fill-color);\n",
              "      border-bottom-color: var(--fill-color);\n",
              "    }\n",
              "    90% {\n",
              "      border-color: transparent;\n",
              "      border-bottom-color: var(--fill-color);\n",
              "    }\n",
              "  }\n",
              "</style>\n",
              "\n",
              "  <script>\n",
              "    async function quickchart(key) {\n",
              "      const quickchartButtonEl =\n",
              "        document.querySelector('#' + key + ' button');\n",
              "      quickchartButtonEl.disabled = true;  // To prevent multiple clicks.\n",
              "      quickchartButtonEl.classList.add('colab-df-spinner');\n",
              "      try {\n",
              "        const charts = await google.colab.kernel.invokeFunction(\n",
              "            'suggestCharts', [key], {});\n",
              "      } catch (error) {\n",
              "        console.error('Error during call to suggestCharts:', error);\n",
              "      }\n",
              "      quickchartButtonEl.classList.remove('colab-df-spinner');\n",
              "      quickchartButtonEl.classList.add('colab-df-quickchart-complete');\n",
              "    }\n",
              "    (() => {\n",
              "      let quickchartButtonEl =\n",
              "        document.querySelector('#df-0739b202-a935-40be-acc1-989478839bd0 button');\n",
              "      quickchartButtonEl.style.display =\n",
              "        google.colab.kernel.accessAllowed ? 'block' : 'none';\n",
              "    })();\n",
              "  </script>\n",
              "</div>\n",
              "\n",
              "    </div>\n",
              "  </div>\n"
            ],
            "application/vnd.google.colaboratory.intrinsic+json": {
              "type": "dataframe",
              "variable_name": "submission_df",
              "summary": "{\n  \"name\": \"submission_df\",\n  \"rows\": 26708,\n  \"fields\": [\n    {\n      \"column\": \"respondent_id\",\n      \"properties\": {\n        \"dtype\": \"number\",\n        \"std\": 7710,\n        \"min\": 26707,\n        \"max\": 53414,\n        \"num_unique_values\": 26708,\n        \"samples\": [\n          33620,\n          38318,\n          43223\n        ],\n        \"semantic_type\": \"\",\n        \"description\": \"\"\n      }\n    },\n    {\n      \"column\": \"h1n1_vaccine\",\n      \"properties\": {\n        \"dtype\": \"number\",\n        \"std\": 0.0,\n        \"min\": 0.5,\n        \"max\": 0.5,\n        \"num_unique_values\": 1,\n        \"samples\": [\n          0.5\n        ],\n        \"semantic_type\": \"\",\n        \"description\": \"\"\n      }\n    },\n    {\n      \"column\": \"seasonal_vaccine\",\n      \"properties\": {\n        \"dtype\": \"number\",\n        \"std\": 0.3233913982337685,\n        \"min\": 0.002143229172631526,\n        \"max\": 0.9957831430322884,\n        \"num_unique_values\": 26708,\n        \"samples\": [\n          0.0345232241305865\n        ],\n        \"semantic_type\": \"\",\n        \"description\": \"\"\n      }\n    },\n    {\n      \"column\": \"xyz_vaccine\",\n      \"properties\": {\n        \"dtype\": \"number\",\n        \"std\": 0.27936100372754646,\n        \"min\": 0.0018639534366180503,\n        \"max\": 0.9934630017500683,\n        \"num_unique_values\": 26708,\n        \"samples\": [\n          0.0393903622300492\n        ],\n        \"semantic_type\": \"\",\n        \"description\": \"\"\n      }\n    }\n  ]\n}"
            }
          },
          "metadata": {},
          "execution_count": 45
        }
      ]
    },
    {
      "cell_type": "code",
      "source": [
        "date = pd.Timestamp.now().strftime(format='%Y-%m-%d_%H-%M_')\n",
        "submission_df.to_csv(f'submssion.csv', index=True)"
      ],
      "metadata": {
        "id": "y-66HfgJ6Ysv"
      },
      "execution_count": 49,
      "outputs": []
    },
    {
      "cell_type": "code",
      "source": [],
      "metadata": {
        "id": "4ZoYrHP66jcQ"
      },
      "execution_count": null,
      "outputs": []
    }
  ]
}